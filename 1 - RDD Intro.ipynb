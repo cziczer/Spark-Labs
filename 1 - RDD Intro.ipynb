{
 "cells": [
  {
   "cell_type": "markdown",
   "metadata": {},
   "source": [
    "# Introduction to Apache Spark Resilient Distributed Datasets (RDD)"
   ]
  },
  {
   "cell_type": "markdown",
   "metadata": {},
   "source": [
    "### Initialization ###\n",
    "Starting Spark session:"
   ]
  },
  {
   "cell_type": "code",
   "execution_count": 1,
   "metadata": {},
   "outputs": [
    {
     "name": "stderr",
     "output_type": "stream",
     "text": [
      "Setting default log level to \"WARN\".\n",
      "To adjust logging level use sc.setLogLevel(newLevel). For SparkR, use setLogLevel(newLevel).\n"
     ]
    },
    {
     "name": "stdout",
     "output_type": "stream",
     "text": [
      "22/10/24 19:54:08 WARN NativeCodeLoader: Unable to load native-hadoop library for your platform... using builtin-java classes where applicable\n"
     ]
    }
   ],
   "source": [
    "from pyspark.sql import SparkSession\n",
    "spark = SparkSession.builder.getOrCreate()"
   ]
  },
  {
   "cell_type": "code",
   "execution_count": 2,
   "metadata": {},
   "outputs": [
    {
     "data": {
      "text/html": [
       "\n",
       "            <div>\n",
       "                <p><b>SparkSession - in-memory</b></p>\n",
       "                \n",
       "        <div>\n",
       "            <p><b>SparkContext</b></p>\n",
       "\n",
       "            <p><a href=\"http://192.168.0.241:4040\">Spark UI</a></p>\n",
       "\n",
       "            <dl>\n",
       "              <dt>Version</dt>\n",
       "                <dd><code>v3.3.0</code></dd>\n",
       "              <dt>Master</dt>\n",
       "                <dd><code>local[*]</code></dd>\n",
       "              <dt>AppName</dt>\n",
       "                <dd><code>pyspark-shell</code></dd>\n",
       "            </dl>\n",
       "        </div>\n",
       "        \n",
       "            </div>\n",
       "        "
      ],
      "text/plain": [
       "<pyspark.sql.session.SparkSession at 0x7fdf485c39a0>"
      ]
     },
     "execution_count": 2,
     "metadata": {},
     "output_type": "execute_result"
    }
   ],
   "source": [
    "spark"
   ]
  },
  {
   "cell_type": "code",
   "execution_count": 3,
   "metadata": {},
   "outputs": [],
   "source": [
    "sc = spark.sparkContext"
   ]
  },
  {
   "cell_type": "markdown",
   "metadata": {},
   "source": [
    "### Reading text files"
   ]
  },
  {
   "cell_type": "markdown",
   "metadata": {},
   "source": [
    "Download a file locally (just for the demo, for larger files use HDFS or S3):"
   ]
  },
  {
   "cell_type": "code",
   "execution_count": 4,
   "metadata": {},
   "outputs": [],
   "source": [
    "import urllib.request"
   ]
  },
  {
   "cell_type": "code",
   "execution_count": 5,
   "metadata": {
    "scrolled": true
   },
   "outputs": [],
   "source": [
    "# urllib.request.urlretrieve(\"http://raw.githubusercontent.com/elastic/examples/master/Common%20Data%20Formats/apache_logs/apache_logs\",\"apache_logs\")"
   ]
  },
  {
   "cell_type": "markdown",
   "metadata": {},
   "source": [
    "Create a first RDD"
   ]
  },
  {
   "cell_type": "code",
   "execution_count": 6,
   "metadata": {},
   "outputs": [],
   "source": [
    "lines = sc.textFile(\"apache_logs\")"
   ]
  },
  {
   "cell_type": "markdown",
   "metadata": {},
   "source": [
    "Perform a *transformation*"
   ]
  },
  {
   "cell_type": "code",
   "execution_count": 7,
   "metadata": {},
   "outputs": [],
   "source": [
    "lineLengths = lines.map(lambda s: len(s))"
   ]
  },
  {
   "cell_type": "markdown",
   "metadata": {},
   "source": [
    "Perform an *action*"
   ]
  },
  {
   "cell_type": "code",
   "execution_count": 8,
   "metadata": {},
   "outputs": [
    {
     "name": "stderr",
     "output_type": "stream",
     "text": [
      "                                                                                \r"
     ]
    }
   ],
   "source": [
    "totalLength = lineLengths.reduce(lambda a, b: a + b)"
   ]
  },
  {
   "cell_type": "markdown",
   "metadata": {},
   "source": [
    "Finally evaluate (laziness!)"
   ]
  },
  {
   "cell_type": "code",
   "execution_count": 9,
   "metadata": {},
   "outputs": [
    {
     "data": {
      "text/plain": [
       "2360789"
      ]
     },
     "execution_count": 9,
     "metadata": {},
     "output_type": "execute_result"
    }
   ],
   "source": [
    "totalLength"
   ]
  },
  {
   "cell_type": "markdown",
   "metadata": {},
   "source": [
    "### Custom functions"
   ]
  },
  {
   "cell_type": "code",
   "execution_count": 10,
   "metadata": {},
   "outputs": [],
   "source": [
    "def myFunc(s):\n",
    "    words = s.split(\" \")\n",
    "    return len(words)"
   ]
  },
  {
   "cell_type": "code",
   "execution_count": 11,
   "metadata": {},
   "outputs": [],
   "source": [
    "wordCounts = lines.map(myFunc)"
   ]
  },
  {
   "cell_type": "code",
   "execution_count": 12,
   "metadata": {},
   "outputs": [
    {
     "data": {
      "text/plain": [
       "43"
      ]
     },
     "execution_count": 12,
     "metadata": {},
     "output_type": "execute_result"
    }
   ],
   "source": [
    "wordCounts.max()"
   ]
  },
  {
   "cell_type": "code",
   "execution_count": 13,
   "metadata": {},
   "outputs": [
    {
     "name": "stdout",
     "output_type": "stream",
     "text": [
      "22/10/24 19:54:18 ERROR Executor: Exception in task 0.0 in stage 2.0 (TID 4)\n",
      "org.apache.spark.api.python.PythonException: Traceback (most recent call last):\n",
      "  File \"/Users/mmastalerczyk/opt/anaconda3/envs/umap2/lib/python3.9/site-packages/pyspark/python/lib/pyspark.zip/pyspark/worker.py\", line 668, in main\n",
      "    func, profiler, deserializer, serializer = read_command(pickleSer, infile)\n",
      "  File \"/Users/mmastalerczyk/opt/anaconda3/envs/umap2/lib/python3.9/site-packages/pyspark/python/lib/pyspark.zip/pyspark/worker.py\", line 85, in read_command\n",
      "    command = serializer._read_with_length(file)\n",
      "  File \"/Users/mmastalerczyk/opt/anaconda3/envs/umap2/lib/python3.9/site-packages/pyspark/python/lib/pyspark.zip/pyspark/serializers.py\", line 173, in _read_with_length\n",
      "    return self.loads(obj)\n",
      "  File \"/Users/mmastalerczyk/opt/anaconda3/envs/umap2/lib/python3.9/site-packages/pyspark/python/lib/pyspark.zip/pyspark/serializers.py\", line 471, in loads\n",
      "    return cloudpickle.loads(obj, encoding=encoding)\n",
      "AttributeError: 'ForwardRef' object has no attribute '__forward_is_class__'\n",
      "\n",
      "\tat org.apache.spark.api.python.BasePythonRunner$ReaderIterator.handlePythonException(PythonRunner.scala:559)\n",
      "\tat org.apache.spark.api.python.PythonRunner$$anon$3.read(PythonRunner.scala:765)\n",
      "\tat org.apache.spark.api.python.PythonRunner$$anon$3.read(PythonRunner.scala:747)\n",
      "\tat org.apache.spark.api.python.BasePythonRunner$ReaderIterator.hasNext(PythonRunner.scala:512)\n",
      "\tat org.apache.spark.InterruptibleIterator.hasNext(InterruptibleIterator.scala:37)\n",
      "\tat scala.collection.Iterator.foreach(Iterator.scala:943)\n",
      "\tat scala.collection.Iterator.foreach$(Iterator.scala:943)\n",
      "\tat org.apache.spark.InterruptibleIterator.foreach(InterruptibleIterator.scala:28)\n",
      "\tat scala.collection.generic.Growable.$plus$plus$eq(Growable.scala:62)\n",
      "\tat scala.collection.generic.Growable.$plus$plus$eq$(Growable.scala:53)\n",
      "\tat scala.collection.mutable.ArrayBuffer.$plus$plus$eq(ArrayBuffer.scala:105)\n",
      "\tat scala.collection.mutable.ArrayBuffer.$plus$plus$eq(ArrayBuffer.scala:49)\n",
      "\tat scala.collection.TraversableOnce.to(TraversableOnce.scala:366)\n",
      "\tat scala.collection.TraversableOnce.to$(TraversableOnce.scala:364)\n",
      "\tat org.apache.spark.InterruptibleIterator.to(InterruptibleIterator.scala:28)\n",
      "\tat scala.collection.TraversableOnce.toBuffer(TraversableOnce.scala:358)\n",
      "\tat scala.collection.TraversableOnce.toBuffer$(TraversableOnce.scala:358)\n",
      "\tat org.apache.spark.InterruptibleIterator.toBuffer(InterruptibleIterator.scala:28)\n",
      "\tat scala.collection.TraversableOnce.toArray(TraversableOnce.scala:345)\n",
      "\tat scala.collection.TraversableOnce.toArray$(TraversableOnce.scala:339)\n",
      "\tat org.apache.spark.InterruptibleIterator.toArray(InterruptibleIterator.scala:28)\n",
      "\tat org.apache.spark.rdd.RDD.$anonfun$collect$2(RDD.scala:1021)\n",
      "\tat org.apache.spark.SparkContext.$anonfun$runJob$5(SparkContext.scala:2268)\n",
      "\tat org.apache.spark.scheduler.ResultTask.runTask(ResultTask.scala:90)\n",
      "\tat org.apache.spark.scheduler.Task.run(Task.scala:136)\n",
      "\tat org.apache.spark.executor.Executor$TaskRunner.$anonfun$run$3(Executor.scala:548)\n",
      "\tat org.apache.spark.util.Utils$.tryWithSafeFinally(Utils.scala:1504)\n",
      "\tat org.apache.spark.executor.Executor$TaskRunner.run(Executor.scala:551)\n",
      "\tat java.base/java.util.concurrent.ThreadPoolExecutor.runWorker(ThreadPoolExecutor.java:1128)\n",
      "\tat java.base/java.util.concurrent.ThreadPoolExecutor$Worker.run(ThreadPoolExecutor.java:628)\n",
      "\tat java.base/java.lang.Thread.run(Thread.java:829)\n",
      "22/10/24 19:54:18 ERROR Executor: Exception in task 1.0 in stage 2.0 (TID 5)\n",
      "org.apache.spark.api.python.PythonException: Traceback (most recent call last):\n",
      "  File \"/Users/mmastalerczyk/opt/anaconda3/envs/umap2/lib/python3.9/site-packages/pyspark/python/lib/pyspark.zip/pyspark/worker.py\", line 668, in main\n",
      "    func, profiler, deserializer, serializer = read_command(pickleSer, infile)\n",
      "  File \"/Users/mmastalerczyk/opt/anaconda3/envs/umap2/lib/python3.9/site-packages/pyspark/python/lib/pyspark.zip/pyspark/worker.py\", line 85, in read_command\n",
      "    command = serializer._read_with_length(file)\n",
      "  File \"/Users/mmastalerczyk/opt/anaconda3/envs/umap2/lib/python3.9/site-packages/pyspark/python/lib/pyspark.zip/pyspark/serializers.py\", line 173, in _read_with_length\n",
      "    return self.loads(obj)\n",
      "  File \"/Users/mmastalerczyk/opt/anaconda3/envs/umap2/lib/python3.9/site-packages/pyspark/python/lib/pyspark.zip/pyspark/serializers.py\", line 471, in loads\n",
      "    return cloudpickle.loads(obj, encoding=encoding)\n",
      "AttributeError: 'ForwardRef' object has no attribute '__forward_is_class__'\n",
      "\n",
      "\tat org.apache.spark.api.python.BasePythonRunner$ReaderIterator.handlePythonException(PythonRunner.scala:559)\n",
      "\tat org.apache.spark.api.python.PythonRunner$$anon$3.read(PythonRunner.scala:765)\n",
      "\tat org.apache.spark.api.python.PythonRunner$$anon$3.read(PythonRunner.scala:747)\n",
      "\tat org.apache.spark.api.python.BasePythonRunner$ReaderIterator.hasNext(PythonRunner.scala:512)\n",
      "\tat org.apache.spark.InterruptibleIterator.hasNext(InterruptibleIterator.scala:37)\n",
      "\tat scala.collection.Iterator.foreach(Iterator.scala:943)\n",
      "\tat scala.collection.Iterator.foreach$(Iterator.scala:943)\n",
      "\tat org.apache.spark.InterruptibleIterator.foreach(InterruptibleIterator.scala:28)\n",
      "\tat scala.collection.generic.Growable.$plus$plus$eq(Growable.scala:62)\n",
      "\tat scala.collection.generic.Growable.$plus$plus$eq$(Growable.scala:53)\n",
      "\tat scala.collection.mutable.ArrayBuffer.$plus$plus$eq(ArrayBuffer.scala:105)\n",
      "\tat scala.collection.mutable.ArrayBuffer.$plus$plus$eq(ArrayBuffer.scala:49)\n",
      "\tat scala.collection.TraversableOnce.to(TraversableOnce.scala:366)\n",
      "\tat scala.collection.TraversableOnce.to$(TraversableOnce.scala:364)\n",
      "\tat org.apache.spark.InterruptibleIterator.to(InterruptibleIterator.scala:28)\n",
      "\tat scala.collection.TraversableOnce.toBuffer(TraversableOnce.scala:358)\n",
      "\tat scala.collection.TraversableOnce.toBuffer$(TraversableOnce.scala:358)\n",
      "\tat org.apache.spark.InterruptibleIterator.toBuffer(InterruptibleIterator.scala:28)\n",
      "\tat scala.collection.TraversableOnce.toArray(TraversableOnce.scala:345)\n",
      "\tat scala.collection.TraversableOnce.toArray$(TraversableOnce.scala:339)\n",
      "\tat org.apache.spark.InterruptibleIterator.toArray(InterruptibleIterator.scala:28)\n",
      "\tat org.apache.spark.rdd.RDD.$anonfun$collect$2(RDD.scala:1021)\n",
      "\tat org.apache.spark.SparkContext.$anonfun$runJob$5(SparkContext.scala:2268)\n",
      "\tat org.apache.spark.scheduler.ResultTask.runTask(ResultTask.scala:90)\n",
      "\tat org.apache.spark.scheduler.Task.run(Task.scala:136)\n",
      "\tat org.apache.spark.executor.Executor$TaskRunner.$anonfun$run$3(Executor.scala:548)\n",
      "\tat org.apache.spark.util.Utils$.tryWithSafeFinally(Utils.scala:1504)\n",
      "\tat org.apache.spark.executor.Executor$TaskRunner.run(Executor.scala:551)\n",
      "\tat java.base/java.util.concurrent.ThreadPoolExecutor.runWorker(ThreadPoolExecutor.java:1128)\n",
      "\tat java.base/java.util.concurrent.ThreadPoolExecutor$Worker.run(ThreadPoolExecutor.java:628)\n",
      "\tat java.base/java.lang.Thread.run(Thread.java:829)\n",
      "22/10/24 19:54:18 WARN TaskSetManager: Lost task 1.0 in stage 2.0 (TID 5) (192.168.0.241 executor driver): org.apache.spark.api.python.PythonException: Traceback (most recent call last):\n",
      "  File \"/Users/mmastalerczyk/opt/anaconda3/envs/umap2/lib/python3.9/site-packages/pyspark/python/lib/pyspark.zip/pyspark/worker.py\", line 668, in main\n",
      "    func, profiler, deserializer, serializer = read_command(pickleSer, infile)\n",
      "  File \"/Users/mmastalerczyk/opt/anaconda3/envs/umap2/lib/python3.9/site-packages/pyspark/python/lib/pyspark.zip/pyspark/worker.py\", line 85, in read_command\n",
      "    command = serializer._read_with_length(file)\n",
      "  File \"/Users/mmastalerczyk/opt/anaconda3/envs/umap2/lib/python3.9/site-packages/pyspark/python/lib/pyspark.zip/pyspark/serializers.py\", line 173, in _read_with_length\n",
      "    return self.loads(obj)\n",
      "  File \"/Users/mmastalerczyk/opt/anaconda3/envs/umap2/lib/python3.9/site-packages/pyspark/python/lib/pyspark.zip/pyspark/serializers.py\", line 471, in loads\n",
      "    return cloudpickle.loads(obj, encoding=encoding)\n",
      "AttributeError: 'ForwardRef' object has no attribute '__forward_is_class__'\n",
      "\n",
      "\tat org.apache.spark.api.python.BasePythonRunner$ReaderIterator.handlePythonException(PythonRunner.scala:559)\n",
      "\tat org.apache.spark.api.python.PythonRunner$$anon$3.read(PythonRunner.scala:765)\n",
      "\tat org.apache.spark.api.python.PythonRunner$$anon$3.read(PythonRunner.scala:747)\n",
      "\tat org.apache.spark.api.python.BasePythonRunner$ReaderIterator.hasNext(PythonRunner.scala:512)\n",
      "\tat org.apache.spark.InterruptibleIterator.hasNext(InterruptibleIterator.scala:37)\n",
      "\tat scala.collection.Iterator.foreach(Iterator.scala:943)\n",
      "\tat scala.collection.Iterator.foreach$(Iterator.scala:943)\n",
      "\tat org.apache.spark.InterruptibleIterator.foreach(InterruptibleIterator.scala:28)\n",
      "\tat scala.collection.generic.Growable.$plus$plus$eq(Growable.scala:62)\n",
      "\tat scala.collection.generic.Growable.$plus$plus$eq$(Growable.scala:53)\n",
      "\tat scala.collection.mutable.ArrayBuffer.$plus$plus$eq(ArrayBuffer.scala:105)\n",
      "\tat scala.collection.mutable.ArrayBuffer.$plus$plus$eq(ArrayBuffer.scala:49)\n",
      "\tat scala.collection.TraversableOnce.to(TraversableOnce.scala:366)\n",
      "\tat scala.collection.TraversableOnce.to$(TraversableOnce.scala:364)\n",
      "\tat org.apache.spark.InterruptibleIterator.to(InterruptibleIterator.scala:28)\n",
      "\tat scala.collection.TraversableOnce.toBuffer(TraversableOnce.scala:358)\n",
      "\tat scala.collection.TraversableOnce.toBuffer$(TraversableOnce.scala:358)\n",
      "\tat org.apache.spark.InterruptibleIterator.toBuffer(InterruptibleIterator.scala:28)\n",
      "\tat scala.collection.TraversableOnce.toArray(TraversableOnce.scala:345)\n",
      "\tat scala.collection.TraversableOnce.toArray$(TraversableOnce.scala:339)\n",
      "\tat org.apache.spark.InterruptibleIterator.toArray(InterruptibleIterator.scala:28)\n",
      "\tat org.apache.spark.rdd.RDD.$anonfun$collect$2(RDD.scala:1021)\n",
      "\tat org.apache.spark.SparkContext.$anonfun$runJob$5(SparkContext.scala:2268)\n",
      "\tat org.apache.spark.scheduler.ResultTask.runTask(ResultTask.scala:90)\n",
      "\tat org.apache.spark.scheduler.Task.run(Task.scala:136)\n",
      "\tat org.apache.spark.executor.Executor$TaskRunner.$anonfun$run$3(Executor.scala:548)\n",
      "\tat org.apache.spark.util.Utils$.tryWithSafeFinally(Utils.scala:1504)\n",
      "\tat org.apache.spark.executor.Executor$TaskRunner.run(Executor.scala:551)\n",
      "\tat java.base/java.util.concurrent.ThreadPoolExecutor.runWorker(ThreadPoolExecutor.java:1128)\n",
      "\tat java.base/java.util.concurrent.ThreadPoolExecutor$Worker.run(ThreadPoolExecutor.java:628)\n",
      "\tat java.base/java.lang.Thread.run(Thread.java:829)\n",
      "\n",
      "22/10/24 19:54:18 ERROR TaskSetManager: Task 1 in stage 2.0 failed 1 times; aborting job\n"
     ]
    },
    {
     "ename": "Py4JJavaError",
     "evalue": "An error occurred while calling z:org.apache.spark.api.python.PythonRDD.collectAndServe.\n: org.apache.spark.SparkException: Job aborted due to stage failure: Task 1 in stage 2.0 failed 1 times, most recent failure: Lost task 1.0 in stage 2.0 (TID 5) (192.168.0.241 executor driver): org.apache.spark.api.python.PythonException: Traceback (most recent call last):\n  File \"/Users/mmastalerczyk/opt/anaconda3/envs/umap2/lib/python3.9/site-packages/pyspark/python/lib/pyspark.zip/pyspark/worker.py\", line 668, in main\n    func, profiler, deserializer, serializer = read_command(pickleSer, infile)\n  File \"/Users/mmastalerczyk/opt/anaconda3/envs/umap2/lib/python3.9/site-packages/pyspark/python/lib/pyspark.zip/pyspark/worker.py\", line 85, in read_command\n    command = serializer._read_with_length(file)\n  File \"/Users/mmastalerczyk/opt/anaconda3/envs/umap2/lib/python3.9/site-packages/pyspark/python/lib/pyspark.zip/pyspark/serializers.py\", line 173, in _read_with_length\n    return self.loads(obj)\n  File \"/Users/mmastalerczyk/opt/anaconda3/envs/umap2/lib/python3.9/site-packages/pyspark/python/lib/pyspark.zip/pyspark/serializers.py\", line 471, in loads\n    return cloudpickle.loads(obj, encoding=encoding)\nAttributeError: 'ForwardRef' object has no attribute '__forward_is_class__'\n\n\tat org.apache.spark.api.python.BasePythonRunner$ReaderIterator.handlePythonException(PythonRunner.scala:559)\n\tat org.apache.spark.api.python.PythonRunner$$anon$3.read(PythonRunner.scala:765)\n\tat org.apache.spark.api.python.PythonRunner$$anon$3.read(PythonRunner.scala:747)\n\tat org.apache.spark.api.python.BasePythonRunner$ReaderIterator.hasNext(PythonRunner.scala:512)\n\tat org.apache.spark.InterruptibleIterator.hasNext(InterruptibleIterator.scala:37)\n\tat scala.collection.Iterator.foreach(Iterator.scala:943)\n\tat scala.collection.Iterator.foreach$(Iterator.scala:943)\n\tat org.apache.spark.InterruptibleIterator.foreach(InterruptibleIterator.scala:28)\n\tat scala.collection.generic.Growable.$plus$plus$eq(Growable.scala:62)\n\tat scala.collection.generic.Growable.$plus$plus$eq$(Growable.scala:53)\n\tat scala.collection.mutable.ArrayBuffer.$plus$plus$eq(ArrayBuffer.scala:105)\n\tat scala.collection.mutable.ArrayBuffer.$plus$plus$eq(ArrayBuffer.scala:49)\n\tat scala.collection.TraversableOnce.to(TraversableOnce.scala:366)\n\tat scala.collection.TraversableOnce.to$(TraversableOnce.scala:364)\n\tat org.apache.spark.InterruptibleIterator.to(InterruptibleIterator.scala:28)\n\tat scala.collection.TraversableOnce.toBuffer(TraversableOnce.scala:358)\n\tat scala.collection.TraversableOnce.toBuffer$(TraversableOnce.scala:358)\n\tat org.apache.spark.InterruptibleIterator.toBuffer(InterruptibleIterator.scala:28)\n\tat scala.collection.TraversableOnce.toArray(TraversableOnce.scala:345)\n\tat scala.collection.TraversableOnce.toArray$(TraversableOnce.scala:339)\n\tat org.apache.spark.InterruptibleIterator.toArray(InterruptibleIterator.scala:28)\n\tat org.apache.spark.rdd.RDD.$anonfun$collect$2(RDD.scala:1021)\n\tat org.apache.spark.SparkContext.$anonfun$runJob$5(SparkContext.scala:2268)\n\tat org.apache.spark.scheduler.ResultTask.runTask(ResultTask.scala:90)\n\tat org.apache.spark.scheduler.Task.run(Task.scala:136)\n\tat org.apache.spark.executor.Executor$TaskRunner.$anonfun$run$3(Executor.scala:548)\n\tat org.apache.spark.util.Utils$.tryWithSafeFinally(Utils.scala:1504)\n\tat org.apache.spark.executor.Executor$TaskRunner.run(Executor.scala:551)\n\tat java.base/java.util.concurrent.ThreadPoolExecutor.runWorker(ThreadPoolExecutor.java:1128)\n\tat java.base/java.util.concurrent.ThreadPoolExecutor$Worker.run(ThreadPoolExecutor.java:628)\n\tat java.base/java.lang.Thread.run(Thread.java:829)\n\nDriver stacktrace:\n\tat org.apache.spark.scheduler.DAGScheduler.failJobAndIndependentStages(DAGScheduler.scala:2672)\n\tat org.apache.spark.scheduler.DAGScheduler.$anonfun$abortStage$2(DAGScheduler.scala:2608)\n\tat org.apache.spark.scheduler.DAGScheduler.$anonfun$abortStage$2$adapted(DAGScheduler.scala:2607)\n\tat scala.collection.mutable.ResizableArray.foreach(ResizableArray.scala:62)\n\tat scala.collection.mutable.ResizableArray.foreach$(ResizableArray.scala:55)\n\tat scala.collection.mutable.ArrayBuffer.foreach(ArrayBuffer.scala:49)\n\tat org.apache.spark.scheduler.DAGScheduler.abortStage(DAGScheduler.scala:2607)\n\tat org.apache.spark.scheduler.DAGScheduler.$anonfun$handleTaskSetFailed$1(DAGScheduler.scala:1182)\n\tat org.apache.spark.scheduler.DAGScheduler.$anonfun$handleTaskSetFailed$1$adapted(DAGScheduler.scala:1182)\n\tat scala.Option.foreach(Option.scala:407)\n\tat org.apache.spark.scheduler.DAGScheduler.handleTaskSetFailed(DAGScheduler.scala:1182)\n\tat org.apache.spark.scheduler.DAGSchedulerEventProcessLoop.doOnReceive(DAGScheduler.scala:2860)\n\tat org.apache.spark.scheduler.DAGSchedulerEventProcessLoop.onReceive(DAGScheduler.scala:2802)\n\tat org.apache.spark.scheduler.DAGSchedulerEventProcessLoop.onReceive(DAGScheduler.scala:2791)\n\tat org.apache.spark.util.EventLoop$$anon$1.run(EventLoop.scala:49)\n\tat org.apache.spark.scheduler.DAGScheduler.runJob(DAGScheduler.scala:952)\n\tat org.apache.spark.SparkContext.runJob(SparkContext.scala:2228)\n\tat org.apache.spark.SparkContext.runJob(SparkContext.scala:2249)\n\tat org.apache.spark.SparkContext.runJob(SparkContext.scala:2268)\n\tat org.apache.spark.SparkContext.runJob(SparkContext.scala:2293)\n\tat org.apache.spark.rdd.RDD.$anonfun$collect$1(RDD.scala:1021)\n\tat org.apache.spark.rdd.RDDOperationScope$.withScope(RDDOperationScope.scala:151)\n\tat org.apache.spark.rdd.RDDOperationScope$.withScope(RDDOperationScope.scala:112)\n\tat org.apache.spark.rdd.RDD.withScope(RDD.scala:406)\n\tat org.apache.spark.rdd.RDD.collect(RDD.scala:1020)\n\tat org.apache.spark.api.python.PythonRDD$.collectAndServe(PythonRDD.scala:180)\n\tat org.apache.spark.api.python.PythonRDD.collectAndServe(PythonRDD.scala)\n\tat java.base/jdk.internal.reflect.NativeMethodAccessorImpl.invoke0(Native Method)\n\tat java.base/jdk.internal.reflect.NativeMethodAccessorImpl.invoke(NativeMethodAccessorImpl.java:62)\n\tat java.base/jdk.internal.reflect.DelegatingMethodAccessorImpl.invoke(DelegatingMethodAccessorImpl.java:43)\n\tat java.base/java.lang.reflect.Method.invoke(Method.java:566)\n\tat py4j.reflection.MethodInvoker.invoke(MethodInvoker.java:244)\n\tat py4j.reflection.ReflectionEngine.invoke(ReflectionEngine.java:357)\n\tat py4j.Gateway.invoke(Gateway.java:282)\n\tat py4j.commands.AbstractCommand.invokeMethod(AbstractCommand.java:132)\n\tat py4j.commands.CallCommand.execute(CallCommand.java:79)\n\tat py4j.ClientServerConnection.waitForCommands(ClientServerConnection.java:182)\n\tat py4j.ClientServerConnection.run(ClientServerConnection.java:106)\n\tat java.base/java.lang.Thread.run(Thread.java:829)\nCaused by: org.apache.spark.api.python.PythonException: Traceback (most recent call last):\n  File \"/Users/mmastalerczyk/opt/anaconda3/envs/umap2/lib/python3.9/site-packages/pyspark/python/lib/pyspark.zip/pyspark/worker.py\", line 668, in main\n    func, profiler, deserializer, serializer = read_command(pickleSer, infile)\n  File \"/Users/mmastalerczyk/opt/anaconda3/envs/umap2/lib/python3.9/site-packages/pyspark/python/lib/pyspark.zip/pyspark/worker.py\", line 85, in read_command\n    command = serializer._read_with_length(file)\n  File \"/Users/mmastalerczyk/opt/anaconda3/envs/umap2/lib/python3.9/site-packages/pyspark/python/lib/pyspark.zip/pyspark/serializers.py\", line 173, in _read_with_length\n    return self.loads(obj)\n  File \"/Users/mmastalerczyk/opt/anaconda3/envs/umap2/lib/python3.9/site-packages/pyspark/python/lib/pyspark.zip/pyspark/serializers.py\", line 471, in loads\n    return cloudpickle.loads(obj, encoding=encoding)\nAttributeError: 'ForwardRef' object has no attribute '__forward_is_class__'\n\n\tat org.apache.spark.api.python.BasePythonRunner$ReaderIterator.handlePythonException(PythonRunner.scala:559)\n\tat org.apache.spark.api.python.PythonRunner$$anon$3.read(PythonRunner.scala:765)\n\tat org.apache.spark.api.python.PythonRunner$$anon$3.read(PythonRunner.scala:747)\n\tat org.apache.spark.api.python.BasePythonRunner$ReaderIterator.hasNext(PythonRunner.scala:512)\n\tat org.apache.spark.InterruptibleIterator.hasNext(InterruptibleIterator.scala:37)\n\tat scala.collection.Iterator.foreach(Iterator.scala:943)\n\tat scala.collection.Iterator.foreach$(Iterator.scala:943)\n\tat org.apache.spark.InterruptibleIterator.foreach(InterruptibleIterator.scala:28)\n\tat scala.collection.generic.Growable.$plus$plus$eq(Growable.scala:62)\n\tat scala.collection.generic.Growable.$plus$plus$eq$(Growable.scala:53)\n\tat scala.collection.mutable.ArrayBuffer.$plus$plus$eq(ArrayBuffer.scala:105)\n\tat scala.collection.mutable.ArrayBuffer.$plus$plus$eq(ArrayBuffer.scala:49)\n\tat scala.collection.TraversableOnce.to(TraversableOnce.scala:366)\n\tat scala.collection.TraversableOnce.to$(TraversableOnce.scala:364)\n\tat org.apache.spark.InterruptibleIterator.to(InterruptibleIterator.scala:28)\n\tat scala.collection.TraversableOnce.toBuffer(TraversableOnce.scala:358)\n\tat scala.collection.TraversableOnce.toBuffer$(TraversableOnce.scala:358)\n\tat org.apache.spark.InterruptibleIterator.toBuffer(InterruptibleIterator.scala:28)\n\tat scala.collection.TraversableOnce.toArray(TraversableOnce.scala:345)\n\tat scala.collection.TraversableOnce.toArray$(TraversableOnce.scala:339)\n\tat org.apache.spark.InterruptibleIterator.toArray(InterruptibleIterator.scala:28)\n\tat org.apache.spark.rdd.RDD.$anonfun$collect$2(RDD.scala:1021)\n\tat org.apache.spark.SparkContext.$anonfun$runJob$5(SparkContext.scala:2268)\n\tat org.apache.spark.scheduler.ResultTask.runTask(ResultTask.scala:90)\n\tat org.apache.spark.scheduler.Task.run(Task.scala:136)\n\tat org.apache.spark.executor.Executor$TaskRunner.$anonfun$run$3(Executor.scala:548)\n\tat org.apache.spark.util.Utils$.tryWithSafeFinally(Utils.scala:1504)\n\tat org.apache.spark.executor.Executor$TaskRunner.run(Executor.scala:551)\n\tat java.base/java.util.concurrent.ThreadPoolExecutor.runWorker(ThreadPoolExecutor.java:1128)\n\tat java.base/java.util.concurrent.ThreadPoolExecutor$Worker.run(ThreadPoolExecutor.java:628)\n\t... 1 more\n",
     "output_type": "error",
     "traceback": [
      "\u001b[0;31m---------------------------------------------------------------------------\u001b[0m",
      "\u001b[0;31mPy4JJavaError\u001b[0m                             Traceback (most recent call last)",
      "Input \u001b[0;32mIn [13]\u001b[0m, in \u001b[0;36m<cell line: 1>\u001b[0;34m()\u001b[0m\n\u001b[0;32m----> 1\u001b[0m \u001b[43mwordCounts\u001b[49m\u001b[38;5;241;43m.\u001b[39;49m\u001b[43mhistogram\u001b[49m\u001b[43m(\u001b[49m\u001b[43m[\u001b[49m\u001b[38;5;241;43m0\u001b[39;49m\u001b[43m,\u001b[49m\u001b[38;5;241;43m10\u001b[39;49m\u001b[43m,\u001b[49m\u001b[38;5;241;43m20\u001b[39;49m\u001b[43m,\u001b[49m\u001b[38;5;241;43m30\u001b[39;49m\u001b[43m,\u001b[49m\u001b[38;5;241;43m40\u001b[39;49m\u001b[43m,\u001b[49m\u001b[38;5;241;43m50\u001b[39;49m\u001b[43m]\u001b[49m\u001b[43m)\u001b[49m\n",
      "File \u001b[0;32m~/opt/anaconda3/envs/umap2/lib/python3.9/site-packages/pyspark/rdd.py:1673\u001b[0m, in \u001b[0;36mRDD.histogram\u001b[0;34m(self, buckets)\u001b[0m\n\u001b[1;32m   1670\u001b[0m \u001b[38;5;28;01mdef\u001b[39;00m \u001b[38;5;21mmergeCounters\u001b[39m(a: List[\u001b[38;5;28mint\u001b[39m], b: List[\u001b[38;5;28mint\u001b[39m]) \u001b[38;5;241m-\u001b[39m\u001b[38;5;241m>\u001b[39m List[\u001b[38;5;28mint\u001b[39m]:\n\u001b[1;32m   1671\u001b[0m     \u001b[38;5;28;01mreturn\u001b[39;00m [i \u001b[38;5;241m+\u001b[39m j \u001b[38;5;28;01mfor\u001b[39;00m i, j \u001b[38;5;129;01min\u001b[39;00m \u001b[38;5;28mzip\u001b[39m(a, b)]\n\u001b[0;32m-> 1673\u001b[0m \u001b[38;5;28;01mreturn\u001b[39;00m buckets, \u001b[38;5;28;43mself\u001b[39;49m\u001b[38;5;241;43m.\u001b[39;49m\u001b[43mmapPartitions\u001b[49m\u001b[43m(\u001b[49m\u001b[43mhistogram\u001b[49m\u001b[43m)\u001b[49m\u001b[38;5;241;43m.\u001b[39;49m\u001b[43mreduce\u001b[49m\u001b[43m(\u001b[49m\u001b[43mmergeCounters\u001b[49m\u001b[43m)\u001b[49m\n",
      "File \u001b[0;32m~/opt/anaconda3/envs/umap2/lib/python3.9/site-packages/pyspark/rdd.py:1250\u001b[0m, in \u001b[0;36mRDD.reduce\u001b[0;34m(self, f)\u001b[0m\n\u001b[1;32m   1247\u001b[0m         \u001b[38;5;28;01mreturn\u001b[39;00m\n\u001b[1;32m   1248\u001b[0m     \u001b[38;5;28;01myield\u001b[39;00m reduce(f, iterator, initial)\n\u001b[0;32m-> 1250\u001b[0m vals \u001b[38;5;241m=\u001b[39m \u001b[38;5;28;43mself\u001b[39;49m\u001b[38;5;241;43m.\u001b[39;49m\u001b[43mmapPartitions\u001b[49m\u001b[43m(\u001b[49m\u001b[43mfunc\u001b[49m\u001b[43m)\u001b[49m\u001b[38;5;241;43m.\u001b[39;49m\u001b[43mcollect\u001b[49m\u001b[43m(\u001b[49m\u001b[43m)\u001b[49m\n\u001b[1;32m   1251\u001b[0m \u001b[38;5;28;01mif\u001b[39;00m vals:\n\u001b[1;32m   1252\u001b[0m     \u001b[38;5;28;01mreturn\u001b[39;00m reduce(f, vals)\n",
      "File \u001b[0;32m~/opt/anaconda3/envs/umap2/lib/python3.9/site-packages/pyspark/rdd.py:1197\u001b[0m, in \u001b[0;36mRDD.collect\u001b[0;34m(self)\u001b[0m\n\u001b[1;32m   1195\u001b[0m \u001b[38;5;28;01mwith\u001b[39;00m SCCallSiteSync(\u001b[38;5;28mself\u001b[39m\u001b[38;5;241m.\u001b[39mcontext):\n\u001b[1;32m   1196\u001b[0m     \u001b[38;5;28;01massert\u001b[39;00m \u001b[38;5;28mself\u001b[39m\u001b[38;5;241m.\u001b[39mctx\u001b[38;5;241m.\u001b[39m_jvm \u001b[38;5;129;01mis\u001b[39;00m \u001b[38;5;129;01mnot\u001b[39;00m \u001b[38;5;28;01mNone\u001b[39;00m\n\u001b[0;32m-> 1197\u001b[0m     sock_info \u001b[38;5;241m=\u001b[39m \u001b[38;5;28;43mself\u001b[39;49m\u001b[38;5;241;43m.\u001b[39;49m\u001b[43mctx\u001b[49m\u001b[38;5;241;43m.\u001b[39;49m\u001b[43m_jvm\u001b[49m\u001b[38;5;241;43m.\u001b[39;49m\u001b[43mPythonRDD\u001b[49m\u001b[38;5;241;43m.\u001b[39;49m\u001b[43mcollectAndServe\u001b[49m\u001b[43m(\u001b[49m\u001b[38;5;28;43mself\u001b[39;49m\u001b[38;5;241;43m.\u001b[39;49m\u001b[43m_jrdd\u001b[49m\u001b[38;5;241;43m.\u001b[39;49m\u001b[43mrdd\u001b[49m\u001b[43m(\u001b[49m\u001b[43m)\u001b[49m\u001b[43m)\u001b[49m\n\u001b[1;32m   1198\u001b[0m \u001b[38;5;28;01mreturn\u001b[39;00m \u001b[38;5;28mlist\u001b[39m(_load_from_socket(sock_info, \u001b[38;5;28mself\u001b[39m\u001b[38;5;241m.\u001b[39m_jrdd_deserializer))\n",
      "File \u001b[0;32m~/opt/anaconda3/envs/umap2/lib/python3.9/site-packages/py4j/java_gateway.py:1321\u001b[0m, in \u001b[0;36mJavaMember.__call__\u001b[0;34m(self, *args)\u001b[0m\n\u001b[1;32m   1315\u001b[0m command \u001b[38;5;241m=\u001b[39m proto\u001b[38;5;241m.\u001b[39mCALL_COMMAND_NAME \u001b[38;5;241m+\u001b[39m\\\n\u001b[1;32m   1316\u001b[0m     \u001b[38;5;28mself\u001b[39m\u001b[38;5;241m.\u001b[39mcommand_header \u001b[38;5;241m+\u001b[39m\\\n\u001b[1;32m   1317\u001b[0m     args_command \u001b[38;5;241m+\u001b[39m\\\n\u001b[1;32m   1318\u001b[0m     proto\u001b[38;5;241m.\u001b[39mEND_COMMAND_PART\n\u001b[1;32m   1320\u001b[0m answer \u001b[38;5;241m=\u001b[39m \u001b[38;5;28mself\u001b[39m\u001b[38;5;241m.\u001b[39mgateway_client\u001b[38;5;241m.\u001b[39msend_command(command)\n\u001b[0;32m-> 1321\u001b[0m return_value \u001b[38;5;241m=\u001b[39m \u001b[43mget_return_value\u001b[49m\u001b[43m(\u001b[49m\n\u001b[1;32m   1322\u001b[0m \u001b[43m    \u001b[49m\u001b[43manswer\u001b[49m\u001b[43m,\u001b[49m\u001b[43m \u001b[49m\u001b[38;5;28;43mself\u001b[39;49m\u001b[38;5;241;43m.\u001b[39;49m\u001b[43mgateway_client\u001b[49m\u001b[43m,\u001b[49m\u001b[43m \u001b[49m\u001b[38;5;28;43mself\u001b[39;49m\u001b[38;5;241;43m.\u001b[39;49m\u001b[43mtarget_id\u001b[49m\u001b[43m,\u001b[49m\u001b[43m \u001b[49m\u001b[38;5;28;43mself\u001b[39;49m\u001b[38;5;241;43m.\u001b[39;49m\u001b[43mname\u001b[49m\u001b[43m)\u001b[49m\n\u001b[1;32m   1324\u001b[0m \u001b[38;5;28;01mfor\u001b[39;00m temp_arg \u001b[38;5;129;01min\u001b[39;00m temp_args:\n\u001b[1;32m   1325\u001b[0m     temp_arg\u001b[38;5;241m.\u001b[39m_detach()\n",
      "File \u001b[0;32m~/opt/anaconda3/envs/umap2/lib/python3.9/site-packages/pyspark/sql/utils.py:190\u001b[0m, in \u001b[0;36mcapture_sql_exception.<locals>.deco\u001b[0;34m(*a, **kw)\u001b[0m\n\u001b[1;32m    188\u001b[0m \u001b[38;5;28;01mdef\u001b[39;00m \u001b[38;5;21mdeco\u001b[39m(\u001b[38;5;241m*\u001b[39ma: Any, \u001b[38;5;241m*\u001b[39m\u001b[38;5;241m*\u001b[39mkw: Any) \u001b[38;5;241m-\u001b[39m\u001b[38;5;241m>\u001b[39m Any:\n\u001b[1;32m    189\u001b[0m     \u001b[38;5;28;01mtry\u001b[39;00m:\n\u001b[0;32m--> 190\u001b[0m         \u001b[38;5;28;01mreturn\u001b[39;00m \u001b[43mf\u001b[49m\u001b[43m(\u001b[49m\u001b[38;5;241;43m*\u001b[39;49m\u001b[43ma\u001b[49m\u001b[43m,\u001b[49m\u001b[43m \u001b[49m\u001b[38;5;241;43m*\u001b[39;49m\u001b[38;5;241;43m*\u001b[39;49m\u001b[43mkw\u001b[49m\u001b[43m)\u001b[49m\n\u001b[1;32m    191\u001b[0m     \u001b[38;5;28;01mexcept\u001b[39;00m Py4JJavaError \u001b[38;5;28;01mas\u001b[39;00m e:\n\u001b[1;32m    192\u001b[0m         converted \u001b[38;5;241m=\u001b[39m convert_exception(e\u001b[38;5;241m.\u001b[39mjava_exception)\n",
      "File \u001b[0;32m~/opt/anaconda3/envs/umap2/lib/python3.9/site-packages/py4j/protocol.py:326\u001b[0m, in \u001b[0;36mget_return_value\u001b[0;34m(answer, gateway_client, target_id, name)\u001b[0m\n\u001b[1;32m    324\u001b[0m value \u001b[38;5;241m=\u001b[39m OUTPUT_CONVERTER[\u001b[38;5;28mtype\u001b[39m](answer[\u001b[38;5;241m2\u001b[39m:], gateway_client)\n\u001b[1;32m    325\u001b[0m \u001b[38;5;28;01mif\u001b[39;00m answer[\u001b[38;5;241m1\u001b[39m] \u001b[38;5;241m==\u001b[39m REFERENCE_TYPE:\n\u001b[0;32m--> 326\u001b[0m     \u001b[38;5;28;01mraise\u001b[39;00m Py4JJavaError(\n\u001b[1;32m    327\u001b[0m         \u001b[38;5;124m\"\u001b[39m\u001b[38;5;124mAn error occurred while calling \u001b[39m\u001b[38;5;132;01m{0}\u001b[39;00m\u001b[38;5;132;01m{1}\u001b[39;00m\u001b[38;5;132;01m{2}\u001b[39;00m\u001b[38;5;124m.\u001b[39m\u001b[38;5;130;01m\\n\u001b[39;00m\u001b[38;5;124m\"\u001b[39m\u001b[38;5;241m.\u001b[39m\n\u001b[1;32m    328\u001b[0m         \u001b[38;5;28mformat\u001b[39m(target_id, \u001b[38;5;124m\"\u001b[39m\u001b[38;5;124m.\u001b[39m\u001b[38;5;124m\"\u001b[39m, name), value)\n\u001b[1;32m    329\u001b[0m \u001b[38;5;28;01melse\u001b[39;00m:\n\u001b[1;32m    330\u001b[0m     \u001b[38;5;28;01mraise\u001b[39;00m Py4JError(\n\u001b[1;32m    331\u001b[0m         \u001b[38;5;124m\"\u001b[39m\u001b[38;5;124mAn error occurred while calling \u001b[39m\u001b[38;5;132;01m{0}\u001b[39;00m\u001b[38;5;132;01m{1}\u001b[39;00m\u001b[38;5;132;01m{2}\u001b[39;00m\u001b[38;5;124m. Trace:\u001b[39m\u001b[38;5;130;01m\\n\u001b[39;00m\u001b[38;5;132;01m{3}\u001b[39;00m\u001b[38;5;130;01m\\n\u001b[39;00m\u001b[38;5;124m\"\u001b[39m\u001b[38;5;241m.\u001b[39m\n\u001b[1;32m    332\u001b[0m         \u001b[38;5;28mformat\u001b[39m(target_id, \u001b[38;5;124m\"\u001b[39m\u001b[38;5;124m.\u001b[39m\u001b[38;5;124m\"\u001b[39m, name, value))\n",
      "\u001b[0;31mPy4JJavaError\u001b[0m: An error occurred while calling z:org.apache.spark.api.python.PythonRDD.collectAndServe.\n: org.apache.spark.SparkException: Job aborted due to stage failure: Task 1 in stage 2.0 failed 1 times, most recent failure: Lost task 1.0 in stage 2.0 (TID 5) (192.168.0.241 executor driver): org.apache.spark.api.python.PythonException: Traceback (most recent call last):\n  File \"/Users/mmastalerczyk/opt/anaconda3/envs/umap2/lib/python3.9/site-packages/pyspark/python/lib/pyspark.zip/pyspark/worker.py\", line 668, in main\n    func, profiler, deserializer, serializer = read_command(pickleSer, infile)\n  File \"/Users/mmastalerczyk/opt/anaconda3/envs/umap2/lib/python3.9/site-packages/pyspark/python/lib/pyspark.zip/pyspark/worker.py\", line 85, in read_command\n    command = serializer._read_with_length(file)\n  File \"/Users/mmastalerczyk/opt/anaconda3/envs/umap2/lib/python3.9/site-packages/pyspark/python/lib/pyspark.zip/pyspark/serializers.py\", line 173, in _read_with_length\n    return self.loads(obj)\n  File \"/Users/mmastalerczyk/opt/anaconda3/envs/umap2/lib/python3.9/site-packages/pyspark/python/lib/pyspark.zip/pyspark/serializers.py\", line 471, in loads\n    return cloudpickle.loads(obj, encoding=encoding)\nAttributeError: 'ForwardRef' object has no attribute '__forward_is_class__'\n\n\tat org.apache.spark.api.python.BasePythonRunner$ReaderIterator.handlePythonException(PythonRunner.scala:559)\n\tat org.apache.spark.api.python.PythonRunner$$anon$3.read(PythonRunner.scala:765)\n\tat org.apache.spark.api.python.PythonRunner$$anon$3.read(PythonRunner.scala:747)\n\tat org.apache.spark.api.python.BasePythonRunner$ReaderIterator.hasNext(PythonRunner.scala:512)\n\tat org.apache.spark.InterruptibleIterator.hasNext(InterruptibleIterator.scala:37)\n\tat scala.collection.Iterator.foreach(Iterator.scala:943)\n\tat scala.collection.Iterator.foreach$(Iterator.scala:943)\n\tat org.apache.spark.InterruptibleIterator.foreach(InterruptibleIterator.scala:28)\n\tat scala.collection.generic.Growable.$plus$plus$eq(Growable.scala:62)\n\tat scala.collection.generic.Growable.$plus$plus$eq$(Growable.scala:53)\n\tat scala.collection.mutable.ArrayBuffer.$plus$plus$eq(ArrayBuffer.scala:105)\n\tat scala.collection.mutable.ArrayBuffer.$plus$plus$eq(ArrayBuffer.scala:49)\n\tat scala.collection.TraversableOnce.to(TraversableOnce.scala:366)\n\tat scala.collection.TraversableOnce.to$(TraversableOnce.scala:364)\n\tat org.apache.spark.InterruptibleIterator.to(InterruptibleIterator.scala:28)\n\tat scala.collection.TraversableOnce.toBuffer(TraversableOnce.scala:358)\n\tat scala.collection.TraversableOnce.toBuffer$(TraversableOnce.scala:358)\n\tat org.apache.spark.InterruptibleIterator.toBuffer(InterruptibleIterator.scala:28)\n\tat scala.collection.TraversableOnce.toArray(TraversableOnce.scala:345)\n\tat scala.collection.TraversableOnce.toArray$(TraversableOnce.scala:339)\n\tat org.apache.spark.InterruptibleIterator.toArray(InterruptibleIterator.scala:28)\n\tat org.apache.spark.rdd.RDD.$anonfun$collect$2(RDD.scala:1021)\n\tat org.apache.spark.SparkContext.$anonfun$runJob$5(SparkContext.scala:2268)\n\tat org.apache.spark.scheduler.ResultTask.runTask(ResultTask.scala:90)\n\tat org.apache.spark.scheduler.Task.run(Task.scala:136)\n\tat org.apache.spark.executor.Executor$TaskRunner.$anonfun$run$3(Executor.scala:548)\n\tat org.apache.spark.util.Utils$.tryWithSafeFinally(Utils.scala:1504)\n\tat org.apache.spark.executor.Executor$TaskRunner.run(Executor.scala:551)\n\tat java.base/java.util.concurrent.ThreadPoolExecutor.runWorker(ThreadPoolExecutor.java:1128)\n\tat java.base/java.util.concurrent.ThreadPoolExecutor$Worker.run(ThreadPoolExecutor.java:628)\n\tat java.base/java.lang.Thread.run(Thread.java:829)\n\nDriver stacktrace:\n\tat org.apache.spark.scheduler.DAGScheduler.failJobAndIndependentStages(DAGScheduler.scala:2672)\n\tat org.apache.spark.scheduler.DAGScheduler.$anonfun$abortStage$2(DAGScheduler.scala:2608)\n\tat org.apache.spark.scheduler.DAGScheduler.$anonfun$abortStage$2$adapted(DAGScheduler.scala:2607)\n\tat scala.collection.mutable.ResizableArray.foreach(ResizableArray.scala:62)\n\tat scala.collection.mutable.ResizableArray.foreach$(ResizableArray.scala:55)\n\tat scala.collection.mutable.ArrayBuffer.foreach(ArrayBuffer.scala:49)\n\tat org.apache.spark.scheduler.DAGScheduler.abortStage(DAGScheduler.scala:2607)\n\tat org.apache.spark.scheduler.DAGScheduler.$anonfun$handleTaskSetFailed$1(DAGScheduler.scala:1182)\n\tat org.apache.spark.scheduler.DAGScheduler.$anonfun$handleTaskSetFailed$1$adapted(DAGScheduler.scala:1182)\n\tat scala.Option.foreach(Option.scala:407)\n\tat org.apache.spark.scheduler.DAGScheduler.handleTaskSetFailed(DAGScheduler.scala:1182)\n\tat org.apache.spark.scheduler.DAGSchedulerEventProcessLoop.doOnReceive(DAGScheduler.scala:2860)\n\tat org.apache.spark.scheduler.DAGSchedulerEventProcessLoop.onReceive(DAGScheduler.scala:2802)\n\tat org.apache.spark.scheduler.DAGSchedulerEventProcessLoop.onReceive(DAGScheduler.scala:2791)\n\tat org.apache.spark.util.EventLoop$$anon$1.run(EventLoop.scala:49)\n\tat org.apache.spark.scheduler.DAGScheduler.runJob(DAGScheduler.scala:952)\n\tat org.apache.spark.SparkContext.runJob(SparkContext.scala:2228)\n\tat org.apache.spark.SparkContext.runJob(SparkContext.scala:2249)\n\tat org.apache.spark.SparkContext.runJob(SparkContext.scala:2268)\n\tat org.apache.spark.SparkContext.runJob(SparkContext.scala:2293)\n\tat org.apache.spark.rdd.RDD.$anonfun$collect$1(RDD.scala:1021)\n\tat org.apache.spark.rdd.RDDOperationScope$.withScope(RDDOperationScope.scala:151)\n\tat org.apache.spark.rdd.RDDOperationScope$.withScope(RDDOperationScope.scala:112)\n\tat org.apache.spark.rdd.RDD.withScope(RDD.scala:406)\n\tat org.apache.spark.rdd.RDD.collect(RDD.scala:1020)\n\tat org.apache.spark.api.python.PythonRDD$.collectAndServe(PythonRDD.scala:180)\n\tat org.apache.spark.api.python.PythonRDD.collectAndServe(PythonRDD.scala)\n\tat java.base/jdk.internal.reflect.NativeMethodAccessorImpl.invoke0(Native Method)\n\tat java.base/jdk.internal.reflect.NativeMethodAccessorImpl.invoke(NativeMethodAccessorImpl.java:62)\n\tat java.base/jdk.internal.reflect.DelegatingMethodAccessorImpl.invoke(DelegatingMethodAccessorImpl.java:43)\n\tat java.base/java.lang.reflect.Method.invoke(Method.java:566)\n\tat py4j.reflection.MethodInvoker.invoke(MethodInvoker.java:244)\n\tat py4j.reflection.ReflectionEngine.invoke(ReflectionEngine.java:357)\n\tat py4j.Gateway.invoke(Gateway.java:282)\n\tat py4j.commands.AbstractCommand.invokeMethod(AbstractCommand.java:132)\n\tat py4j.commands.CallCommand.execute(CallCommand.java:79)\n\tat py4j.ClientServerConnection.waitForCommands(ClientServerConnection.java:182)\n\tat py4j.ClientServerConnection.run(ClientServerConnection.java:106)\n\tat java.base/java.lang.Thread.run(Thread.java:829)\nCaused by: org.apache.spark.api.python.PythonException: Traceback (most recent call last):\n  File \"/Users/mmastalerczyk/opt/anaconda3/envs/umap2/lib/python3.9/site-packages/pyspark/python/lib/pyspark.zip/pyspark/worker.py\", line 668, in main\n    func, profiler, deserializer, serializer = read_command(pickleSer, infile)\n  File \"/Users/mmastalerczyk/opt/anaconda3/envs/umap2/lib/python3.9/site-packages/pyspark/python/lib/pyspark.zip/pyspark/worker.py\", line 85, in read_command\n    command = serializer._read_with_length(file)\n  File \"/Users/mmastalerczyk/opt/anaconda3/envs/umap2/lib/python3.9/site-packages/pyspark/python/lib/pyspark.zip/pyspark/serializers.py\", line 173, in _read_with_length\n    return self.loads(obj)\n  File \"/Users/mmastalerczyk/opt/anaconda3/envs/umap2/lib/python3.9/site-packages/pyspark/python/lib/pyspark.zip/pyspark/serializers.py\", line 471, in loads\n    return cloudpickle.loads(obj, encoding=encoding)\nAttributeError: 'ForwardRef' object has no attribute '__forward_is_class__'\n\n\tat org.apache.spark.api.python.BasePythonRunner$ReaderIterator.handlePythonException(PythonRunner.scala:559)\n\tat org.apache.spark.api.python.PythonRunner$$anon$3.read(PythonRunner.scala:765)\n\tat org.apache.spark.api.python.PythonRunner$$anon$3.read(PythonRunner.scala:747)\n\tat org.apache.spark.api.python.BasePythonRunner$ReaderIterator.hasNext(PythonRunner.scala:512)\n\tat org.apache.spark.InterruptibleIterator.hasNext(InterruptibleIterator.scala:37)\n\tat scala.collection.Iterator.foreach(Iterator.scala:943)\n\tat scala.collection.Iterator.foreach$(Iterator.scala:943)\n\tat org.apache.spark.InterruptibleIterator.foreach(InterruptibleIterator.scala:28)\n\tat scala.collection.generic.Growable.$plus$plus$eq(Growable.scala:62)\n\tat scala.collection.generic.Growable.$plus$plus$eq$(Growable.scala:53)\n\tat scala.collection.mutable.ArrayBuffer.$plus$plus$eq(ArrayBuffer.scala:105)\n\tat scala.collection.mutable.ArrayBuffer.$plus$plus$eq(ArrayBuffer.scala:49)\n\tat scala.collection.TraversableOnce.to(TraversableOnce.scala:366)\n\tat scala.collection.TraversableOnce.to$(TraversableOnce.scala:364)\n\tat org.apache.spark.InterruptibleIterator.to(InterruptibleIterator.scala:28)\n\tat scala.collection.TraversableOnce.toBuffer(TraversableOnce.scala:358)\n\tat scala.collection.TraversableOnce.toBuffer$(TraversableOnce.scala:358)\n\tat org.apache.spark.InterruptibleIterator.toBuffer(InterruptibleIterator.scala:28)\n\tat scala.collection.TraversableOnce.toArray(TraversableOnce.scala:345)\n\tat scala.collection.TraversableOnce.toArray$(TraversableOnce.scala:339)\n\tat org.apache.spark.InterruptibleIterator.toArray(InterruptibleIterator.scala:28)\n\tat org.apache.spark.rdd.RDD.$anonfun$collect$2(RDD.scala:1021)\n\tat org.apache.spark.SparkContext.$anonfun$runJob$5(SparkContext.scala:2268)\n\tat org.apache.spark.scheduler.ResultTask.runTask(ResultTask.scala:90)\n\tat org.apache.spark.scheduler.Task.run(Task.scala:136)\n\tat org.apache.spark.executor.Executor$TaskRunner.$anonfun$run$3(Executor.scala:548)\n\tat org.apache.spark.util.Utils$.tryWithSafeFinally(Utils.scala:1504)\n\tat org.apache.spark.executor.Executor$TaskRunner.run(Executor.scala:551)\n\tat java.base/java.util.concurrent.ThreadPoolExecutor.runWorker(ThreadPoolExecutor.java:1128)\n\tat java.base/java.util.concurrent.ThreadPoolExecutor$Worker.run(ThreadPoolExecutor.java:628)\n\t... 1 more\n"
     ]
    }
   ],
   "source": [
    "wordCounts.histogram([0,10,20,30,40,50])"
   ]
  },
  {
   "cell_type": "code",
   "execution_count": 14,
   "metadata": {},
   "outputs": [
    {
     "data": {
      "text/plain": [
       "10000"
      ]
     },
     "execution_count": 14,
     "metadata": {},
     "output_type": "execute_result"
    }
   ],
   "source": [
    "wordCounts.count()"
   ]
  },
  {
   "cell_type": "markdown",
   "metadata": {},
   "source": [
    "### Map-Reduce pattern"
   ]
  },
  {
   "cell_type": "markdown",
   "metadata": {},
   "source": [
    "Let's look closer at our log file format:\n",
    "\n",
    "```\n",
    "99.158.0.150 - - [18/May/2015:04:05:37 +0000] \"GET /images/jordan-80.png HTTP/1.1\" 200 6146 \"http://www.semicomplete.com/articles/dynamic-dns-with-dhcp/\" \"Mozilla/5.0 (X11; Linux x86_64) AppleWebKit/537.36 (KHTML, like Gecko) Ubuntu Chromium/32.0.1700.102 Chrome/32.0.1700.102 Safari/537.36\"\n",
    "```\n",
    "\n",
    "Count lines containing \"Chrome\":"
   ]
  },
  {
   "cell_type": "code",
   "execution_count": 21,
   "metadata": {},
   "outputs": [],
   "source": [
    "chromeLines = lines.map(lambda s: (1 if \"Chrome\" in s else 0))"
   ]
  },
  {
   "cell_type": "code",
   "execution_count": 22,
   "metadata": {},
   "outputs": [],
   "source": [
    "counts = chromeLines.reduce(lambda a, b: a + b)"
   ]
  },
  {
   "cell_type": "code",
   "execution_count": 23,
   "metadata": {},
   "outputs": [
    {
     "data": {
      "text/plain": [
       "3172"
      ]
     },
     "execution_count": 23,
     "metadata": {},
     "output_type": "execute_result"
    }
   ],
   "source": [
    "counts"
   ]
  },
  {
   "cell_type": "markdown",
   "metadata": {},
   "source": [
    "### Key-Value Pairs\n",
    "\n",
    "Count IP addresses"
   ]
  },
  {
   "cell_type": "code",
   "execution_count": 24,
   "metadata": {},
   "outputs": [],
   "source": [
    "regex = '([(\\d\\.)]+)'"
   ]
  },
  {
   "cell_type": "code",
   "execution_count": 25,
   "metadata": {},
   "outputs": [],
   "source": [
    "import re"
   ]
  },
  {
   "cell_type": "code",
   "execution_count": 26,
   "metadata": {},
   "outputs": [],
   "source": [
    "ip = re.match(regex, '99.158.0.150 - - ').group(0)"
   ]
  },
  {
   "cell_type": "code",
   "execution_count": 27,
   "metadata": {},
   "outputs": [
    {
     "name": "stdout",
     "output_type": "stream",
     "text": [
      "99.158.0.150\n"
     ]
    }
   ],
   "source": [
    "print(ip)"
   ]
  },
  {
   "cell_type": "code",
   "execution_count": 28,
   "metadata": {},
   "outputs": [],
   "source": [
    "ips = lines.map(lambda s: (re.match(regex, s).group(0) ,1))"
   ]
  },
  {
   "cell_type": "code",
   "execution_count": 29,
   "metadata": {},
   "outputs": [],
   "source": [
    "ipCounts = ips.reduceByKey(lambda a, b: a + b)"
   ]
  },
  {
   "cell_type": "markdown",
   "metadata": {},
   "source": [
    "Get results"
   ]
  },
  {
   "cell_type": "code",
   "execution_count": 30,
   "metadata": {},
   "outputs": [
    {
     "data": {
      "text/plain": [
       "[('83.149.9.216', 23),\n",
       " ('110.136.166.128', 6),\n",
       " ('46.105.14.53', 364),\n",
       " ('123.125.71.35', 1),\n",
       " ('200.49.190.100', 1),\n",
       " ('67.214.178.190', 2),\n",
       " ('207.241.237.220', 18),\n",
       " ('207.241.237.227', 17),\n",
       " ('207.241.237.228', 16),\n",
       " ('218.30.103.62', 16),\n",
       " ('71.212.224.97', 5),\n",
       " ('86.1.76.62', 6),\n",
       " ('107.170.41.69', 10),\n",
       " ('208.115.111.72', 83),\n",
       " ('174.37.205.76', 1),\n",
       " ('134.76.249.10', 8),\n",
       " ('123.125.71.117', 1),\n",
       " ('65.19.138.34', 3),\n",
       " ('5.102.173.71', 2),\n",
       " ('187.45.193.158', 8),\n",
       " ('36.38.8.174', 6),\n",
       " ('71.207.12.53', 2),\n",
       " ('220.241.45.142', 2),\n",
       " ('146.1.1.2', 15),\n",
       " ('178.255.215.83', 22),\n",
       " ('50.131.51.216', 17),\n",
       " ('212.197.170.45', 2),\n",
       " ('108.32.74.68', 14),\n",
       " ('180.76.5.27', 1),\n",
       " ('93.164.60.142', 1),\n",
       " ('108.178.4.100', 2),\n",
       " ('111.199.235.239', 37),\n",
       " ('108.171.116.194', 65),\n",
       " ('94.175.135.116', 1),\n",
       " ('207.241.237.104', 13),\n",
       " ('83.31.73.148', 2),\n",
       " ('180.76.6.156', 2),\n",
       " ('92.108.120.46', 2),\n",
       " ('172.56.29.98', 1),\n",
       " ('173.252.73.114', 1),\n",
       " ('217.69.133.70', 4),\n",
       " ('217.69.133.237', 4),\n",
       " ('209.17.114.78', 40),\n",
       " ('202.156.10.11', 2),\n",
       " ('65.55.213.73', 60),\n",
       " ('84.85.130.133', 12),\n",
       " ('54.226.176.99', 1),\n",
       " ('194.29.137.5', 14),\n",
       " ('95.153.89.104', 1),\n",
       " ('173.192.238.58', 3),\n",
       " ('74.125.176.149', 6),\n",
       " ('50.18.71.222', 1),\n",
       " ('107.170.40.203', 4),\n",
       " ('207.241.237.221', 9),\n",
       " ('37.130.227.133', 1),\n",
       " ('109.167.131.110', 7),\n",
       " ('74.125.176.151', 8),\n",
       " ('88.184.51.134', 7),\n",
       " ('143.233.204.28', 9),\n",
       " ('67.61.162.49', 6),\n",
       " ('222.77.201.107', 4),\n",
       " ('176.31.103.52', 12),\n",
       " ('180.76.5.149', 1),\n",
       " ('144.76.95.39', 27),\n",
       " ('198.143.156.2', 2),\n",
       " ('120.202.255.147', 10),\n",
       " ('108.91.82.251', 7),\n",
       " ('46.119.119.29', 3),\n",
       " ('207.241.237.224', 12),\n",
       " ('197.206.232.180', 1),\n",
       " ('180.76.6.53', 2),\n",
       " ('166.82.99.140', 1),\n",
       " ('216.14.102.16', 9),\n",
       " ('107.170.40.205', 4),\n",
       " ('219.137.88.123', 1),\n",
       " ('74.125.176.148', 6),\n",
       " ('46.165.197.151', 2),\n",
       " ('91.221.131.30', 19),\n",
       " ('157.56.92.164', 1),\n",
       " ('180.76.5.59', 1),\n",
       " ('199.16.156.124', 7),\n",
       " ('120.59.2.54', 6),\n",
       " ('98.216.194.189', 4),\n",
       " ('64.237.35.242', 4),\n",
       " ('180.76.6.57', 1),\n",
       " ('71.9.98.194', 6),\n",
       " ('187.214.29.27', 1),\n",
       " ('217.71.46.55', 1),\n",
       " ('128.237.28.16', 1),\n",
       " ('122.166.142.108', 34),\n",
       " ('195.250.34.144', 3),\n",
       " ('131.191.91.87', 1),\n",
       " ('67.170.98.63', 9),\n",
       " ('207.255.245.133', 6),\n",
       " ('37.31.40.234', 2),\n",
       " ('54.219.117.220', 1),\n",
       " ('188.122.8.79', 13),\n",
       " ('217.69.133.238', 5),\n",
       " ('180.76.5.22', 3),\n",
       " ('123.125.71.116', 1),\n",
       " ('68.193.198.76', 1),\n",
       " ('220.181.108.149', 1),\n",
       " ('112.110.247.244', 2),\n",
       " ('112.110.247.250', 1),\n",
       " ('112.110.247.236', 1),\n",
       " ('46.32.254.207', 1),\n",
       " ('190.73.45.219', 2),\n",
       " ('195.211.162.22', 2),\n",
       " ('178.216.54.152', 2),\n",
       " ('108.77.164.97', 1),\n",
       " ('84.137.208.44', 9),\n",
       " ('85.11.191.105', 1),\n",
       " ('93.152.153.38', 5),\n",
       " ('54.226.35.19', 1),\n",
       " ('64.128.17.78', 1),\n",
       " ('180.76.6.65', 2),\n",
       " ('65.19.138.33', 5),\n",
       " ('90.1.43.248', 4),\n",
       " ('82.181.39.216', 1),\n",
       " ('37.194.3.12', 5),\n",
       " ('174.23.200.134', 6),\n",
       " ('205.159.86.10', 3),\n",
       " ('99.237.56.116', 2),\n",
       " ('27.159.203.227', 4),\n",
       " ('106.79.29.147', 6),\n",
       " ('195.188.180.1', 1),\n",
       " ('157.55.32.106', 2),\n",
       " ('46.109.147.195', 2),\n",
       " ('220.181.108.178', 1),\n",
       " ('107.170.40.204', 7),\n",
       " ('106.66.30.77', 1),\n",
       " ('69.160.56.236', 4),\n",
       " ('201.76.90.77', 6),\n",
       " ('98.115.54.224', 1),\n",
       " ('93.203.255.51', 2),\n",
       " ('99.252.100.83', 26),\n",
       " ('64.134.102.242', 6),\n",
       " ('77.125.123.137', 2),\n",
       " ('194.103.63.154', 2),\n",
       " ('182.118.20.213', 1),\n",
       " ('199.47.180.6', 2),\n",
       " ('86.96.42.185', 2),\n",
       " ('111.93.41.206', 1),\n",
       " ('151.225.221.231', 7),\n",
       " ('84.46.60.57', 6),\n",
       " ('87.182.248.236', 6),\n",
       " ('74.125.19.83', 3),\n",
       " ('71.207.215.148', 6),\n",
       " ('213.112.247.129', 1),\n",
       " ('68.65.254.140', 2),\n",
       " ('198.143.145.210', 1),\n",
       " ('177.37.188.215', 1),\n",
       " ('174.26.232.198', 1),\n",
       " ('76.103.82.13', 6),\n",
       " ('74.125.19.82', 11),\n",
       " ('180.76.5.17', 1),\n",
       " ('192.187.119.210', 2),\n",
       " ('68.97.23.170', 1),\n",
       " ('78.193.126.4', 7),\n",
       " ('155.63.71.11', 6),\n",
       " ('70.127.254.161', 6),\n",
       " ('64.80.110.74', 6),\n",
       " ('50.139.66.106', 52),\n",
       " ('46.5.254.123', 7),\n",
       " ('184.60.23.120', 6),\n",
       " ('180.76.5.20', 1),\n",
       " ('84.58.19.108', 2),\n",
       " ('2.137.32.153', 6),\n",
       " ('94.79.44.40', 12),\n",
       " ('178.84.1.162', 1),\n",
       " ('77.0.42.68', 6),\n",
       " ('70.193.72.87', 1),\n",
       " ('91.68.55.56', 6),\n",
       " ('107.170.40.197', 3),\n",
       " ('31.45.226.43', 1),\n",
       " ('85.224.97.187', 2),\n",
       " ('180.76.5.172', 1),\n",
       " ('173.236.32.108', 2),\n",
       " ('199.30.20.7', 2),\n",
       " ('77.230.140.4', 2),\n",
       " ('201.216.154.220', 1),\n",
       " ('213.112.253.123', 6),\n",
       " ('77.248.77.178', 6),\n",
       " ('180.76.6.52', 2),\n",
       " ('117.78.13.17', 2),\n",
       " ('5.63.5.62', 1),\n",
       " ('85.28.124.249', 6),\n",
       " ('82.145.219.13', 6),\n",
       " ('144.76.137.226', 2),\n",
       " ('173.252.110.119', 2),\n",
       " ('69.171.248.4', 1),\n",
       " ('107.22.42.225', 1),\n",
       " ('83.115.137.249', 2),\n",
       " ('197.235.139.144', 1),\n",
       " ('74.125.176.150', 10),\n",
       " ('109.189.132.223', 6),\n",
       " ('105.235.218.242', 6),\n",
       " ('71.33.204.157', 6),\n",
       " ('123.125.71.114', 1),\n",
       " ('220.181.108.171', 1),\n",
       " ('79.164.36.106', 2),\n",
       " ('82.127.237.118', 1),\n",
       " ('89.136.142.105', 4),\n",
       " ('200.123.214.163', 1),\n",
       " ('74.125.176.145', 4),\n",
       " ('178.255.215.71', 17),\n",
       " ('79.83.255.199', 6),\n",
       " ('185.2.138.125', 7),\n",
       " ('173.232.105.27', 2),\n",
       " ('180.76.5.144', 1),\n",
       " ('83.222.46.173', 1),\n",
       " ('88.134.8.254', 1),\n",
       " ('131.253.24.32', 3),\n",
       " ('84.60.79.43', 6),\n",
       " ('98.202.182.168', 1),\n",
       " ('108.170.215.93', 4),\n",
       " ('74.125.40.21', 3),\n",
       " ('114.69.226.80', 6),\n",
       " ('95.234.214.194', 1),\n",
       " ('46.28.105.80', 1),\n",
       " ('180.76.5.74', 1),\n",
       " ('96.127.213.6', 2),\n",
       " ('187.60.96.7', 2),\n",
       " ('62.245.76.5', 2),\n",
       " ('91.236.75.25', 9),\n",
       " ('107.170.40.200', 3),\n",
       " ('54.219.246.6', 2),\n",
       " ('180.235.148.243', 1),\n",
       " ('79.116.60.76', 1),\n",
       " ('78.73.74.252', 1),\n",
       " ('195.44.196.178', 6),\n",
       " ('87.219.103.122', 2),\n",
       " ('199.189.248.95', 1),\n",
       " ('81.56.9.191', 2),\n",
       " ('186.22.52.72', 6),\n",
       " ('88.115.211.201', 1),\n",
       " ('109.74.151.149', 8),\n",
       " ('46.4.101.88', 6),\n",
       " ('178.32.51.157', 6),\n",
       " ('199.30.20.161', 2),\n",
       " ('153.174.34.38', 1),\n",
       " ('193.61.104.6', 2),\n",
       " ('101.226.168.198', 1),\n",
       " ('76.14.236.249', 6),\n",
       " ('178.19.99.105', 4),\n",
       " ('74.125.176.83', 2),\n",
       " ('98.252.226.135', 10),\n",
       " ('85.168.225.197', 9),\n",
       " ('62.108.180.233', 1),\n",
       " ('166.137.8.20', 2),\n",
       " ('184.154.88.108', 2),\n",
       " ('212.84.56.58', 7),\n",
       " ('202.86.115.186', 7),\n",
       " ('142.197.51.102', 1),\n",
       " ('50.58.161.66', 3),\n",
       " ('74.125.176.84', 3),\n",
       " ('188.35.22.24', 4),\n",
       " ('66.147.244.126', 1),\n",
       " ('92.234.93.242', 7),\n",
       " ('81.187.167.236', 8),\n",
       " ('187.210.142.8', 1),\n",
       " ('122.146.177.66', 7),\n",
       " ('87.179.0.125', 1),\n",
       " ('192.185.81.134', 1),\n",
       " ('157.56.93.40', 1),\n",
       " ('50.105.149.90', 1),\n",
       " ('70.186.197.197', 6),\n",
       " ('180.76.5.204', 2),\n",
       " ('193.77.124.16', 6),\n",
       " ('81.169.144.135', 1),\n",
       " ('180.76.5.71', 1),\n",
       " ('157.55.33.44', 1),\n",
       " ('157.56.229.184', 1),\n",
       " ('68.4.202.231', 10),\n",
       " ('92.230.229.41', 6),\n",
       " ('107.203.4.32', 6),\n",
       " ('23.105.131.70', 1),\n",
       " ('24.151.226.65', 2),\n",
       " ('74.125.40.19', 3),\n",
       " ('201.124.21.149', 6),\n",
       " ('177.106.12.201', 8),\n",
       " ('157.55.35.36', 2),\n",
       " ('37.237.137.58', 1),\n",
       " ('180.76.5.191', 2),\n",
       " ('97.93.16.156', 1),\n",
       " ('69.63.23.193', 1),\n",
       " ('130.117.119.79', 1),\n",
       " ('176.92.75.62', 23),\n",
       " ('180.76.5.173', 2),\n",
       " ('91.236.74.5', 1),\n",
       " ('46.118.158.25', 1),\n",
       " ('180.76.6.213', 1),\n",
       " ('85.246.85.57', 1),\n",
       " ('181.141.250.44', 1),\n",
       " ('187.211.57.202', 1),\n",
       " ('59.124.42.160', 5),\n",
       " ('204.93.54.173', 2),\n",
       " ('157.55.33.88', 3),\n",
       " ('187.16.77.116', 1),\n",
       " ('111.117.160.16', 1),\n",
       " ('82.98.148.169', 2),\n",
       " ('69.175.87.242', 1),\n",
       " ('217.69.133.236', 2),\n",
       " ('74.221.220.196', 2),\n",
       " ('119.63.193.130', 1),\n",
       " ('95.97.244.106', 6),\n",
       " ('212.159.68.200', 6),\n",
       " ('199.168.96.66', 41),\n",
       " ('72.215.249.101', 6),\n",
       " ('157.55.33.114', 1),\n",
       " ('65.172.240.122', 6),\n",
       " ('213.10.136.118', 7),\n",
       " ('203.81.69.86', 1),\n",
       " ('76.2.185.161', 7),\n",
       " ('189.170.95.135', 7),\n",
       " ('24.147.91.100', 6),\n",
       " ('180.76.6.231', 1),\n",
       " ('216.152.249.242', 25),\n",
       " ('74.125.19.80', 5),\n",
       " ('23.105.131.247', 1),\n",
       " ('95.49.190.247', 2),\n",
       " ('54.219.60.151', 1),\n",
       " ('98.206.132.188', 3),\n",
       " ('61.119.116.21', 1),\n",
       " ('218.240.60.244', 2),\n",
       " ('216.151.154.100', 2),\n",
       " ('157.55.32.185', 1),\n",
       " ('82.145.208.98', 6),\n",
       " ('123.125.71.97', 2),\n",
       " ('37.72.189.120', 2),\n",
       " ('88.80.20.186', 2),\n",
       " ('24.183.21.30', 1),\n",
       " ('180.180.100.65', 2),\n",
       " ('117.28.234.67', 7),\n",
       " ('201.26.152.202', 18),\n",
       " ('216.152.243.146', 2),\n",
       " ('91.236.75.26', 1),\n",
       " ('157.56.92.141', 1),\n",
       " ('189.214.42.128', 6),\n",
       " ('119.36.179.179', 7),\n",
       " ('211.150.124.10', 1),\n",
       " ('118.169.39.21', 7),\n",
       " ('116.212.243.74', 1),\n",
       " ('50.2.225.180', 2),\n",
       " ('54.246.137.243', 2),\n",
       " ('66.49.182.146', 1),\n",
       " ('112.216.234.90', 3),\n",
       " ('89.68.134.81', 8),\n",
       " ('2.51.241.128', 2),\n",
       " ('96.242.86.110', 2),\n",
       " ('123.125.71.85', 1),\n",
       " ('201.141.65.112', 1),\n",
       " ('157.55.32.84', 1),\n",
       " ('190.239.74.15', 1),\n",
       " ('157.55.35.80', 1),\n",
       " ('5.39.15.151', 2),\n",
       " ('208.50.255.30', 2),\n",
       " ('122.248.149.254', 2),\n",
       " ('14.203.126.78', 3),\n",
       " ('128.61.85.15', 7),\n",
       " ('122.167.215.241', 4),\n",
       " ('66.249.80.128', 2),\n",
       " ('106.187.98.170', 1),\n",
       " ('125.236.205.70', 1),\n",
       " ('74.125.19.215', 1),\n",
       " ('217.116.157.26', 7),\n",
       " ('189.148.62.33', 1),\n",
       " ('117.192.147.163', 1),\n",
       " ('14.1.42.114', 1),\n",
       " ('180.76.5.193', 2),\n",
       " ('188.250.157.192', 6),\n",
       " ('203.219.2.2', 6),\n",
       " ('125.239.81.249', 1),\n",
       " ('80.133.249.216', 6),\n",
       " ('50.8.159.176', 7),\n",
       " ('203.211.107.162', 1),\n",
       " ('204.19.246.36', 1),\n",
       " ('180.76.5.118', 2),\n",
       " ('122.60.77.197', 2),\n",
       " ('42.156.136.43', 1),\n",
       " ('208.71.68.122', 1),\n",
       " ('65.55.215.237', 3),\n",
       " ('107.170.40.201', 4),\n",
       " ('92.230.101.44', 2),\n",
       " ('180.76.6.66', 1),\n",
       " ('5.39.4.211', 1),\n",
       " ('67.215.172.14', 1),\n",
       " ('69.167.81.126', 2),\n",
       " ('76.164.234.106', 2),\n",
       " ('176.181.182.132', 2),\n",
       " ('122.61.197.176', 1),\n",
       " ('65.55.215.37', 4),\n",
       " ('180.76.5.145', 1),\n",
       " ('207.158.15.119', 1),\n",
       " ('216.14.198.50', 8),\n",
       " ('27.252.40.146', 1),\n",
       " ('180.76.6.130', 2),\n",
       " ('122.57.207.174', 1),\n",
       " ('174.51.6.146', 6),\n",
       " ('180.76.5.147', 1),\n",
       " ('203.173.194.136', 1),\n",
       " ('211.25.11.99', 3),\n",
       " ('210.19.254.116', 1),\n",
       " ('116.50.181.5', 6),\n",
       " ('46.161.41.24', 3),\n",
       " ('180.76.5.26', 1),\n",
       " ('198.143.155.251', 2),\n",
       " ('59.163.27.11', 39),\n",
       " ('131.253.24.107', 1),\n",
       " ('91.207.8.61', 2),\n",
       " ('37.59.47.177', 1),\n",
       " ('188.253.16.227', 1),\n",
       " ('180.76.6.146', 1),\n",
       " ('75.161.167.75', 6),\n",
       " ('220.181.108.18', 1),\n",
       " ('192.118.118.1', 13),\n",
       " ('80.108.25.232', 33),\n",
       " ('100.2.4.116', 6),\n",
       " ('54.215.54.10', 1),\n",
       " ('180.76.6.131', 1),\n",
       " ('182.253.38.89', 2),\n",
       " ('14.207.105.216', 2),\n",
       " ('59.252.170.29', 1),\n",
       " ('24.84.241.107', 10),\n",
       " ('176.226.17.33', 7),\n",
       " ('192.254.157.212', 1),\n",
       " ('118.148.175.45', 1),\n",
       " ('113.252.200.224', 2),\n",
       " ('112.202.18.45', 6),\n",
       " ('192.91.173.36', 1),\n",
       " ('81.52.143.33', 2),\n",
       " ('14.140.163.52', 33),\n",
       " ('98.193.68.66', 6),\n",
       " ('37.187.101.122', 2),\n",
       " ('185.4.253.67', 20),\n",
       " ('106.51.250.126', 6),\n",
       " ('77.1.77.21', 6),\n",
       " ('90.175.31.133', 2),\n",
       " ('54.219.40.115', 1),\n",
       " ('203.99.206.243', 1),\n",
       " ('196.14.132.154', 6),\n",
       " ('14.141.91.20', 3),\n",
       " ('122.58.125.143', 1),\n",
       " ('152.118.148.226', 1),\n",
       " ('60.234.195.253', 1),\n",
       " ('157.55.32.142', 2),\n",
       " ('183.179.22.186', 41),\n",
       " ('63.141.248.27', 1),\n",
       " ('130.117.119.80', 3),\n",
       " ('98.210.187.48', 6),\n",
       " ('76.176.53.173', 7),\n",
       " ('118.126.5.149', 2),\n",
       " ('106.187.34.32', 8),\n",
       " ('193.65.112.2', 1),\n",
       " ('195.122.146.186', 1),\n",
       " ('120.43.27.41', 1),\n",
       " ('131.114.11.55', 2),\n",
       " ('95.172.74.38', 6),\n",
       " ('199.30.20.8', 2),\n",
       " ('62.245.157.217', 1),\n",
       " ('216.150.76.218', 1),\n",
       " ('195.14.72.29', 7),\n",
       " ('217.69.133.239', 1),\n",
       " ('59.90.241.113', 3),\n",
       " ('115.112.233.75', 39),\n",
       " ('5.102.48.12', 2),\n",
       " ('68.180.224.235', 7),\n",
       " ('193.252.118.167', 2),\n",
       " ('46.165.197.141', 2),\n",
       " ('62.112.244.2', 1),\n",
       " ('204.93.54.176', 2),\n",
       " ('72.223.76.198', 18),\n",
       " ('82.225.159.87', 1),\n",
       " ('23.24.200.86', 1),\n",
       " ('50.87.144.128', 1),\n",
       " ('106.36.113.138', 1),\n",
       " ('88.3.37.62', 33),\n",
       " ('119.6.7.18', 6),\n",
       " ('180.76.6.134', 2),\n",
       " ('98.122.171.175', 9),\n",
       " ('87.158.133.11', 2),\n",
       " ('193.173.113.126', 1),\n",
       " ('59.124.251.135', 6),\n",
       " ('203.99.205.107', 34),\n",
       " ('115.188.97.115', 1),\n",
       " ('180.76.6.158', 1),\n",
       " ('204.93.54.178', 4),\n",
       " ('180.153.236.175', 1),\n",
       " ('217.26.210.20', 1),\n",
       " ('36.37.235.225', 1),\n",
       " ('37.115.186.244', 2),\n",
       " ('111.69.99.101', 1),\n",
       " ('85.254.143.114', 6),\n",
       " ('188.205.61.177', 6),\n",
       " ('193.105.0.2', 1),\n",
       " ('95.128.40.244', 1),\n",
       " ('121.244.49.42', 1),\n",
       " ('74.208.16.115', 1),\n",
       " ('46.190.80.53', 1),\n",
       " ('59.167.142.22', 1),\n",
       " ('220.244.10.116', 6),\n",
       " ('209.148.84.30', 1),\n",
       " ('178.152.18.59', 6),\n",
       " ('194.254.139.66', 2),\n",
       " ('115.77.7.145', 7),\n",
       " ('82.80.23.217', 1),\n",
       " ('213.252.7.178', 6),\n",
       " ('183.91.14.219', 1),\n",
       " ('180.76.5.119', 1),\n",
       " ('207.45.249.135', 5),\n",
       " ('218.28.225.87', 1),\n",
       " ('128.141.154.221', 1),\n",
       " ('220.181.51.37', 1),\n",
       " ('62.44.32.116', 6),\n",
       " ('98.130.2.118', 1),\n",
       " ('49.50.247.181', 1),\n",
       " ('192.3.183.199', 2),\n",
       " ('103.9.43.132', 1),\n",
       " ('92.163.85.51', 6),\n",
       " ('180.76.6.153', 1),\n",
       " ('195.27.15.134', 1),\n",
       " ('113.212.70.121', 3),\n",
       " ('184.154.153.210', 2),\n",
       " ('180.76.6.148', 1),\n",
       " ('203.122.224.39', 6),\n",
       " ('193.252.149.222', 6),\n",
       " ('61.135.169.84', 6),\n",
       " ('193.58.82.178', 3),\n",
       " ('197.187.26.144', 1),\n",
       " ('74.93.1.97', 1),\n",
       " ('113.212.68.167', 2),\n",
       " ('66.249.93.91', 2),\n",
       " ('85.248.108.8', 6),\n",
       " ('118.186.69.62', 2),\n",
       " ('173.252.74.113', 1),\n",
       " ('173.252.74.112', 1),\n",
       " ('173.252.77.116', 1),\n",
       " ('122.57.173.238', 1),\n",
       " ('162.210.196.130', 2),\n",
       " ('66.249.80.24', 1),\n",
       " ('46.29.8.202', 2),\n",
       " ('180.76.5.116', 1),\n",
       " ('204.93.54.238', 2),\n",
       " ('81.52.143.26', 1),\n",
       " ('78.134.38.242', 1),\n",
       " ('129.121.176.228', 1),\n",
       " ('204.244.74.22', 2),\n",
       " ('193.225.194.254', 6),\n",
       " ('155.140.133.248', 8),\n",
       " ('89.218.93.74', 12),\n",
       " ('75.132.156.143', 6),\n",
       " ('82.200.166.110', 1),\n",
       " ('216.109.99.4', 7),\n",
       " ('176.10.104.96', 2),\n",
       " ('67.220.144.166', 2),\n",
       " ('63.249.66.212', 2),\n",
       " ('178.172.239.240', 5),\n",
       " ('88.234.222.56', 1),\n",
       " ('180.76.5.213', 1),\n",
       " ('5.9.143.150', 1),\n",
       " ('202.65.36.249', 1),\n",
       " ('37.115.190.128', 1),\n",
       " ('172.245.214.208', 2),\n",
       " ('60.53.124.75', 1),\n",
       " ('195.228.139.91', 7),\n",
       " ('80.254.147.68', 1),\n",
       " ('160.92.7.69', 6),\n",
       " ('78.173.140.106', 3),\n",
       " ('183.63.83.14', 1),\n",
       " ('93.210.154.199', 6),\n",
       " ('115.114.17.146', 6),\n",
       " ('61.16.241.98', 6),\n",
       " ('70.210.13.207', 2),\n",
       " ('54.215.29.126', 1),\n",
       " ('188.80.229.128', 6),\n",
       " ('14.141.56.98', 15),\n",
       " ('24.21.55.63', 6),\n",
       " ('24.111.34.227', 1),\n",
       " ('185.5.152.85', 1),\n",
       " ('188.240.136.240', 2),\n",
       " ('173.242.120.61', 3),\n",
       " ('173.213.76.77', 2),\n",
       " ('89.191.52.88', 7),\n",
       " ('186.93.30.106', 1),\n",
       " ('182.68.184.78', 2),\n",
       " ('195.14.103.53', 7),\n",
       " ('46.118.116.232', 1),\n",
       " ('193.244.33.47', 35),\n",
       " ('125.237.203.218', 1),\n",
       " ('183.87.253.120', 6),\n",
       " ('80.239.169.204', 6),\n",
       " ('36.250.177.94', 1),\n",
       " ('217.91.18.234', 6),\n",
       " ('95.78.54.93', 3),\n",
       " ('5.56.158.218', 6),\n",
       " ('85.76.162.29', 1),\n",
       " ('122.107.211.222', 2),\n",
       " ('63.223.125.175', 2),\n",
       " ('93.191.160.193', 6),\n",
       " ('88.8.30.135', 3),\n",
       " ('178.140.172.164', 1),\n",
       " ('147.142.186.54', 6),\n",
       " ('213.160.130.242', 1),\n",
       " ('220.181.127.18', 1),\n",
       " ('213.17.226.11', 6),\n",
       " ('198.245.61.43', 3),\n",
       " ('204.236.153.140', 1),\n",
       " ('121.209.208.128', 6),\n",
       " ('217.12.185.5', 25),\n",
       " ('103.25.13.22', 1),\n",
       " ('61.135.190.100', 1),\n",
       " ('180.180.78.19', 2),\n",
       " ('199.119.124.45', 1),\n",
       " ('218.30.103.114', 2),\n",
       " ('129.70.212.93', 7),\n",
       " ('178.203.37.192', 10),\n",
       " ('37.79.145.225', 1),\n",
       " ('193.104.184.225', 7),\n",
       " ('183.60.244.24', 1),\n",
       " ('110.159.23.90', 8),\n",
       " ('87.216.109.88', 6),\n",
       " ('101.119.18.35', 33),\n",
       " ('31.35.64.245', 6),\n",
       " ('67.220.144.83', 2),\n",
       " ('117.195.177.223', 6),\n",
       " ('198.20.79.140', 2),\n",
       " ('182.64.207.187', 2),\n",
       " ('188.65.166.78', 1),\n",
       " ('54.227.17.146', 1),\n",
       " ('54.204.217.52', 1),\n",
       " ('194.126.102.178', 12),\n",
       " ('130.88.99.231', 1),\n",
       " ('217.174.111.254', 5),\n",
       " ('46.65.248.177', 6),\n",
       " ('88.61.50.114', 1),\n",
       " ('109.195.177.171', 6),\n",
       " ('77.241.193.88', 10),\n",
       " ('213.87.123.186', 1),\n",
       " ('89.212.62.88', 6),\n",
       " ('173.176.91.196', 1),\n",
       " ('118.92.157.140', 1),\n",
       " ('199.247.189.63', 6),\n",
       " ('20.137.2.50', 1),\n",
       " ('176.198.189.108', 1),\n",
       " ('180.76.6.49', 1),\n",
       " ('213.133.224.50', 1),\n",
       " ('212.51.173.12', 27),\n",
       " ('88.152.28.187', 1),\n",
       " ('95.87.197.134', 6),\n",
       " ('41.248.194.136', 1),\n",
       " ('162.44.252.21', 6),\n",
       " ('139.184.30.132', 9),\n",
       " ('83.139.110.254', 1),\n",
       " ('194.186.207.105', 33),\n",
       " ('123.125.71.56', 1),\n",
       " ('69.167.130.5', 9),\n",
       " ('193.24.88.211', 7),\n",
       " ('180.76.6.50', 1),\n",
       " ('213.124.13.242', 2),\n",
       " ('105.224.234.235', 1),\n",
       " ('113.189.161.125', 1),\n",
       " ('85.89.160.218', 7),\n",
       " ('67.220.144.226', 2),\n",
       " ('78.166.243.242', 1),\n",
       " ('194.45.150.17', 6),\n",
       " ('39.41.133.216', 1),\n",
       " ('124.124.1.57', 1),\n",
       " ('96.254.233.150', 6),\n",
       " ('217.69.133.235', 1),\n",
       " ('60.29.35.14', 2),\n",
       " ('158.136.112.187', 1),\n",
       " ('195.38.23.137', 2),\n",
       " ('180.211.69.209', 1),\n",
       " ('193.167.195.60', 6),\n",
       " ('223.67.143.84', 1),\n",
       " ('198.55.109.202', 2),\n",
       " ('5.235.199.240', 1),\n",
       " ('2.85.194.19', 1),\n",
       " ('212.107.116.234', 1),\n",
       " ('182.253.23.3', 6),\n",
       " ('62.210.189.45', 1),\n",
       " ('199.187.125.26', 1),\n",
       " ('173.200.233.195', 1),\n",
       " ('106.78.19.160', 18),\n",
       " ('31.150.236.68', 1),\n",
       " ('178.213.67.2', 1),\n",
       " ('200.141.109.74', 1),\n",
       " ('114.250.134.175', 1),\n",
       " ('82.209.214.162', 1),\n",
       " ('184.154.149.126', 2),\n",
       " ('173.236.32.219', 1),\n",
       " ('84.233.151.236', 6),\n",
       " ('200.68.86.233', 6),\n",
       " ('173.166.158.222', 6),\n",
       " ('180.169.2.99', 1),\n",
       " ('98.245.87.136', 2),\n",
       " ('213.174.192.220', 6),\n",
       " ('108.178.45.172', 1),\n",
       " ('82.178.75.63', 1),\n",
       " ('72.182.73.81', 1),\n",
       " ('54.236.213.208', 1),\n",
       " ('208.88.254.164', 1),\n",
       " ('75.127.15.68', 1),\n",
       " ('96.127.149.186', 1),\n",
       " ('198.167.137.193', 2),\n",
       " ('62.12.14.27', 6),\n",
       " ('188.165.243.45', 3),\n",
       " ('176.46.113.39', 1),\n",
       " ('186.202.153.56', 1),\n",
       " ('177.132.188.205', 6),\n",
       " ('82.135.32.98', 7),\n",
       " ('54.215.96.68', 1),\n",
       " ('194.171.252.104', 6),\n",
       " ('83.206.120.18', 6),\n",
       " ('129.184.84.11', 4),\n",
       " ('129.184.84.12', 1),\n",
       " ('50.2.225.202', 1),\n",
       " ('80.187.96.71', 4),\n",
       " ('125.122.211.40', 6),\n",
       " ('108.15.20.23', 6),\n",
       " ('108.61.140.67', 1),\n",
       " ('194.105.145.147', 6),\n",
       " ('54.242.115.144', 1),\n",
       " ('66.249.85.135', 2),\n",
       " ('178.17.6.226', 6),\n",
       " ('24.5.221.92', 5),\n",
       " ('147.210.12.12', 1),\n",
       " ('198.208.159.20', 1),\n",
       " ('170.148.69.141', 8),\n",
       " ('99.6.61.4', 6),\n",
       " ('198.50.227.136', 2),\n",
       " ('173.213.97.176', 2),\n",
       " ('200.85.183.174', 6),\n",
       " ('14.18.25.243', 6),\n",
       " ('157.55.33.19', 3),\n",
       " ('83.69.235.12', 6),\n",
       " ('96.63.29.108', 6),\n",
       " ('195.37.190.67', 1),\n",
       " ('92.96.157.230', 1),\n",
       " ('37.11.0.8', 13),\n",
       " ('131.107.160.94', 1),\n",
       " ('37.252.127.97', 1),\n",
       " ('213.181.52.10', 6),\n",
       " ('194.153.130.2', 1),\n",
       " ('92.237.208.151', 2),\n",
       " ('97.74.24.113', 1),\n",
       " ('50.157.244.41', 4),\n",
       " ('70.177.214.34', 1),\n",
       " ('188.9.138.189', 8),\n",
       " ('79.215.79.185', 1),\n",
       " ('180.76.5.69', 1),\n",
       " ('70.197.6.64', 1),\n",
       " ('159.50.249.148', 2),\n",
       " ('159.50.249.150', 4),\n",
       " ('203.145.79.41', 2),\n",
       " ('183.221.90.177', 6),\n",
       " ('211.125.92.233', 1),\n",
       " ('87.109.78.50', 1),\n",
       " ('83.25.215.235', 1),\n",
       " ('109.9.166.16', 1),\n",
       " ('185.38.249.133', 2),\n",
       " ('130.193.173.90', 1),\n",
       " ('91.236.74.121', 1),\n",
       " ('129.27.3.93', 2),\n",
       " ('128.147.28.1', 7),\n",
       " ('72.54.172.193', 6),\n",
       " ('216.143.11.118', 7),\n",
       " ('81.210.53.2', 6),\n",
       " ('109.190.148.218', 6),\n",
       " ('177.37.5.6', 2),\n",
       " ('173.236.34.182', 1),\n",
       " ('199.30.20.64', 2),\n",
       " ('213.150.233.62', 6),\n",
       " ('79.148.255.215', 2),\n",
       " ('109.231.204.82', 6),\n",
       " ('80.130.134.87', 2),\n",
       " ('24.0.194.37', 32),\n",
       " ('180.76.5.189', 1),\n",
       " ('132.252.139.85', 10),\n",
       " ('72.177.92.9', 1),\n",
       " ('8.35.201.53', 2),\n",
       " ('216.16.195.52', 2),\n",
       " ('95.108.158.230', 2),\n",
       " ('68.14.231.140', 3),\n",
       " ('67.225.29.201', 1),\n",
       " ('199.59.148.211', 2),\n",
       " ('81.190.174.219', 19),\n",
       " ('99.100.25.83', 1),\n",
       " ('183.60.214.19', 1),\n",
       " ('115.245.219.74', 1),\n",
       " ('132.229.223.2', 7),\n",
       " ('189.11.65.66', 6),\n",
       " ('80.108.184.97', 3),\n",
       " ('77.234.68.135', 2),\n",
       " ('212.101.243.11', 1),\n",
       " ('177.6.142.6', 6),\n",
       " ('165.145.12.44', 2),\n",
       " ('91.191.197.87', 1),\n",
       " ('185.37.161.34', 1),\n",
       " ('174.26.93.238', 6),\n",
       " ('8.35.201.54', 1),\n",
       " ('8.35.201.49', 2),\n",
       " ('5.144.176.110', 2),\n",
       " ('190.1.111.247', 1),\n",
       " ('5.10.83.23', 5),\n",
       " ('93.80.29.12', 6),\n",
       " ('199.204.56.18', 6),\n",
       " ('180.76.5.187', 1),\n",
       " ('180.76.5.28', 1),\n",
       " ('204.93.54.167', 2),\n",
       " ('82.24.16.46', 1),\n",
       " ('62.159.77.167', 6),\n",
       " ('197.237.89.221', 1),\n",
       " ('165.139.161.160', 1),\n",
       " ('150.162.56.185', 23),\n",
       " ('195.176.191.93', 6),\n",
       " ('180.76.6.141', 1),\n",
       " ('108.184.124.170', 2),\n",
       " ('177.141.70.11', 6),\n",
       " ('195.176.110.194', 1),\n",
       " ('5.10.83.91', 5),\n",
       " ('49.206.120.190', 5),\n",
       " ('82.60.18.23', 2),\n",
       " ('24.190.3.5', 1),\n",
       " ('74.76.53.142', 6),\n",
       " ('68.87.42.115', 1),\n",
       " ('54.204.20.250', 1),\n",
       " ('173.232.106.129', 2),\n",
       " ('5.135.113.131', 2),\n",
       " ('65.55.52.111', 1),\n",
       " ('188.238.146.131', 1),\n",
       " ('78.57.150.9', 2),\n",
       " ('62.4.19.142', 2),\n",
       " ('180.76.5.114', 1),\n",
       " ('5.10.83.21', 4),\n",
       " ('204.62.56.3', 34),\n",
       " ('155.201.35.55', 6),\n",
       " ('157.56.92.142', 1),\n",
       " ('204.236.190.162', 1),\n",
       " ('24.97.227.132', 5),\n",
       " ('50.131.220.143', 7),\n",
       " ('24.130.53.65', 6),\n",
       " ('98.173.30.75', 2),\n",
       " ('2.38.110.208', 1),\n",
       " ('41.249.219.90', 1),\n",
       " ('194.237.142.21', 1),\n",
       " ('68.189.165.19', 1),\n",
       " ('157.55.33.183', 1),\n",
       " ('184.154.170.122', 2),\n",
       " ('182.253.73.95', 2),\n",
       " ('92.100.97.83', 2),\n",
       " ('23.229.67.14', 4),\n",
       " ('99.146.78.102', 1),\n",
       " ('190.107.140.178', 1),\n",
       " ('180.76.5.73', 1),\n",
       " ('208.43.251.180', 9),\n",
       " ('99.17.221.6', 2),\n",
       " ('173.252.110.115', 1),\n",
       " ('173.252.103.7', 1),\n",
       " ('91.180.146.16', 6),\n",
       " ('78.19.193.147', 6),\n",
       " ('24.114.40.26', 1),\n",
       " ('86.166.162.41', 2),\n",
       " ('5.10.83.53', 4),\n",
       " ('189.71.37.115', 6),\n",
       " ('12.110.81.190', 7),\n",
       " ('195.194.187.106', 7),\n",
       " ('148.241.190.81', 1),\n",
       " ('184.169.185.164', 1),\n",
       " ('157.55.33.17', 1),\n",
       " ('82.130.49.223', 6),\n",
       " ('31.4.197.143', 6),\n",
       " ('184.148.132.111', 1),\n",
       " ('199.30.24.78', 1),\n",
       " ('54.203.120.42', 1),\n",
       " ('173.164.44.34', 6),\n",
       " ('192.99.12.169', 2),\n",
       " ('70.42.255.243', 1),\n",
       " ('212.180.233.101', 6),\n",
       " ('109.163.234.2', 1),\n",
       " ('108.28.155.98', 6),\n",
       " ('116.199.211.249', 1),\n",
       " ('46.119.114.245', 1),\n",
       " ('63.140.98.80', 8),\n",
       " ('180.76.6.56', 1),\n",
       " ('24.236.252.67', 1),\n",
       " ('93.114.45.13', 6),\n",
       " ('66.249.73.135', 482),\n",
       " ('50.16.19.13', 113),\n",
       " ('66.249.73.185', 56),\n",
       " ('50.150.204.184', 1),\n",
       " ('207.241.237.225', 13),\n",
       " ('200.49.190.101', 3),\n",
       " ('91.177.205.119', 6),\n",
       " ('207.241.237.101', 17),\n",
       " ('87.169.99.232', 1),\n",
       " ('209.85.238.199', 102),\n",
       " ('81.220.24.207', 6),\n",
       " ('74.125.40.20', 2),\n",
       " ('108.174.55.234', 23),\n",
       " ('121.107.188.202', 1),\n",
       " ('198.46.149.143', 82),\n",
       " ('50.180.79.170', 2),\n",
       " ('105.235.130.196', 6),\n",
       " ('54.255.13.204', 6),\n",
       " ('68.184.202.186', 6),\n",
       " ('24.233.162.179', 1),\n",
       " ('220.181.108.153', 1),\n",
       " ('97.116.185.190', 6),\n",
       " ('5.255.72.168', 2),\n",
       " ('208.91.156.11', 60),\n",
       " ('74.125.176.81', 1),\n",
       " ('90.220.199.149', 6),\n",
       " ('212.201.44.247', 2),\n",
       " ('82.193.99.33', 3),\n",
       " ('85.170.84.143', 5),\n",
       " ('100.43.83.137', 84),\n",
       " ('112.110.247.238', 1),\n",
       " ('203.118.242.184', 1),\n",
       " ('212.242.185.85', 6),\n",
       " ('68.180.224.225', 99),\n",
       " ('223.81.196.65', 1),\n",
       " ('178.191.44.227', 2),\n",
       " ('94.228.34.233', 7),\n",
       " ('88.112.19.251', 11),\n",
       " ('79.185.184.23', 6),\n",
       " ('207.241.237.102', 13),\n",
       " ('66.168.50.129', 1),\n",
       " ('82.247.137.135', 6),\n",
       " ('74.125.40.16', 2),\n",
       " ('86.182.52.145', 6),\n",
       " ('92.239.20.53', 2),\n",
       " ('173.192.238.41', 3),\n",
       " ('207.241.237.223', 21),\n",
       " ('199.16.156.126', 8),\n",
       " ('193.238.231.119', 6),\n",
       " ('199.16.156.125', 9),\n",
       " ('207.241.237.226', 11),\n",
       " ('54.220.160.83', 5),\n",
       " ('74.125.40.22', 3),\n",
       " ('66.249.81.20', 4),\n",
       " ('144.76.194.187', 41),\n",
       " ('75.97.9.59', 273),\n",
       " ('50.195.216.83', 1),\n",
       " ('202.156.10.254', 3),\n",
       " ('65.55.213.79', 7),\n",
       " ('117.227.171.181', 6),\n",
       " ('65.55.213.74', 29),\n",
       " ('81.169.149.220', 1),\n",
       " ('217.212.224.183', 2),\n",
       " ('217.212.224.181', 5),\n",
       " ('192.95.12.193', 4),\n",
       " ('41.223.160.234', 1),\n",
       " ('198.228.201.147', 3),\n",
       " ('89.2.87.1', 18),\n",
       " ('89.176.234.221', 1),\n",
       " ('208.54.40.237', 6),\n",
       " ('166.147.88.15', 5),\n",
       " ('183.60.243.242', 1),\n",
       " ('82.165.139.53', 5),\n",
       " ('23.231.5.40', 1),\n",
       " ('180.76.6.48', 1),\n",
       " ('31.142.223.246', 1),\n",
       " ('80.153.191.173', 6),\n",
       " ('119.63.196.16', 1),\n",
       " ('180.180.119.57', 2),\n",
       " ('89.170.74.95', 2),\n",
       " ('157.55.32.190', 4),\n",
       " ('80.237.234.150', 4),\n",
       " ('94.222.112.110', 6),\n",
       " ('74.125.176.146', 9),\n",
       " ('195.248.32.227', 5),\n",
       " ('116.125.143.84', 2),\n",
       " ('54.219.224.86', 1),\n",
       " ('99.188.185.40', 1),\n",
       " ('202.65.130.3', 1),\n",
       " ('201.244.101.132', 1),\n",
       " ('109.87.146.211', 1),\n",
       " ('89.100.113.231', 1),\n",
       " ('185.26.239.20', 2),\n",
       " ('213.21.42.46', 6),\n",
       " ('84.198.71.68', 1),\n",
       " ('74.208.180.23', 1),\n",
       " ('71.171.122.192', 1),\n",
       " ('66.249.81.91', 13),\n",
       " ('74.125.40.17', 3),\n",
       " ('75.134.169.174', 6),\n",
       " ('157.56.92.158', 3),\n",
       " ('194.94.204.181', 2),\n",
       " ('70.190.77.28', 2),\n",
       " ('192.30.34.115', 1),\n",
       " ('50.132.55.62', 5),\n",
       " ('112.110.247.233', 1),\n",
       " ('112.110.247.227', 1),\n",
       " ('208.93.0.48', 19),\n",
       " ('107.170.40.199', 6),\n",
       " ('42.107.175.146', 5),\n",
       " ('74.218.234.48', 6),\n",
       " ('98.85.3.179', 2),\n",
       " ('46.118.118.101', 1),\n",
       " ...]"
      ]
     },
     "execution_count": 30,
     "metadata": {},
     "output_type": "execute_result"
    }
   ],
   "source": [
    "ipCounts.collect()"
   ]
  },
  {
   "cell_type": "code",
   "execution_count": 31,
   "metadata": {},
   "outputs": [
    {
     "data": {
      "text/plain": [
       "[('83.149.9.216', 23),\n",
       " ('110.136.166.128', 6),\n",
       " ('46.105.14.53', 364),\n",
       " ('123.125.71.35', 1),\n",
       " ('200.49.190.100', 1),\n",
       " ('67.214.178.190', 2),\n",
       " ('207.241.237.220', 18),\n",
       " ('207.241.237.227', 17),\n",
       " ('207.241.237.228', 16),\n",
       " ('218.30.103.62', 16),\n",
       " ('71.212.224.97', 5),\n",
       " ('86.1.76.62', 6),\n",
       " ('107.170.41.69', 10),\n",
       " ('208.115.111.72', 83),\n",
       " ('174.37.205.76', 1),\n",
       " ('134.76.249.10', 8),\n",
       " ('123.125.71.117', 1),\n",
       " ('65.19.138.34', 3),\n",
       " ('5.102.173.71', 2),\n",
       " ('187.45.193.158', 8)]"
      ]
     },
     "execution_count": 31,
     "metadata": {},
     "output_type": "execute_result"
    }
   ],
   "source": [
    "ipCounts.take(20)"
   ]
  },
  {
   "cell_type": "markdown",
   "metadata": {},
   "source": [
    "Sort by values (ascending):"
   ]
  },
  {
   "cell_type": "code",
   "execution_count": 32,
   "metadata": {},
   "outputs": [
    {
     "data": {
      "text/plain": [
       "[('123.125.71.35', 1),\n",
       " ('200.49.190.100', 1),\n",
       " ('174.37.205.76', 1),\n",
       " ('123.125.71.117', 1),\n",
       " ('180.76.5.27', 1),\n",
       " ('93.164.60.142', 1),\n",
       " ('94.175.135.116', 1),\n",
       " ('172.56.29.98', 1),\n",
       " ('173.252.73.114', 1),\n",
       " ('54.226.176.99', 1)]"
      ]
     },
     "execution_count": 32,
     "metadata": {},
     "output_type": "execute_result"
    }
   ],
   "source": [
    "ipCounts.takeOrdered(10, lambda pair: pair[1])"
   ]
  },
  {
   "cell_type": "markdown",
   "metadata": {},
   "source": [
    "Sort by values (descending):"
   ]
  },
  {
   "cell_type": "code",
   "execution_count": 33,
   "metadata": {},
   "outputs": [
    {
     "data": {
      "text/plain": [
       "[('66.249.73.135', 482),\n",
       " ('46.105.14.53', 364),\n",
       " ('130.237.218.86', 357),\n",
       " ('75.97.9.59', 273),\n",
       " ('50.16.19.13', 113),\n",
       " ('209.85.238.199', 102),\n",
       " ('68.180.224.225', 99),\n",
       " ('100.43.83.137', 84),\n",
       " ('208.115.111.72', 83),\n",
       " ('198.46.149.143', 82)]"
      ]
     },
     "execution_count": 33,
     "metadata": {},
     "output_type": "execute_result"
    }
   ],
   "source": [
    "topIPs = ipCounts.takeOrdered(10, lambda pair: -pair[1])\n",
    "topIPs"
   ]
  },
  {
   "cell_type": "markdown",
   "metadata": {},
   "source": [
    "### Plotting"
   ]
  },
  {
   "cell_type": "code",
   "execution_count": 34,
   "metadata": {},
   "outputs": [],
   "source": [
    "import pandas as pd"
   ]
  },
  {
   "cell_type": "code",
   "execution_count": 35,
   "metadata": {},
   "outputs": [
    {
     "data": {
      "text/html": [
       "<div>\n",
       "<style scoped>\n",
       "    .dataframe tbody tr th:only-of-type {\n",
       "        vertical-align: middle;\n",
       "    }\n",
       "\n",
       "    .dataframe tbody tr th {\n",
       "        vertical-align: top;\n",
       "    }\n",
       "\n",
       "    .dataframe thead th {\n",
       "        text-align: right;\n",
       "    }\n",
       "</style>\n",
       "<table border=\"1\" class=\"dataframe\">\n",
       "  <thead>\n",
       "    <tr style=\"text-align: right;\">\n",
       "      <th></th>\n",
       "      <th>IP</th>\n",
       "      <th>Count</th>\n",
       "    </tr>\n",
       "  </thead>\n",
       "  <tbody>\n",
       "    <tr>\n",
       "      <th>0</th>\n",
       "      <td>66.249.73.135</td>\n",
       "      <td>482</td>\n",
       "    </tr>\n",
       "    <tr>\n",
       "      <th>1</th>\n",
       "      <td>46.105.14.53</td>\n",
       "      <td>364</td>\n",
       "    </tr>\n",
       "    <tr>\n",
       "      <th>2</th>\n",
       "      <td>130.237.218.86</td>\n",
       "      <td>357</td>\n",
       "    </tr>\n",
       "    <tr>\n",
       "      <th>3</th>\n",
       "      <td>75.97.9.59</td>\n",
       "      <td>273</td>\n",
       "    </tr>\n",
       "    <tr>\n",
       "      <th>4</th>\n",
       "      <td>50.16.19.13</td>\n",
       "      <td>113</td>\n",
       "    </tr>\n",
       "    <tr>\n",
       "      <th>5</th>\n",
       "      <td>209.85.238.199</td>\n",
       "      <td>102</td>\n",
       "    </tr>\n",
       "    <tr>\n",
       "      <th>6</th>\n",
       "      <td>68.180.224.225</td>\n",
       "      <td>99</td>\n",
       "    </tr>\n",
       "    <tr>\n",
       "      <th>7</th>\n",
       "      <td>100.43.83.137</td>\n",
       "      <td>84</td>\n",
       "    </tr>\n",
       "    <tr>\n",
       "      <th>8</th>\n",
       "      <td>208.115.111.72</td>\n",
       "      <td>83</td>\n",
       "    </tr>\n",
       "    <tr>\n",
       "      <th>9</th>\n",
       "      <td>198.46.149.143</td>\n",
       "      <td>82</td>\n",
       "    </tr>\n",
       "  </tbody>\n",
       "</table>\n",
       "</div>"
      ],
      "text/plain": [
       "               IP  Count\n",
       "0   66.249.73.135    482\n",
       "1    46.105.14.53    364\n",
       "2  130.237.218.86    357\n",
       "3      75.97.9.59    273\n",
       "4     50.16.19.13    113\n",
       "5  209.85.238.199    102\n",
       "6  68.180.224.225     99\n",
       "7   100.43.83.137     84\n",
       "8  208.115.111.72     83\n",
       "9  198.46.149.143     82"
      ]
     },
     "execution_count": 35,
     "metadata": {},
     "output_type": "execute_result"
    }
   ],
   "source": [
    "df = pd.DataFrame(topIPs, columns=['IP', 'Count'])\n",
    "df"
   ]
  },
  {
   "cell_type": "code",
   "execution_count": 36,
   "metadata": {},
   "outputs": [],
   "source": [
    "import matplotlib.pyplot as plt"
   ]
  },
  {
   "cell_type": "code",
   "execution_count": 37,
   "metadata": {},
   "outputs": [
    {
     "data": {
      "text/plain": [
       "<AxesSubplot:ylabel='IP'>"
      ]
     },
     "execution_count": 37,
     "metadata": {},
     "output_type": "execute_result"
    },
    {
     "data": {
      "image/png": "[encoded data removed]",
      "text/plain": [
       "<Figure size 432x288 with 1 Axes>"
      ]
     },
     "metadata": {
      "needs_background": "light"
     },
     "output_type": "display_data"
    }
   ],
   "source": [
    "df.plot.barh(x = 'IP')"
   ]
  },
  {
   "cell_type": "markdown",
   "metadata": {},
   "source": [
    "### Closures and accumulators"
   ]
  },
  {
   "cell_type": "markdown",
   "metadata": {},
   "source": [
    "Local variables are not passed to closures or functions, they remain local!"
   ]
  },
  {
   "cell_type": "code",
   "execution_count": 38,
   "metadata": {},
   "outputs": [
    {
     "name": "stdout",
     "output_type": "stream",
     "text": [
      "Counter value:  0\n"
     ]
    }
   ],
   "source": [
    "counter = 0\n",
    "\n",
    "# Wrong: Don't do this!!\n",
    "def increment_counter(x):\n",
    "    global counter\n",
    "    counter += x\n",
    "\n",
    "wordCounts.foreach(increment_counter)\n",
    "\n",
    "print(\"Counter value: \", counter)"
   ]
  },
  {
   "cell_type": "markdown",
   "metadata": {},
   "source": [
    "Use *accumulators* instead"
   ]
  },
  {
   "cell_type": "code",
   "execution_count": 39,
   "metadata": {},
   "outputs": [
    {
     "data": {
      "text/plain": [
       "Accumulator<id=0, value=0>"
      ]
     },
     "execution_count": 39,
     "metadata": {},
     "output_type": "execute_result"
    }
   ],
   "source": [
    "accum = sc.accumulator(0)\n",
    "accum"
   ]
  },
  {
   "cell_type": "code",
   "execution_count": 40,
   "metadata": {},
   "outputs": [
    {
     "name": "stdout",
     "output_type": "stream",
     "text": [
      "Counter value:  197956\n"
     ]
    }
   ],
   "source": [
    "# Correct way is to use accumulators\n",
    "def increment_counter(x):\n",
    "    accum.add(x)\n",
    "\n",
    "wordCounts.foreach(increment_counter)\n",
    "\n",
    "print(\"Counter value: \", accum)"
   ]
  },
  {
   "cell_type": "markdown",
   "metadata": {},
   "source": [
    "## Homework"
   ]
  },
  {
   "cell_type": "markdown",
   "metadata": {},
   "source": [
    "### 1. Most popular web-browsers (pie chart)"
   ]
  },
  {
   "cell_type": "code",
   "execution_count": 41,
   "metadata": {},
   "outputs": [
    {
     "data": {
      "text/plain": [
       "['83.149.9.216 - - [17/May/2015:10:05:03 +0000] \"GET /presentations/logstash-monitorama-2013/images/kibana-search.png HTTP/1.1\" 200 203023 \"http://semicomplete.com/presentations/logstash-monitorama-2013/\" \"Mozilla/5.0 (Macintosh; Intel Mac OS X 10_9_1) AppleWebKit/537.36 (KHTML, like Gecko) Chrome/32.0.1700.77 Safari/537.36\"',\n",
       " '83.149.9.216 - - [17/May/2015:10:05:43 +0000] \"GET /presentations/logstash-monitorama-2013/images/kibana-dashboard3.png HTTP/1.1\" 200 171717 \"http://semicomplete.com/presentations/logstash-monitorama-2013/\" \"Mozilla/5.0 (Macintosh; Intel Mac OS X 10_9_1) AppleWebKit/537.36 (KHTML, like Gecko) Chrome/32.0.1700.77 Safari/537.36\"']"
      ]
     },
     "execution_count": 41,
     "metadata": {},
     "output_type": "execute_result"
    }
   ],
   "source": [
    "filename = \"apache_logs\"\n",
    "data = sc.textFile(filename)\n",
    "data.collect()[:2]"
   ]
  },
  {
   "cell_type": "code",
   "execution_count": 42,
   "metadata": {},
   "outputs": [
    {
     "data": {
      "text/plain": [
       "[('mozilla', 8400), ('opera', 93), ('chrome', 1)]"
      ]
     },
     "execution_count": 42,
     "metadata": {},
     "output_type": "execute_result"
    }
   ],
   "source": [
    "import operator\n",
    "\n",
    "webbrowser_regex = r\"(chrome|opera|explorer|mozilla)\"\n",
    "webbrowsers_list = [\"chrome\", \"mozilla\", \"opera\", \"explorer\"]\n",
    "top_k = 10\n",
    "\n",
    "browsers_counts = (data\n",
    "    .filter(lambda log: any(browser in log.lower() for browser in webbrowsers_list))\n",
    "    .map(lambda log: (re.search(webbrowser_regex, log.lower()).group(0), 1))\n",
    "    .filter(lambda x: x[0])\n",
    "    .reduceByKey(operator.add)\n",
    "    .takeOrdered(top_k, lambda x: -x[1])\n",
    ")\n",
    "\n",
    "browsers_counts"
   ]
  },
  {
   "cell_type": "code",
   "execution_count": 49,
   "metadata": {},
   "outputs": [
    {
     "data": {
      "image/png": "[encoded data removed]",
      "text/plain": [
       "<Figure size 1152x648 with 1 Axes>"
      ]
     },
     "metadata": {},
     "output_type": "display_data"
    }
   ],
   "source": [
    "import numpy as np\n",
    "xs = [browser for (browser, count) in browsers_counts]\n",
    "ys = [count for (browser, count) in browsers_counts]\n",
    "plt.figure(figsize=(16,9))\n",
    "plt.pie(ys, labels=xs, autopct=lambda x: np.round(x/100.*np.array(ys).sum(), 0))\n",
    "plt.title(\"Browsers popularity\")\n",
    "\n",
    "plt.show()"
   ]
  },
  {
   "cell_type": "markdown",
   "metadata": {},
   "source": [
    "### 2. Requests count per hour grouped by return code (Bar plot)"
   ]
  },
  {
   "cell_type": "code",
   "execution_count": 52,
   "metadata": {},
   "outputs": [],
   "source": [
    "from typing import Tuple\n",
    "\n",
    "hour_regex = \"\\[\\d+/\\w+/\\d+:(\\d+):\"\n",
    "response_code_regex = \"\\\"(GET|HEAD|POST|OPTIONS).*?\\\" (\\d+)\"\n",
    "\n",
    "def get_hour_and_response_code(log: str) -> Tuple[int, int, int]:\n",
    "    hour = int(re.search(hour_regex, log).group(1))\n",
    "    response_code = int(re.search(response_code_regex, log).group(2))\n",
    "    return (hour, response_code), 1\n",
    "\n",
    "requests_counts = (data\n",
    "    .map(lambda log: get_hour_and_response_code(log))\n",
    "    .reduceByKey(operator.add)\n",
    "    .map(lambda x: [x[0][0], x[0][1], x[1]])\n",
    "    .collect()\n",
    ")"
   ]
  },
  {
   "cell_type": "code",
   "execution_count": 51,
   "metadata": {},
   "outputs": [
    {
     "data": {
      "text/plain": [
       "<AxesSubplot:xlabel='hour', ylabel='count'>"
      ]
     },
     "execution_count": 51,
     "metadata": {},
     "output_type": "execute_result"
    },
    {
     "data": {
      "image/png": "[encoded data removed]",
      "text/plain": [
       "<Figure size 720x720 with 1 Axes>"
      ]
     },
     "metadata": {
      "needs_background": "light"
     },
     "output_type": "display_data"
    }
   ],
   "source": [
    "import seaborn as sns\n",
    "\n",
    "df = pd.DataFrame(\n",
    "    data=requests_counts,\n",
    "    columns=[\"hour\", \"code\", \"count\"]\n",
    ")\n",
    "\n",
    "plt.figure(figsize=[10, 10])\n",
    "sns.barplot(data=df, x=\"hour\", y=\"count\", hue=\"code\")"
   ]
  },
  {
   "cell_type": "markdown",
   "metadata": {},
   "source": [
    "### 3. Most popular downloaded files by type\n"
   ]
  },
  {
   "cell_type": "code",
   "execution_count": 53,
   "metadata": {},
   "outputs": [
    {
     "data": {
      "text/plain": [
       "[('png', 2331), ('css', 1458), ('ico', 800), ('html', 753), ('jpg', 257)]"
      ]
     },
     "execution_count": 53,
     "metadata": {},
     "output_type": "execute_result"
    }
   ],
   "source": [
    "file_type_regex = \"\\\"GET \\S+\\.([a-zA-Z]+) \"\n",
    "top_k = 10\n",
    "\n",
    "def get_file_type(log: str) -> Tuple[str, int]:\n",
    "    file_type = re.search(file_type_regex, log)\n",
    "    return (file_type.group(1), 1) if file_type else (\"\", 0)\n",
    "\n",
    "\n",
    "resource_type_counts = (data\n",
    "    .filter(lambda log: \"GET\" in log)\n",
    "    .map(lambda log: get_file_type(log))\n",
    "    .reduceByKey(operator.add)\n",
    "    .filter(lambda x: x[1] > 0)  # remove \"empty\" links count\n",
    "    .takeOrdered(top_k, lambda x: -x[1])\n",
    ")\n",
    "\n",
    "resource_type_counts[:5]"
   ]
  },
  {
   "cell_type": "code",
   "execution_count": 55,
   "metadata": {},
   "outputs": [
    {
     "data": {
      "image/png": "[encoded data removed]",
      "text/plain": [
       "<Figure size 432x288 with 1 Axes>"
      ]
     },
     "metadata": {
      "needs_background": "light"
     },
     "output_type": "display_data"
    }
   ],
   "source": [
    "xs = [res_type for (res_type, count) in resource_type_counts]\n",
    "ys = [count for (res_type, count) in resource_type_counts]\n",
    "\n",
    "plt.barh(xs, ys)\n",
    "plt.title(\"Popularity by type\")\n",
    "plt.show()"
   ]
  },
  {
   "cell_type": "markdown",
   "metadata": {},
   "source": [
    "### 4. Users with geolocations"
   ]
  },
  {
   "cell_type": "code",
   "execution_count": 57,
   "metadata": {},
   "outputs": [],
   "source": [
    "import cartopy.crs as crs\n",
    "import ipinfo\n",
    "\n",
    "ip_regex = \"[(\\d\\.)]+\"\n",
    "\n",
    "ips = (data\n",
    "    .map(lambda log: re.match(ip_regex, log).group(0))\n",
    "    .distinct()\n",
    "    .collect()\n",
    ")"
   ]
  },
  {
   "cell_type": "code",
   "execution_count": 149,
   "metadata": {},
   "outputs": [
    {
     "data": {
      "text/plain": [
       "[(55.7522, 37.6156),\n",
       " (-6.9931, 110.4208),\n",
       " (39.9075, 116.3972),\n",
       " (14.5705, -90.4993),\n",
       " (40.7143, -74.006)]"
      ]
     },
     "execution_count": 149,
     "metadata": {},
     "output_type": "execute_result"
    }
   ],
   "source": [
    "access_token = \"525a864c405e04\"\n",
    "ipinfo_handler = ipinfo.getHandler(access_token=access_token)\n",
    "\n",
    "ipinfo_response = ipinfo_handler.getBatchDetails(ips)\n",
    "locations = [\n",
    "    details[\"loc\"].split(\",\")\n",
    "    for details in ipinfo_response.values()\n",
    "]\n",
    "\n",
    "locations = [(float(lat), float(long)) for lat, long in locations]\n",
    "lats =  [float(lat) for lat, long in locations]\n",
    "longs = [float(long) for lat, long in locations]\n",
    "\n",
    "locations[:5]"
   ]
  },
  {
   "cell_type": "code",
   "execution_count": 168,
   "metadata": {},
   "outputs": [
    {
     "data": {
      "text/plain": [
       "<AxesSubplot: >"
      ]
     },
     "execution_count": 168,
     "metadata": {},
     "output_type": "execute_result"
    },
    {
     "data": {
      "image/png": "[encoded data removed]",
      "text/plain": [
       "<Figure size 640x480 with 1 Axes>"
      ]
     },
     "metadata": {},
     "output_type": "display_data"
    }
   ],
   "source": [
    "import geopandas as gpd\n",
    "points = gpd.points_from_xy(longs, lats)\n",
    "gdf = gpd.GeoDataFrame(points, geometry=points)\n",
    "\n",
    "world = gpd.read_file(gpd.datasets.get_path('naturalearth_lowres'))\n",
    "ax = world.plot(color='white', edgecolor='black')\n",
    "\n",
    "gdf.plot(ax=ax, color='red', markersize=5)"
   ]
  },
  {
   "cell_type": "markdown",
   "metadata": {},
   "source": [
    "### Estimate percentage of traffic generated by bots"
   ]
  },
  {
   "cell_type": "code",
   "execution_count": 169,
   "metadata": {},
   "outputs": [
    {
     "name": "stdout",
     "output_type": "stream",
     "text": [
      "Estimated bot percentage: 13.47%\n"
     ]
    }
   ],
   "source": [
    "user_agent_regex = \"\\\"(.*?)\\\"\"\n",
    "bots_set = {\"Googlebot\", \"AskJeeves\", \"Digger\", \"Lycos\", \"msnbot\",\n",
    "    \"Inktomi Slurp\", \"Yahoo\", \"Nutch\", \"bingbot\", \"BingPreview\",\n",
    "    \"Mediapartners-Google\", \"proximic\", \"AhrefsBot\", \"AdsBot-Google\",\n",
    "    \"Ezooms\", \"AddThis.com\", \"facebookexternalhit\", \"MetaURI\",\n",
    "    \"Feedfetcher-Google\", \"PaperLiBot\", \"TweetmemeBot\", \"Sogou web spider\",\n",
    "    \"GoogleProducer\", \"RockmeltEmbedder\", \"ShareThisFetcher\", \"YandexBot\",\n",
    "    \"rogerbot-crawler\", \"ShowyouBot\", \"Baiduspider\", \"Sosospider\", \"Exabot\"\n",
    "}\n",
    "\n",
    "bot_count = (data\n",
    "    .filter(lambda log: any(bot in log for bot in bots_set))\n",
    "    .count()\n",
    ")\n",
    "\n",
    "bot_perc = 100 * (bot_count / data.count())\n",
    "print(f\"Estimated bot percentage: {bot_perc:.2f}%\")"
   ]
  },
  {
   "cell_type": "code",
   "execution_count": null,
   "metadata": {},
   "outputs": [],
   "source": []
  }
 ],
 "metadata": {
  "kernelspec": {
   "display_name": "umapkernel",
   "language": "python",
   "name": "umapkernel"
  },
  "language_info": {
   "codemirror_mode": {
    "name": "ipython",
    "version": 3
   },
   "file_extension": ".py",
   "mimetype": "text/x-python",
   "name": "python",
   "nbconvert_exporter": "python",
   "pygments_lexer": "ipython3",
   "version": "3.9.12"
  }
 },
 "nbformat": 4,
 "nbformat_minor": 4
}
