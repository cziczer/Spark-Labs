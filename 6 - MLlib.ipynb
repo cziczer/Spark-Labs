{
 "cells": [
  {
   "cell_type": "markdown",
   "metadata": {
    "id": "7gm9aYzTDTTU"
   },
   "source": [
    "# Spark MLlib Exercises\n",
    "\n",
    "\n",
    "http://spark.apache.org/docs/latest/ml-statistics.html"
   ]
  },
  {
   "cell_type": "code",
   "execution_count": 1,
   "metadata": {
    "colab": {
     "base_uri": "https://localhost:8080/"
    },
    "id": "ZTNQdaiv7h_a",
    "outputId": "eb2b2d39-2fd3-453d-b1f7-772a5b044dd7"
   },
   "outputs": [
    {
     "name": "stdout",
     "output_type": "stream",
     "text": [
      "Looking in indexes: https://pypi.org/simple, https://us-python.pkg.dev/colab-wheels/public/simple/\n",
      "Collecting pyspark\n",
      "  Downloading pyspark-3.3.1.tar.gz (281.4 MB)\n",
      "\u001b[K     |████████████████████████████████| 281.4 MB 40 kB/s \n",
      "\u001b[?25hCollecting py4j==0.10.9.5\n",
      "  Downloading py4j-0.10.9.5-py2.py3-none-any.whl (199 kB)\n",
      "\u001b[K     |████████████████████████████████| 199 kB 54.0 MB/s \n",
      "\u001b[?25hBuilding wheels for collected packages: pyspark\n",
      "  Building wheel for pyspark (setup.py) ... \u001b[?25l\u001b[?25hdone\n",
      "  Created wheel for pyspark: filename=pyspark-3.3.1-py2.py3-none-any.whl size=281845512 sha256=1a60c551d9c5e9a34165b1acfb11b5d7bd1db918ad6c5f898004747d531812fb\n",
      "  Stored in directory: /root/.cache/pip/wheels/43/dc/11/ec201cd671da62fa9c5cc77078235e40722170ceba231d7598\n",
      "Successfully built pyspark\n",
      "Installing collected packages: py4j, pyspark\n",
      "Successfully installed py4j-0.10.9.5 pyspark-3.3.1\n"
     ]
    }
   ],
   "source": [
    "!pip install pyspark\n"
   ]
  },
  {
   "cell_type": "code",
   "execution_count": 2,
   "metadata": {
    "id": "YBM19ZBQDTTX"
   },
   "outputs": [],
   "source": [
    "from pyspark.sql import SparkSession\n",
    "from pyspark.conf import SparkConf\n",
    "spark = SparkSession.builder.getOrCreate()"
   ]
  },
  {
   "cell_type": "code",
   "execution_count": 3,
   "metadata": {
    "colab": {
     "base_uri": "https://localhost:8080/",
     "height": 219
    },
    "id": "u1Z_Q8lZDTTZ",
    "outputId": "cdc3baf7-9feb-4de2-d3b1-c585d65ae935",
    "scrolled": true
   },
   "outputs": [
    {
     "data": {
      "text/html": [
       "\n",
       "            <div>\n",
       "                <p><b>SparkSession - in-memory</b></p>\n",
       "                \n",
       "        <div>\n",
       "            <p><b>SparkContext</b></p>\n",
       "\n",
       "            <p><a href=\"http://3cc7cb67c2d1:4040\">Spark UI</a></p>\n",
       "\n",
       "            <dl>\n",
       "              <dt>Version</dt>\n",
       "                <dd><code>v3.3.1</code></dd>\n",
       "              <dt>Master</dt>\n",
       "                <dd><code>local[*]</code></dd>\n",
       "              <dt>AppName</dt>\n",
       "                <dd><code>pyspark-shell</code></dd>\n",
       "            </dl>\n",
       "        </div>\n",
       "        \n",
       "            </div>\n",
       "        "
      ],
      "text/plain": [
       "<pyspark.sql.session.SparkSession at 0x7f7d48ef0b20>"
      ]
     },
     "execution_count": 3,
     "metadata": {},
     "output_type": "execute_result"
    }
   ],
   "source": [
    "spark"
   ]
  },
  {
   "cell_type": "markdown",
   "metadata": {
    "id": "a7GDDu-2DTTa"
   },
   "source": [
    "## 1. Statistics (1p.)\n",
    "\n",
    "Download the following dataset: https://www.kaggle.com/c/titanic/data?select=train.csv"
   ]
  },
  {
   "cell_type": "code",
   "execution_count": 5,
   "metadata": {
    "colab": {
     "base_uri": "https://localhost:8080/"
    },
    "id": "rwIzAVYsGkEC",
    "outputId": "f1d6bf79-76d9-4871-8a19-1d3cd45efbaf"
   },
   "outputs": [
    {
     "name": "stdout",
     "output_type": "stream",
     "text": [
      "+-----------+--------+------+--------------------+------+----+-----+-----+--------+-------+-----------+--------+\n",
      "|PassengerId|Survived|Pclass|                Name|   Sex| Age|SibSp|Parch|  Ticket|   Fare|      Cabin|Embarked|\n",
      "+-----------+--------+------+--------------------+------+----+-----+-----+--------+-------+-----------+--------+\n",
      "|          2|       1|     1|Cumings, Mrs. Joh...|female|38.0|    1|    0|PC 17599|71.2833|        C85|       C|\n",
      "|          4|       1|     1|Futrelle, Mrs. Ja...|female|35.0|    1|    0|  113803|   53.1|       C123|       S|\n",
      "|          7|       0|     1|McCarthy, Mr. Tim...|  male|54.0|    0|    0|   17463|51.8625|        E46|       S|\n",
      "|         11|       1|     3|Sandstrom, Miss. ...|female| 4.0|    1|    1| PP 9549|   16.7|         G6|       S|\n",
      "|         12|       1|     1|Bonnell, Miss. El...|female|58.0|    0|    0|  113783|  26.55|       C103|       S|\n",
      "|         22|       1|     2|Beesley, Mr. Lawr...|  male|34.0|    0|    0|  248698|   13.0|        D56|       S|\n",
      "|         24|       1|     1|Sloper, Mr. Willi...|  male|28.0|    0|    0|  113788|   35.5|         A6|       S|\n",
      "|         28|       0|     1|Fortune, Mr. Char...|  male|19.0|    3|    2|   19950|  263.0|C23 C25 C27|       S|\n",
      "|         53|       1|     1|Harper, Mrs. Henr...|female|49.0|    1|    0|PC 17572|76.7292|        D33|       C|\n",
      "|         55|       0|     1|Ostby, Mr. Engelh...|  male|65.0|    0|    1|  113509|61.9792|        B30|       C|\n",
      "+-----------+--------+------+--------------------+------+----+-----+-----+--------+-------+-----------+--------+\n",
      "only showing top 10 rows\n",
      "\n",
      "[('PassengerId', 'int'), ('Survived', 'int'), ('Pclass', 'int'), ('Name', 'string'), ('Sex', 'string'), ('Age', 'double'), ('SibSp', 'int'), ('Parch', 'int'), ('Ticket', 'string'), ('Fare', 'double'), ('Cabin', 'string'), ('Embarked', 'string')]\n"
     ]
    }
   ],
   "source": [
    "file = \"titanic_train.csv\"\n",
    "titanic_df = spark.read.format(\"csv\").options(inferSchema=\"true\", header=\"true\").load(file)\n",
    "titanic_df = titanic_df.dropna(how='any')\n",
    "titanic_df.show(10)\n",
    "print(titanic_df.dtypes)"
   ]
  },
  {
   "cell_type": "markdown",
   "metadata": {
    "id": "45tDK3AbDTTb"
   },
   "source": [
    "### Exercise 1.A.\n",
    "**TODO:** Calculate descriptive statistics for 'Age' and 'Fare' (see https://spark.apache.org/docs/1.6.1/api/java/org/apache/spark/sql/DataFrame.html#describe(scala.collection.Seq))"
   ]
  },
  {
   "cell_type": "code",
   "execution_count": 6,
   "metadata": {
    "colab": {
     "base_uri": "https://localhost:8080/"
    },
    "id": "wH4SqCVgjYzX",
    "outputId": "11db4405-428a-4580-f5cd-9c8128d335ef"
   },
   "outputs": [
    {
     "name": "stdout",
     "output_type": "stream",
     "text": [
      "+-------+------------------+\n",
      "|summary|               Age|\n",
      "+-------+------------------+\n",
      "|  count|               183|\n",
      "|   mean|  35.6744262295082|\n",
      "| stddev|15.643865966849717|\n",
      "|    min|              0.92|\n",
      "|    max|              80.0|\n",
      "+-------+------------------+\n",
      "\n",
      "+-------+-----------------+\n",
      "|summary|             Fare|\n",
      "+-------+-----------------+\n",
      "|  count|              183|\n",
      "|   mean|78.68246885245901|\n",
      "| stddev|76.34784270040569|\n",
      "|    min|              0.0|\n",
      "|    max|         512.3292|\n",
      "+-------+-----------------+\n",
      "\n"
     ]
    }
   ],
   "source": [
    "titanic_df.describe(\"Age\").show()\n",
    "titanic_df.describe(\"Fare\").show()"
   ]
  },
  {
   "cell_type": "markdown",
   "metadata": {
    "id": "YnmEXLrSDTTd"
   },
   "source": [
    "### Exercise 1.B.\n",
    "\n",
    "**TODO:** Check if 'Age' and 'Fare' have normal distribution (see http://spark.apache.org/docs/latest/api/java/org/apache/spark/ml/stat/KolmogorovSmirnovTest.html)"
   ]
  },
  {
   "cell_type": "code",
   "execution_count": 28,
   "metadata": {
    "colab": {
     "base_uri": "https://localhost:8080/"
    },
    "id": "-U2RwXRejak3",
    "outputId": "a1060600-2f06-43cb-8f89-f111ca3db145"
   },
   "outputs": [
    {
     "name": "stderr",
     "output_type": "stream",
     "text": [
      "/usr/local/lib/python3.8/dist-packages/pyspark/sql/dataframe.py:3313: FutureWarning: DataFrame.to_pandas_on_spark is deprecated. Use DataFrame.pandas_api instead.\n",
      "  warnings.warn(\n",
      "/usr/local/lib/python3.8/dist-packages/pyspark/sql/dataframe.py:3313: FutureWarning: DataFrame.to_pandas_on_spark is deprecated. Use DataFrame.pandas_api instead.\n",
      "  warnings.warn(\n",
      "/usr/local/lib/python3.8/dist-packages/pyspark/sql/dataframe.py:3313: FutureWarning: DataFrame.to_pandas_on_spark is deprecated. Use DataFrame.pandas_api instead.\n",
      "  warnings.warn(\n",
      "/usr/local/lib/python3.8/dist-packages/pyspark/sql/dataframe.py:3313: FutureWarning: DataFrame.to_pandas_on_spark is deprecated. Use DataFrame.pandas_api instead.\n",
      "  warnings.warn(\n"
     ]
    },
    {
     "name": "stdout",
     "output_type": "stream",
     "text": [
      "Row(pValue=0.8522382560293139, statistic=0.04414417432750317)\n",
      "Row(pValue=6.282326284745565e-07, statistic=0.2005338889924242)\n"
     ]
    }
   ],
   "source": [
    "from pyspark.ml.stat import Correlation, KolmogorovSmirnovTest\n",
    "\n",
    "mean_fare = titanic_df.describe(\"Fare\").to_pandas_on_spark().iloc[1][1]\n",
    "std_fare = titanic_df.describe(\"Fare\").to_pandas_on_spark().iloc[2][1]\n",
    "\n",
    "\n",
    "mean_age = titanic_df.describe(\"Age\").to_pandas_on_spark().iloc[1][1]\n",
    "std_age = titanic_df.describe(\"Age\").to_pandas_on_spark().iloc[2][1]\n",
    "\n",
    "print(KolmogorovSmirnovTest.test(titanic_df, \"Age\", \"norm\", mean_age, std_age).first())\n",
    "print(KolmogorovSmirnovTest.test(titanic_df, \"Fare\", \"norm\", mean_fare, std_fare).first())"
   ]
  },
  {
   "cell_type": "markdown",
   "metadata": {},
   "source": [
    "W przypadku Age możemy mówić o rozkładzie normmalnym (p-value bliskie 1),\n",
    "natomiast przy Fare mamy bardzo niską wartość, prawie 0, więc odrzucamy hipotezę\n",
    "o rozkładzie normalnym"
   ]
  },
  {
   "cell_type": "markdown",
   "metadata": {
    "id": "LABGbwAsNJCa"
   },
   "source": [
    "### Exercise 1.C.\n",
    "\n",
    "**TODO:** Calculate Pearson correlation between the following pairs of features:  \n",
    "* 'Age' and 'Survived'\n",
    "* 'Sex' and 'Survived' *(remember about encoding 'Sex' attributes as 0s and 1s)*\n",
    "\n",
    "Which correlation is stronger?"
   ]
  },
  {
   "cell_type": "code",
   "execution_count": 30,
   "metadata": {
    "colab": {
     "base_uri": "https://localhost:8080/"
    },
    "id": "wHUlmM-OjcBi",
    "outputId": "f4b2bbab-9be1-4628-8473-900e7121cfac"
   },
   "outputs": [
    {
     "name": "stdout",
     "output_type": "stream",
     "text": [
      "-0.2540847542030532\n",
      "-0.5324179744538412\n"
     ]
    }
   ],
   "source": [
    "from pyspark.sql import functions as F\n",
    "from pyspark.sql import types as T\n",
    "\n",
    "@F.udf(returnType=T.IntegerType())\n",
    "def sex_to_integers(sex: str) -> int:\n",
    "    return int(sex == \"male\")\n",
    "\n",
    "titanic_df_encoded = (\n",
    "    titanic_df\n",
    "    .select(\"Age\", \"Sex\", \"Survived\")\n",
    "    .withColumn(\"Sex\", sex_to_integers(F.col(\"Sex\")))\n",
    ")\n",
    "\n",
    "print(titanic_df_encoded.corr(\"Age\", \"Survived\", method=\"pearson\"))\n",
    "print(titanic_df_encoded.corr(\"Sex\", \"Survived\", method=\"pearson\"))"
   ]
  },
  {
   "cell_type": "markdown",
   "metadata": {},
   "source": [
    "W przypadku wieku mamy niską korelację, w przypadku płci już większą, co ma\n",
    "sens, ponieważ kobiety były ewakuowane wcześniej"
   ]
  },
  {
   "cell_type": "markdown",
   "metadata": {
    "id": "Zq3d-SBVDTTe"
   },
   "source": [
    "## 2. Loading data"
   ]
  },
  {
   "cell_type": "markdown",
   "metadata": {
    "id": "pvoN8rt8DTTe"
   },
   "source": [
    "Doc: http://spark.apache.org/docs/latest/ml-datasource.html "
   ]
  },
  {
   "cell_type": "markdown",
   "metadata": {
    "id": "3SQQe2vGDTTf"
   },
   "source": [
    "Download data from https://github.com/apache/spark/blob/master/data/mllib/sample_libsvm_data.txt and load as DataFrame. "
   ]
  },
  {
   "cell_type": "code",
   "execution_count": 31,
   "metadata": {
    "colab": {
     "base_uri": "https://localhost:8080/"
    },
    "id": "GXtjoNJLDKj1",
    "outputId": "eef7d798-e1a6-4514-9053-78fb4bc53ea4"
   },
   "outputs": [
    {
     "name": "stdout",
     "output_type": "stream",
     "text": [
      "--2022-12-19 11:02:43--  https://raw.githubusercontent.com/apache/spark/master/data/mllib/sample_libsvm_data.txt\n",
      "Resolving raw.githubusercontent.com (raw.githubusercontent.com)... 185.199.108.133, 185.199.109.133, 185.199.110.133, ...\n",
      "Connecting to raw.githubusercontent.com (raw.githubusercontent.com)|185.199.108.133|:443... connected.\n",
      "HTTP request sent, awaiting response... 200 OK\n",
      "Length: 104736 (102K) [text/plain]\n",
      "Saving to: ‘sample_libsvm_data.txt’\n",
      "\n",
      "sample_libsvm_data. 100%[===================>] 102.28K  --.-KB/s    in 0.02s   \n",
      "\n",
      "2022-12-19 11:02:43 (6.31 MB/s) - ‘sample_libsvm_data.txt’ saved [104736/104736]\n",
      "\n"
     ]
    }
   ],
   "source": [
    "!wget -O sample_libsvm_data.txt 'https://raw.githubusercontent.com/apache/spark/master/data/mllib/sample_libsvm_data.txt'"
   ]
  },
  {
   "cell_type": "code",
   "execution_count": 32,
   "metadata": {
    "colab": {
     "base_uri": "https://localhost:8080/"
    },
    "id": "FrqDceGODTTf",
    "outputId": "46e47871-c435-45c3-9376-90f555d5273c"
   },
   "outputs": [
    {
     "name": "stdout",
     "output_type": "stream",
     "text": [
      "+-----+--------------------+\n",
      "|label|            features|\n",
      "+-----+--------------------+\n",
      "|  0.0|(780,[127,128,129...|\n",
      "|  1.0|(780,[158,159,160...|\n",
      "|  1.0|(780,[124,125,126...|\n",
      "|  1.0|(780,[152,153,154...|\n",
      "|  1.0|(780,[151,152,153...|\n",
      "|  0.0|(780,[129,130,131...|\n",
      "|  1.0|(780,[158,159,160...|\n",
      "|  1.0|(780,[99,100,101,...|\n",
      "|  0.0|(780,[154,155,156...|\n",
      "|  0.0|(780,[127,128,129...|\n",
      "+-----+--------------------+\n",
      "only showing top 10 rows\n",
      "\n"
     ]
    },
    {
     "data": {
      "text/plain": [
       "[Row(label=0.0, features=SparseVector(780, {127: 51.0, 128: 159.0, 129: 253.0, 130: 159.0, 131: 50.0, 154: 48.0, 155: 238.0, 156: 252.0, 157: 252.0, 158: 252.0, 159: 237.0, 181: 54.0, 182: 227.0, 183: 253.0, 184: 252.0, 185: 239.0, 186: 233.0, 187: 252.0, 188: 57.0, 189: 6.0, 207: 10.0, 208: 60.0, 209: 224.0, 210: 252.0, 211: 253.0, 212: 252.0, 213: 202.0, 214: 84.0, 215: 252.0, 216: 253.0, 217: 122.0, 235: 163.0, 236: 252.0, 237: 252.0, 238: 252.0, 239: 253.0, 240: 252.0, 241: 252.0, 242: 96.0, 243: 189.0, 244: 253.0, 245: 167.0, 262: 51.0, 263: 238.0, 264: 253.0, 265: 253.0, 266: 190.0, 267: 114.0, 268: 253.0, 269: 228.0, 270: 47.0, 271: 79.0, 272: 255.0, 273: 168.0, 289: 48.0, 290: 238.0, 291: 252.0, 292: 252.0, 293: 179.0, 294: 12.0, 295: 75.0, 296: 121.0, 297: 21.0, 300: 253.0, 301: 243.0, 302: 50.0, 316: 38.0, 317: 165.0, 318: 253.0, 319: 233.0, 320: 208.0, 321: 84.0, 328: 253.0, 329: 252.0, 330: 165.0, 343: 7.0, 344: 178.0, 345: 252.0, 346: 240.0, 347: 71.0, 348: 19.0, 349: 28.0, 356: 253.0, 357: 252.0, 358: 195.0, 371: 57.0, 372: 252.0, 373: 252.0, 374: 63.0, 384: 253.0, 385: 252.0, 386: 195.0, 399: 198.0, 400: 253.0, 401: 190.0, 412: 255.0, 413: 253.0, 414: 196.0, 426: 76.0, 427: 246.0, 428: 252.0, 429: 112.0, 440: 253.0, 441: 252.0, 442: 148.0, 454: 85.0, 455: 252.0, 456: 230.0, 457: 25.0, 466: 7.0, 467: 135.0, 468: 253.0, 469: 186.0, 470: 12.0, 482: 85.0, 483: 252.0, 484: 223.0, 493: 7.0, 494: 131.0, 495: 252.0, 496: 225.0, 497: 71.0, 510: 85.0, 511: 252.0, 512: 145.0, 520: 48.0, 521: 165.0, 522: 252.0, 523: 173.0, 538: 86.0, 539: 253.0, 540: 225.0, 547: 114.0, 548: 238.0, 549: 253.0, 550: 162.0, 566: 85.0, 567: 252.0, 568: 249.0, 569: 146.0, 570: 48.0, 571: 29.0, 572: 85.0, 573: 178.0, 574: 225.0, 575: 253.0, 576: 223.0, 577: 167.0, 578: 56.0, 594: 85.0, 595: 252.0, 596: 252.0, 597: 252.0, 598: 229.0, 599: 215.0, 600: 252.0, 601: 252.0, 602: 252.0, 603: 196.0, 604: 130.0, 622: 28.0, 623: 199.0, 624: 252.0, 625: 252.0, 626: 253.0, 627: 252.0, 628: 252.0, 629: 233.0, 630: 145.0, 651: 25.0, 652: 128.0, 653: 252.0, 654: 253.0, 655: 252.0, 656: 141.0, 657: 37.0}))]"
      ]
     },
     "execution_count": 32,
     "metadata": {},
     "output_type": "execute_result"
    }
   ],
   "source": [
    "file = \"sample_libsvm_data.txt\"\n",
    "\n",
    "df = spark.read.format(\"libsvm\").option(\"numFeatures\", \"780\").load(file)\n",
    "df.show(10)\n",
    "df.take(1)"
   ]
  },
  {
   "cell_type": "markdown",
   "metadata": {
    "id": "MwEFjUnbDTTg"
   },
   "source": [
    "### Exercise 2.A\n",
    "**TODO:** Load wine data from https://www.csie.ntu.edu.tw/~cjlin/libsvmtools/datasets/multiclass/wine.scale\n",
    "Dataset description: http://archive.ics.uci.edu/ml/datasets/Wine"
   ]
  },
  {
   "cell_type": "code",
   "execution_count": 33,
   "metadata": {
    "colab": {
     "base_uri": "https://localhost:8080/"
    },
    "id": "w71w8XBzjeXE",
    "outputId": "929311aa-4d96-4adf-9f79-a8d91776244b"
   },
   "outputs": [
    {
     "name": "stdout",
     "output_type": "stream",
     "text": [
      "--2022-12-19 11:05:24--  https://www.csie.ntu.edu.tw/~cjlin/libsvmtools/datasets/multiclass/wine.scale\n",
      "Resolving www.csie.ntu.edu.tw (www.csie.ntu.edu.tw)... 140.112.30.26\n",
      "Connecting to www.csie.ntu.edu.tw (www.csie.ntu.edu.tw)|140.112.30.26|:443... connected.\n",
      "HTTP request sent, awaiting response... 200 OK\n",
      "Length: 28116 (27K)\n",
      "Saving to: ‘wine.scale’\n",
      "\n",
      "wine.scale          100%[===================>]  27.46K   171KB/s    in 0.2s    \n",
      "\n",
      "2022-12-19 11:05:26 (171 KB/s) - ‘wine.scale’ saved [28116/28116]\n",
      "\n"
     ]
    }
   ],
   "source": [
    "!wget -O wine.scale 'https://www.csie.ntu.edu.tw/~cjlin/libsvmtools/datasets/multiclass/wine.scale'"
   ]
  },
  {
   "cell_type": "code",
   "execution_count": 34,
   "metadata": {
    "colab": {
     "base_uri": "https://localhost:8080/"
    },
    "id": "PGRqOaP8Dywc",
    "outputId": "cc989f85-a419-414a-f321-fa9e929dce7c"
   },
   "outputs": [
    {
     "name": "stdout",
     "output_type": "stream",
     "text": [
      "+-----+--------------------+\n",
      "|label|            features|\n",
      "+-----+--------------------+\n",
      "|  1.0|(13,[0,1,2,3,4,5,...|\n",
      "|  1.0|(13,[0,1,2,3,4,5,...|\n",
      "|  1.0|(13,[0,1,2,3,4,5,...|\n",
      "|  1.0|(13,[0,1,2,3,4,5,...|\n",
      "|  1.0|(13,[0,1,2,3,4,5,...|\n",
      "|  1.0|(13,[0,1,2,3,4,5,...|\n",
      "|  1.0|(13,[0,1,2,3,4,5,...|\n",
      "|  1.0|(13,[0,1,2,3,4,5,...|\n",
      "|  1.0|(13,[0,1,2,3,4,5,...|\n",
      "|  1.0|(13,[0,1,2,3,4,5,...|\n",
      "+-----+--------------------+\n",
      "only showing top 10 rows\n",
      "\n"
     ]
    },
    {
     "data": {
      "text/plain": [
       "[Row(label=1.0, features=SparseVector(13, {0: 0.6842, 1: -0.6166, 2: 0.1444, 3: -0.4845, 4: 0.2391, 5: 0.2552, 6: 0.1477, 7: -0.434, 8: 0.1861, 9: -0.256, 10: -0.0894, 11: 0.9414, 12: 0.1227}))]"
      ]
     },
     "execution_count": 34,
     "metadata": {},
     "output_type": "execute_result"
    }
   ],
   "source": [
    "wine_df = (\n",
    "    spark.read\n",
    "    .format(\"libsvm\")\n",
    "    .option(\"numFeatures\", \"13\").load('wine.scale')\n",
    ")\n",
    "\n",
    "wine_df.show(10)\n",
    "wine_df.take(1)"
   ]
  },
  {
   "cell_type": "markdown",
   "metadata": {
    "id": "cJn0NAMtDTTh"
   },
   "source": [
    "## 3. Classification (2p.)"
   ]
  },
  {
   "cell_type": "code",
   "execution_count": 35,
   "metadata": {
    "colab": {
     "base_uri": "https://localhost:8080/"
    },
    "id": "MoyFVy5sFduC",
    "outputId": "2e6a9c3f-b214-4ce3-a98a-b08246b2a17f"
   },
   "outputs": [
    {
     "name": "stdout",
     "output_type": "stream",
     "text": [
      "--2022-12-19 11:12:57--  https://gist.githubusercontent.com/tijptjik/9408623/raw/b237fa5848349a14a14e5d4107dc7897c21951f5/wine.csv\n",
      "Resolving gist.githubusercontent.com (gist.githubusercontent.com)... 185.199.109.133, 185.199.108.133, 185.199.110.133, ...\n",
      "Connecting to gist.githubusercontent.com (gist.githubusercontent.com)|185.199.109.133|:443... connected.\n",
      "HTTP request sent, awaiting response... 200 OK\n",
      "Length: 10889 (11K) [text/plain]\n",
      "Saving to: ‘wine.csv’\n",
      "\n",
      "\r",
      "wine.csv              0%[                    ]       0  --.-KB/s               \r",
      "wine.csv            100%[===================>]  10.63K  --.-KB/s    in 0s      \n",
      "\n",
      "2022-12-19 11:12:57 (70.3 MB/s) - ‘wine.csv’ saved [10889/10889]\n",
      "\n"
     ]
    }
   ],
   "source": [
    "!wget -O wine.csv 'https://gist.githubusercontent.com/tijptjik/9408623/raw/b237fa5848349a14a14e5d4107dc7897c21951f5/wine.csv'"
   ]
  },
  {
   "cell_type": "code",
   "execution_count": 36,
   "metadata": {
    "colab": {
     "base_uri": "https://localhost:8080/"
    },
    "id": "5B3svtjNDTTj",
    "outputId": "31552d89-2c18-4808-afcc-929543a037ec"
   },
   "outputs": [
    {
     "name": "stdout",
     "output_type": "stream",
     "text": [
      "+----+-------+----------+----+----+---+-------+----------+--------------------+-------+---------+----+----+-------+\n",
      "|Wine|Alcohol|Malic.acid| Ash| Acl| Mg|Phenols|Flavanoids|Nonflavanoid.phenols|Proanth|Color.int| Hue|  OD|Proline|\n",
      "+----+-------+----------+----+----+---+-------+----------+--------------------+-------+---------+----+----+-------+\n",
      "|   1|  14.23|      1.71|2.43|15.6|127|    2.8|      3.06|                0.28|   2.29|     5.64|1.04|3.92|   1065|\n",
      "|   1|   13.2|      1.78|2.14|11.2|100|   2.65|      2.76|                0.26|   1.28|     4.38|1.05| 3.4|   1050|\n",
      "|   1|  13.16|      2.36|2.67|18.6|101|    2.8|      3.24|                 0.3|   2.81|     5.68|1.03|3.17|   1185|\n",
      "|   1|  14.37|      1.95| 2.5|16.8|113|   3.85|      3.49|                0.24|   2.18|      7.8|0.86|3.45|   1480|\n",
      "|   1|  13.24|      2.59|2.87|21.0|118|    2.8|      2.69|                0.39|   1.82|     4.32|1.04|2.93|    735|\n",
      "|   1|   14.2|      1.76|2.45|15.2|112|   3.27|      3.39|                0.34|   1.97|     6.75|1.05|2.85|   1450|\n",
      "|   1|  14.39|      1.87|2.45|14.6| 96|    2.5|      2.52|                 0.3|   1.98|     5.25|1.02|3.58|   1290|\n",
      "|   1|  14.06|      2.15|2.61|17.6|121|    2.6|      2.51|                0.31|   1.25|     5.05|1.06|3.58|   1295|\n",
      "|   1|  14.83|      1.64|2.17|14.0| 97|    2.8|      2.98|                0.29|   1.98|      5.2|1.08|2.85|   1045|\n",
      "|   1|  13.86|      1.35|2.27|16.0| 98|   2.98|      3.15|                0.22|   1.85|     7.22|1.01|3.55|   1045|\n",
      "+----+-------+----------+----+----+---+-------+----------+--------------------+-------+---------+----+----+-------+\n",
      "only showing top 10 rows\n",
      "\n",
      "[('Wine', 'int'), ('Alcohol', 'double'), ('Malic.acid', 'double'), ('Ash', 'double'), ('Acl', 'double'), ('Mg', 'int'), ('Phenols', 'double'), ('Flavanoids', 'double'), ('Nonflavanoid.phenols', 'double'), ('Proanth', 'double'), ('Color.int', 'double'), ('Hue', 'double'), ('OD', 'double'), ('Proline', 'int')]\n"
     ]
    }
   ],
   "source": [
    "file = \"wine.csv\" # https://gist.githubusercontent.com/tijptjik/9408623/raw/b237fa5848349a14a14e5d4107dc7897c21951f5/wine.csv\n",
    "\n",
    "# Remember about deleting dots from the headers of this csv file!\n",
    "winedf2 = spark.read.format(\"csv\").options(inferSchema=\"true\", header=\"true\").load(file)\n",
    "winedf2.show(10)\n",
    "print(winedf2.dtypes)"
   ]
  },
  {
   "cell_type": "markdown",
   "metadata": {
    "id": "Rjp6BHOadXUs"
   },
   "source": [
    "### Exercise 3.A\n",
    "**TODO:** \n",
    "\n",
    "Remember about deleting dots from the headers of this csv file and splitting data into train and test set\n",
    "\n",
    "\n",
    "1) Create pipeline with VectorAssembler and DecisionTreeClassifier.\n",
    "\n",
    "2) Use the pipeline to make predictions.\n",
    "\n",
    "3) Evaluate predictions using MulticlassClassificationEvaluator.\n",
    "\n",
    "4) Calculate accuracy and test error\n",
    "\n",
    "5) Print the structure of the trained decision tree (hint: use toDebugString attribute)"
   ]
  },
  {
   "cell_type": "code",
   "execution_count": 37,
   "metadata": {
    "colab": {
     "base_uri": "https://localhost:8080/"
    },
    "id": "MTfU0f0cjhV1",
    "outputId": "ce437a53-36cd-416e-c7b1-37b60341b4cf"
   },
   "outputs": [
    {
     "name": "stdout",
     "output_type": "stream",
     "text": [
      "+----+-------+----------+----+----+---+-------+----------+--------------------+-------+---------+----+----+-------+\n",
      "|Wine|Alcohol|malic_acid| Ash| Acl| Mg|Phenols|Flavanoids|nonflavanoid_phenols|Proanth|color_int| Hue|  OD|Proline|\n",
      "+----+-------+----------+----+----+---+-------+----------+--------------------+-------+---------+----+----+-------+\n",
      "|   1|  14.23|      1.71|2.43|15.6|127|    2.8|      3.06|                0.28|   2.29|     5.64|1.04|3.92|   1065|\n",
      "|   1|   13.2|      1.78|2.14|11.2|100|   2.65|      2.76|                0.26|   1.28|     4.38|1.05| 3.4|   1050|\n",
      "|   1|  13.16|      2.36|2.67|18.6|101|    2.8|      3.24|                 0.3|   2.81|     5.68|1.03|3.17|   1185|\n",
      "+----+-------+----------+----+----+---+-------+----------+--------------------+-------+---------+----+----+-------+\n",
      "only showing top 3 rows\n",
      "\n"
     ]
    }
   ],
   "source": [
    "filename = \"wine.csv\"\n",
    "\n",
    "wine_df = (\n",
    "    spark.read\n",
    "    .format(\"csv\")\n",
    "    .options(inferSchema=\"true\", header=\"true\")\n",
    "    .load(\"wine.csv\")\n",
    "    .withColumnRenamed(\"Malic.acid\", \"malic_acid\")\n",
    "    .withColumnRenamed(\"Nonflavanoid.phenols\", \"nonflavanoid_phenols\")\n",
    "    .withColumnRenamed(\"Color.int\", \"color_int\")\n",
    ")\n",
    "\n",
    "train_df, test_df = wine_df.randomSplit([0.8, 0.2], seed=0)\n",
    "wine_df.show(3)"
   ]
  },
  {
   "cell_type": "code",
   "execution_count": 38,
   "metadata": {
    "id": "LnxjL0deJmgr"
   },
   "outputs": [],
   "source": [
    "from pyspark.ml.classification import DecisionTreeClassifier, LogisticRegression\n",
    "from pyspark.ml.evaluation import MulticlassClassificationEvaluator\n",
    "from pyspark.ml.feature import HashingTF, IDF, QuantileDiscretizer, StringIndexer, Tokenizer, VectorAssembler\n",
    "from pyspark.ml import Pipeline\n",
    "\n",
    "def decision_tree(train_df, test_df):\n",
    "    num_classes = train_df.select(\"Wine\").distinct().count()\n",
    "    feature_cols = train_df.columns[1:]\n",
    "    \n",
    "    assembler = VectorAssembler(\n",
    "        inputCols=feature_cols, \n",
    "        outputCol=\"features\"\n",
    "    )\n",
    "    decision_tree = DecisionTreeClassifier(\n",
    "        labelCol=\"Wine\", \n",
    "        featuresCol=\"features\"\n",
    "    )\n",
    "    pipeline = Pipeline(stages=[assembler, decision_tree]) \n",
    "\n",
    "    model = pipeline.fit(train_df)\n",
    "    predictions = model.transform(test_df)\n",
    "\n",
    "    evaluator = MulticlassClassificationEvaluator(\n",
    "        labelCol=\"Wine\", \n",
    "        predictionCol=\"prediction\", \n",
    "        metricName=\"accuracy\"\n",
    "    )\n",
    "    accuracy = evaluator.evaluate(predictions) * 100\n",
    "    \n",
    "    return model, accuracy, predictions"
   ]
  },
  {
   "cell_type": "code",
   "execution_count": 39,
   "metadata": {
    "colab": {
     "base_uri": "https://localhost:8080/"
    },
    "id": "GX8ItqM8JtLu",
    "outputId": "76126ac2-7e00-4965-8e96-597ae9f3fe0d"
   },
   "outputs": [
    {
     "name": "stdout",
     "output_type": "stream",
     "text": [
      "86.11111111111111\n"
     ]
    }
   ],
   "source": [
    "model, accuracy, predictions = decision_tree(train_df, test_df)\n",
    "\n",
    "print(accuracy)"
   ]
  },
  {
   "cell_type": "code",
   "execution_count": 40,
   "metadata": {
    "colab": {
     "base_uri": "https://localhost:8080/"
    },
    "id": "_62KPoDIJvzJ",
    "outputId": "a9f0ec53-8055-4b06-f9d3-b5ece350dd2b"
   },
   "outputs": [
    {
     "name": "stdout",
     "output_type": "stream",
     "text": [
      "DecisionTreeClassificationModel: uid=DecisionTreeClassifier_2fd66b713573, depth=5, numNodes=19, numClasses=4, numFeatures=13\n",
      "  If (feature 12 <= 755.0)\n",
      "   If (feature 6 <= 1.385)\n",
      "    If (feature 9 <= 3.77)\n",
      "     Predict: 2.0\n",
      "    Else (feature 9 > 3.77)\n",
      "     Predict: 3.0\n",
      "   Else (feature 6 > 1.385)\n",
      "    If (feature 0 <= 13.135)\n",
      "     Predict: 2.0\n",
      "    Else (feature 0 > 13.135)\n",
      "     If (feature 1 <= 1.6749999999999998)\n",
      "      Predict: 2.0\n",
      "     Else (feature 1 > 1.6749999999999998)\n",
      "      If (feature 0 <= 13.285)\n",
      "       Predict: 1.0\n",
      "      Else (feature 0 > 13.285)\n",
      "       Predict: 3.0\n",
      "  Else (feature 12 > 755.0)\n",
      "   If (feature 5 <= 1.6150000000000002)\n",
      "    If (feature 1 <= 1.62)\n",
      "     Predict: 2.0\n",
      "    Else (feature 1 > 1.62)\n",
      "     Predict: 3.0\n",
      "   Else (feature 5 > 1.6150000000000002)\n",
      "    If (feature 0 <= 11.98)\n",
      "     Predict: 2.0\n",
      "    Else (feature 0 > 11.98)\n",
      "     Predict: 1.0\n",
      "\n"
     ]
    }
   ],
   "source": [
    "tree_model = model.stages[1]\n",
    "print(tree_model.toDebugString)"
   ]
  },
  {
   "cell_type": "markdown",
   "metadata": {
    "id": "QF73uyZ5DTTk"
   },
   "source": [
    "### Exercise 3.B\n",
    "**TODO:** \n",
    "\n",
    "1) Extend the pipeline from the previos task with QuantileDiscretizer \n",
    "\n",
    "2) Try using a couple of different numbers of buckets, which cinfiguration gives the best results?\n",
    "\n",
    "3) Can you see any difference in the structure of the decistion tree?"
   ]
  },
  {
   "cell_type": "code",
   "execution_count": 41,
   "metadata": {
    "colab": {
     "base_uri": "https://localhost:8080/"
    },
    "id": "I0Ax7J2kjiQX",
    "outputId": "45ed39c2-8446-4eda-c902-33734699ae91"
   },
   "outputs": [
    {
     "name": "stdout",
     "output_type": "stream",
     "text": [
      "Bins: 2\n",
      "Accuracy: 88.89\n",
      "Bins: 3\n",
      "Accuracy: 97.22\n",
      "Bins: 4\n",
      "Accuracy: 91.67\n",
      "Bins: 5\n",
      "Accuracy: 94.44\n",
      "Bins: 6\n",
      "Accuracy: 91.67\n",
      "Bins: 7\n",
      "Accuracy: 97.22\n",
      "Bins: 8\n",
      "Accuracy: 91.67\n",
      "Bins: 9\n",
      "Accuracy: 91.67\n"
     ]
    }
   ],
   "source": [
    "def decision_tree_bins(train_df, test_df, num_buckets: int):\n",
    "    num_classes = train_df.select(\"Wine\").distinct().count()\n",
    "    feature_cols = train_df.columns[1:]\n",
    "    discretized_cols = [f\"{col}_disc\" for col in train_df.columns[1:]]\n",
    "    \n",
    "    discretizer = QuantileDiscretizer(\n",
    "        inputCols=feature_cols,\n",
    "        outputCols=discretized_cols,\n",
    "        numBuckets=num_buckets\n",
    "    )\n",
    "    assembler = VectorAssembler(\n",
    "        inputCols=discretized_cols, \n",
    "        outputCol=\"features\"\n",
    "    )\n",
    "    decision_tree = DecisionTreeClassifier(\n",
    "        labelCol=\"Wine\", \n",
    "        featuresCol=\"features\",\n",
    "        \n",
    "    )\n",
    "    pipeline = Pipeline(stages=[discretizer, assembler, decision_tree]) \n",
    "\n",
    "    model = pipeline.fit(train_df)\n",
    "    predictions = model.transform(test_df)\n",
    "\n",
    "    evaluator = MulticlassClassificationEvaluator(\n",
    "        labelCol=\"Wine\", \n",
    "        predictionCol=\"prediction\", \n",
    "        metricName=\"accuracy\"\n",
    "    )\n",
    "    accuracy = evaluator.evaluate(predictions) * 100\n",
    "    \n",
    "    return model, accuracy\n",
    "\n",
    "for num_bins in range(2, 10):\n",
    "    print(\"Bins:\", num_bins)\n",
    "    model, accuracy = decision_tree_bins(train_df, test_df, num_bins)\n",
    "    print(f\"Accuracy: {accuracy:.2f}\")"
   ]
  },
  {
   "cell_type": "code",
   "execution_count": 42,
   "metadata": {
    "colab": {
     "base_uri": "https://localhost:8080/"
    },
    "id": "pzY9MVbGK7Rg",
    "outputId": "5571adf7-569d-470d-dfc4-7501839df52e"
   },
   "outputs": [
    {
     "name": "stdout",
     "output_type": "stream",
     "text": [
      "Bins: 2\n",
      "DecisionTreeClassificationModel: uid=DecisionTreeClassifier_0014f4a257eb, depth=5, numNodes=21, numClasses=4, numFeatures=13\n",
      "  If (feature 6 in {0.0})\n",
      "   If (feature 9 in {0.0})\n",
      "    If (feature 10 in {0.0})\n",
      "     If (feature 8 in {0.0})\n",
      "      If (feature 1 in {0.0})\n",
      "       Predict: 2.0\n",
      "      Else (feature 1 not in {0.0})\n",
      "       Predict: 3.0\n",
      "     Else (feature 8 not in {0.0})\n",
      "      Predict: 2.0\n",
      "    Else (feature 10 not in {0.0})\n",
      "     Predict: 2.0\n",
      "   Else (feature 9 not in {0.0})\n",
      "    If (feature 10 in {0.0})\n",
      "     Predict: 3.0\n",
      "    Else (feature 10 not in {0.0})\n",
      "     Predict: 2.0\n",
      "  Else (feature 6 not in {0.0})\n",
      "   If (feature 12 in {0.0})\n",
      "    Predict: 2.0\n",
      "   Else (feature 12 not in {0.0})\n",
      "    If (feature 0 in {0.0})\n",
      "     If (feature 2 in {0.0})\n",
      "      Predict: 2.0\n",
      "     Else (feature 2 not in {0.0})\n",
      "      If (feature 3 in {0.0})\n",
      "       Predict: 1.0\n",
      "      Else (feature 3 not in {0.0})\n",
      "       Predict: 2.0\n",
      "    Else (feature 0 not in {0.0})\n",
      "     Predict: 1.0\n",
      "\n",
      "\n",
      "Bins: 3\n",
      "DecisionTreeClassificationModel: uid=DecisionTreeClassifier_0def04cdceed, depth=5, numNodes=23, numClasses=4, numFeatures=13\n",
      "  If (feature 12 in {0.0,1.0})\n",
      "   If (feature 6 in {0.0})\n",
      "    If (feature 9 in {0.0})\n",
      "     Predict: 2.0\n",
      "    Else (feature 9 not in {0.0})\n",
      "     If (feature 3 in {0.0})\n",
      "      If (feature 0 in {0.0})\n",
      "       Predict: 3.0\n",
      "      Else (feature 0 not in {0.0})\n",
      "       Predict: 2.0\n",
      "     Else (feature 3 not in {0.0})\n",
      "      Predict: 3.0\n",
      "   Else (feature 6 not in {0.0})\n",
      "    If (feature 4 in {0.0,1.0})\n",
      "     Predict: 2.0\n",
      "    Else (feature 4 not in {0.0,1.0})\n",
      "     If (feature 0 in {0.0})\n",
      "      Predict: 2.0\n",
      "     Else (feature 0 not in {0.0})\n",
      "      If (feature 5 in {0.0})\n",
      "       Predict: 3.0\n",
      "      Else (feature 5 not in {0.0})\n",
      "       Predict: 1.0\n",
      "  Else (feature 12 not in {0.0,1.0})\n",
      "   If (feature 5 in {0.0})\n",
      "    If (feature 1 in {0.0})\n",
      "     Predict: 2.0\n",
      "    Else (feature 1 not in {0.0})\n",
      "     Predict: 3.0\n",
      "   Else (feature 5 not in {0.0})\n",
      "    If (feature 0 in {0.0})\n",
      "     Predict: 2.0\n",
      "    Else (feature 0 not in {0.0})\n",
      "     Predict: 1.0\n",
      "\n",
      "\n",
      "Bins: 4\n",
      "DecisionTreeClassificationModel: uid=DecisionTreeClassifier_d38ce392e55c, depth=5, numNodes=17, numClasses=4, numFeatures=13\n",
      "  If (feature 12 in {0.0,1.0,2.0})\n",
      "   If (feature 6 in {0.0})\n",
      "    If (feature 9 in {0.0})\n",
      "     Predict: 2.0\n",
      "    Else (feature 9 not in {0.0})\n",
      "     Predict: 3.0\n",
      "   Else (feature 6 not in {0.0})\n",
      "    If (feature 12 in {2.0})\n",
      "     If (feature 1 in {0.0})\n",
      "      Predict: 2.0\n",
      "     Else (feature 1 not in {0.0})\n",
      "      If (feature 6 in {1.0})\n",
      "       Predict: 2.0\n",
      "      Else (feature 6 not in {1.0})\n",
      "       Predict: 1.0\n",
      "    Else (feature 12 not in {2.0})\n",
      "     If (feature 11 in {0.0})\n",
      "      If (feature 2 in {0.0})\n",
      "       Predict: 2.0\n",
      "      Else (feature 2 not in {0.0})\n",
      "       Predict: 3.0\n",
      "     Else (feature 11 not in {0.0})\n",
      "      Predict: 2.0\n",
      "  Else (feature 12 not in {0.0,1.0,2.0})\n",
      "   Predict: 1.0\n",
      "\n",
      "\n",
      "Bins: 5\n",
      "DecisionTreeClassificationModel: uid=DecisionTreeClassifier_e6a4e1748ede, depth=5, numNodes=23, numClasses=4, numFeatures=13\n",
      "  If (feature 12 in {0.0,1.0,2.0})\n",
      "   If (feature 9 in {0.0,1.0})\n",
      "    If (feature 11 in {0.0})\n",
      "     If (feature 0 in {1.0})\n",
      "      Predict: 2.0\n",
      "     Else (feature 0 not in {1.0})\n",
      "      Predict: 3.0\n",
      "    Else (feature 11 not in {0.0})\n",
      "     Predict: 2.0\n",
      "   Else (feature 9 not in {0.0,1.0})\n",
      "    If (feature 6 in {0.0,1.0})\n",
      "     If (feature 2 in {0.0})\n",
      "      If (feature 3 in {1.0})\n",
      "       Predict: 2.0\n",
      "      Else (feature 3 not in {1.0})\n",
      "       Predict: 3.0\n",
      "     Else (feature 2 not in {0.0})\n",
      "      Predict: 3.0\n",
      "    Else (feature 6 not in {0.0,1.0})\n",
      "     If (feature 1 in {0.0,2.0})\n",
      "      Predict: 2.0\n",
      "     Else (feature 1 not in {0.0,2.0})\n",
      "      Predict: 1.0\n",
      "  Else (feature 12 not in {0.0,1.0,2.0})\n",
      "   If (feature 11 in {0.0,1.0})\n",
      "    If (feature 1 in {0.0,1.0})\n",
      "     Predict: 2.0\n",
      "    Else (feature 1 not in {0.0,1.0})\n",
      "     Predict: 3.0\n",
      "   Else (feature 11 not in {0.0,1.0})\n",
      "    If (feature 0 in {0.0})\n",
      "     Predict: 2.0\n",
      "    Else (feature 0 not in {0.0})\n",
      "     Predict: 1.0\n",
      "\n",
      "\n",
      "Bins: 6\n",
      "DecisionTreeClassificationModel: uid=DecisionTreeClassifier_54ebe09b8170, depth=5, numNodes=15, numClasses=4, numFeatures=13\n",
      "  If (feature 6 in {0.0})\n",
      "   Predict: 3.0\n",
      "  Else (feature 6 not in {0.0})\n",
      "   If (feature 0 in {0.0,1.0})\n",
      "    If (feature 9 in {0.0,1.0,2.0,4.0})\n",
      "     Predict: 2.0\n",
      "    Else (feature 9 not in {0.0,1.0,2.0,4.0})\n",
      "     Predict: 3.0\n",
      "   Else (feature 0 not in {0.0,1.0})\n",
      "    If (feature 6 in {3.0,4.0,5.0})\n",
      "     If (feature 12 in {0.0,1.0})\n",
      "      Predict: 2.0\n",
      "     Else (feature 12 not in {0.0,1.0})\n",
      "      Predict: 1.0\n",
      "    Else (feature 6 not in {3.0,4.0,5.0})\n",
      "     If (feature 2 in {0.0,1.0})\n",
      "      Predict: 2.0\n",
      "     Else (feature 2 not in {0.0,1.0})\n",
      "      If (feature 4 in {0.0})\n",
      "       Predict: 2.0\n",
      "      Else (feature 4 not in {0.0})\n",
      "       Predict: 3.0\n",
      "\n",
      "\n",
      "Bins: 7\n",
      "DecisionTreeClassificationModel: uid=DecisionTreeClassifier_5a70448251af, depth=5, numNodes=15, numClasses=4, numFeatures=13\n",
      "  If (feature 6 in {0.0,1.0,2.0,3.0})\n",
      "   If (feature 9 in {0.0,1.0})\n",
      "    Predict: 2.0\n",
      "   Else (feature 9 not in {0.0,1.0})\n",
      "    If (feature 6 in {0.0,1.0})\n",
      "     Predict: 3.0\n",
      "    Else (feature 6 not in {0.0,1.0})\n",
      "     If (feature 10 in {0.0,1.0})\n",
      "      Predict: 3.0\n",
      "     Else (feature 10 not in {0.0,1.0})\n",
      "      If (feature 12 in {0.0,1.0,2.0,3.0})\n",
      "       Predict: 2.0\n",
      "      Else (feature 12 not in {0.0,1.0,2.0,3.0})\n",
      "       Predict: 1.0\n",
      "  Else (feature 6 not in {0.0,1.0,2.0,3.0})\n",
      "   If (feature 0 in {0.0,1.0,2.0})\n",
      "    Predict: 2.0\n",
      "   Else (feature 0 not in {0.0,1.0,2.0})\n",
      "    If (feature 4 in {0.0,1.0})\n",
      "     Predict: 2.0\n",
      "    Else (feature 4 not in {0.0,1.0})\n",
      "     Predict: 1.0\n",
      "\n",
      "\n",
      "Bins: 8\n",
      "DecisionTreeClassificationModel: uid=DecisionTreeClassifier_e11e62506796, depth=5, numNodes=11, numClasses=4, numFeatures=13\n",
      "  If (feature 12 in {6.0,7.0})\n",
      "   Predict: 1.0\n",
      "  Else (feature 12 not in {6.0,7.0})\n",
      "   If (feature 9 in {0.0,1.0})\n",
      "    Predict: 2.0\n",
      "   Else (feature 9 not in {0.0,1.0})\n",
      "    If (feature 6 in {0.0,1.0})\n",
      "     Predict: 3.0\n",
      "    Else (feature 6 not in {0.0,1.0})\n",
      "     If (feature 4 in {0.0,1.0})\n",
      "      Predict: 2.0\n",
      "     Else (feature 4 not in {0.0,1.0})\n",
      "      If (feature 10 in {0.0,1.0})\n",
      "       Predict: 3.0\n",
      "      Else (feature 10 not in {0.0,1.0})\n",
      "       Predict: 1.0\n",
      "\n",
      "\n",
      "Bins: 9\n",
      "DecisionTreeClassificationModel: uid=DecisionTreeClassifier_a6fba42a26c8, depth=5, numNodes=13, numClasses=4, numFeatures=13\n",
      "  If (feature 6 in {0.0,1.0})\n",
      "   Predict: 3.0\n",
      "  Else (feature 6 not in {0.0,1.0})\n",
      "   If (feature 0 in {0.0,1.0,2.0})\n",
      "    Predict: 2.0\n",
      "   Else (feature 0 not in {0.0,1.0,2.0})\n",
      "    If (feature 6 in {5.0,6.0,7.0,8.0})\n",
      "     If (feature 12 in {0.0,1.0,2.0})\n",
      "      Predict: 2.0\n",
      "     Else (feature 12 not in {0.0,1.0,2.0})\n",
      "      Predict: 1.0\n",
      "    Else (feature 6 not in {5.0,6.0,7.0,8.0})\n",
      "     If (feature 9 in {0.0,1.0,2.0,4.0})\n",
      "      Predict: 2.0\n",
      "     Else (feature 9 not in {0.0,1.0,2.0,4.0})\n",
      "      If (feature 2 in {0.0,1.0})\n",
      "       Predict: 2.0\n",
      "      Else (feature 2 not in {0.0,1.0})\n",
      "       Predict: 3.0\n",
      "\n",
      "\n"
     ]
    }
   ],
   "source": [
    "for num_bins in range(2, 10):\n",
    "    print(\"Bins:\", num_bins)\n",
    "    model, accuracy = decision_tree_bins(train_df, test_df, num_bins)\n",
    "    tree_model = model.stages[2]\n",
    "    print(tree_model.toDebugString)\n",
    "    print()"
   ]
  },
  {
   "cell_type": "markdown",
   "metadata": {
    "id": "xZ458SgIDTTk"
   },
   "source": [
    "## 4. Text classification (2p.)"
   ]
  },
  {
   "cell_type": "markdown",
   "metadata": {
    "id": "mwzu_i7BDTTl"
   },
   "source": [
    "### Exercise 4\n",
    "**TODO:** \n",
    "Build a pipeline consisting of Tokenizer, HashingTF, IDF and StringIndexer and LogisticRegression, fit it to training data: \n",
    "http://help.sentiment140.com/for-students/\n",
    "\n",
    "What is the accuracy of this classifier?"
   ]
  },
  {
   "cell_type": "code",
   "execution_count": 43,
   "metadata": {
    "colab": {
     "base_uri": "https://localhost:8080/"
    },
    "id": "WsJoBTL1MuKd",
    "outputId": "280f6843-3211-405a-9eb8-42fd4d26668a"
   },
   "outputs": [
    {
     "name": "stdout",
     "output_type": "stream",
     "text": [
      "--2022-12-19 11:45:30--  http://cs.stanford.edu/people/alecmgo/trainingandtestdata.zip\n",
      "Resolving cs.stanford.edu (cs.stanford.edu)... 171.64.64.64\n",
      "Connecting to cs.stanford.edu (cs.stanford.edu)|171.64.64.64|:80... connected.\n",
      "HTTP request sent, awaiting response... 301 Moved Permanently\n",
      "Location: https://cs.stanford.edu/people/alecmgo/trainingandtestdata.zip [following]\n",
      "--2022-12-19 11:45:30--  https://cs.stanford.edu/people/alecmgo/trainingandtestdata.zip\n",
      "Connecting to cs.stanford.edu (cs.stanford.edu)|171.64.64.64|:443... connected.\n",
      "HTTP request sent, awaiting response... 200 OK\n",
      "Length: 81363704 (78M) [application/zip]\n",
      "Saving to: ‘sentiment.zip’\n",
      "\n",
      "sentiment.zip       100%[===================>]  77.59M  46.4MB/s    in 1.7s    \n",
      "\n",
      "2022-12-19 11:45:32 (46.4 MB/s) - ‘sentiment.zip’ saved [81363704/81363704]\n",
      "\n",
      "Archive:  sentiment.zip\n",
      "  inflating: testdata.manual.2009.06.14.csv  \n",
      "  inflating: training.1600000.processed.noemoticon.csv  \n"
     ]
    }
   ],
   "source": [
    "!wget -O sentiment.zip 'http://cs.stanford.edu/people/alecmgo/trainingandtestdata.zip'\n",
    "!unzip sentiment.zip"
   ]
  },
  {
   "cell_type": "code",
   "execution_count": 44,
   "metadata": {
    "colab": {
     "base_uri": "https://localhost:8080/"
    },
    "id": "S9QbF10DjwU5",
    "outputId": "18cfa5e0-5eb9-4147-ca53-ac972eac19f4"
   },
   "outputs": [
    {
     "name": "stdout",
     "output_type": "stream",
     "text": [
      "+-----+--------------------+\n",
      "|label|                text|\n",
      "+-----+--------------------+\n",
      "|    0|@switchfoot http:...|\n",
      "|    0|is upset that he ...|\n",
      "|    0|@Kenichan I dived...|\n",
      "|    0|my whole body fee...|\n",
      "|    0|@nationwideclass ...|\n",
      "+-----+--------------------+\n",
      "only showing top 5 rows\n",
      "\n",
      "[('label', 'int'), ('text', 'string')]\n"
     ]
    }
   ],
   "source": [
    "columns = [\"label\", \"id\", \"date\", \"query\", \"user\", \"text\"]\n",
    "\n",
    "train_df = (\n",
    "    spark.read\n",
    "    .format(\"csv\")\n",
    "    .options(inferSchema=\"true\", header=\"false\")\n",
    "    .load(\"training.1600000.processed.noemoticon.csv\")\n",
    ")\n",
    "for old, new in zip(train_df.columns, columns):\n",
    "    train_df = train_df.withColumnRenamed(old, new)\n",
    "\n",
    "\n",
    "test_df = (\n",
    "    spark.read\n",
    "    .format(\"csv\")\n",
    "    .options(inferSchema=\"true\", header=\"false\")\n",
    "    .load(\"testdata.manual.2009.06.14.csv\")\n",
    ")\n",
    "for old, new in zip(test_df.columns, columns):\n",
    "    test_df = test_df.withColumnRenamed(old, new)\n",
    "\n",
    "    \n",
    "train_df = train_df.select(\"label\", \"text\")\n",
    "test_df = test_df.select(\"label\", \"text\")\n",
    "\n",
    "train_df.show(5)\n",
    "print(train_df.dtypes)"
   ]
  },
  {
   "cell_type": "code",
   "execution_count": 45,
   "metadata": {
    "id": "tJ5c-n3uL8QG"
   },
   "outputs": [],
   "source": [
    "tokenizer = Tokenizer(\n",
    "    inputCol=\"text\", \n",
    "    outputCol=\"tokens\"\n",
    ")\n",
    "hashing_tf = HashingTF(\n",
    "    inputCol=\"tokens\", \n",
    "    outputCol=\"features\", \n",
    "    numFeatures=50\n",
    ")\n",
    "idf = IDF(\n",
    "    inputCol=\"features\", \n",
    "    outputCol=\"final_features\"\n",
    ")\n",
    "string_indexer = StringIndexer(\n",
    "    inputCol=\"label\", \n",
    "    outputCol=\"final_label\",\n",
    "    handleInvalid=\"skip\"\n",
    ")\n",
    "classifier = LogisticRegression(\n",
    "    featuresCol=\"final_features\", \n",
    "    labelCol=\"final_label\", \n",
    "    predictionCol=\"prediction\"\n",
    ")\n",
    "\n",
    "pipeline = Pipeline(stages=[tokenizer, hashing_tf, idf, string_indexer, classifier])"
   ]
  },
  {
   "cell_type": "code",
   "execution_count": 46,
   "metadata": {
    "colab": {
     "base_uri": "https://localhost:8080/"
    },
    "id": "uJdZOkWWMAeH",
    "outputId": "09583246-e857-4055-aaad-fa19d9da1c47"
   },
   "outputs": [
    {
     "name": "stdout",
     "output_type": "stream",
     "text": [
      "Accuracy: 53.20\n"
     ]
    }
   ],
   "source": [
    "model = pipeline.fit(train_df)\n",
    "predictions = model.transform(test_df)\n",
    "\n",
    "evaluator = MulticlassClassificationEvaluator(\n",
    "    labelCol=\"final_label\", \n",
    "    predictionCol=\"prediction\", \n",
    "    metricName=\"accuracy\"\n",
    ")\n",
    "accuracy = evaluator.evaluate(predictions) * 100\n",
    "\n",
    "print(f\"Accuracy: {accuracy:.2f}\")"
   ]
  },
  {
   "cell_type": "markdown",
   "metadata": {},
   "source": [
    "Dość niska dokładność klasyfikatora "
   ]
  },
  {
   "cell_type": "code",
   "execution_count": null,
   "metadata": {},
   "outputs": [],
   "source": []
  }
 ],
 "metadata": {
  "colab": {
   "provenance": []
  },
  "kernelspec": {
   "display_name": "Python 3 (ipykernel)",
   "language": "python",
   "name": "python3"
  },
  "language_info": {
   "codemirror_mode": {
    "name": "ipython",
    "version": 3
   },
   "file_extension": ".py",
   "mimetype": "text/x-python",
   "name": "python",
   "nbconvert_exporter": "python",
   "pygments_lexer": "ipython3",
   "version": "3.9.14"
  }
 },
 "nbformat": 4,
 "nbformat_minor": 1
}
