{
 "cells": [
  {
   "cell_type": "markdown",
   "metadata": {},
   "source": [
    "# Intro to GraphX"
   ]
  },
  {
   "cell_type": "markdown",
   "metadata": {},
   "source": [
    "Useful documentation:\n",
    "\n",
    " - https://spark.apache.org/docs/latest/graphx-programming-guide.html\n",
    " - https://spark.apache.org/docs/latest/api/java/org/apache/spark/graphx/Pregel.html\n",
    " - https://docs.databricks.com/spark/latest/graph-analysis/graph-analysis-graphx-tutorial.html "
   ]
  },
  {
   "cell_type": "markdown",
   "metadata": {},
   "source": [
    "Welcome to Scala!"
   ]
  },
  {
   "cell_type": "code",
   "execution_count": 1,
   "metadata": {
    "execution": {
     "iopub.execute_input": "2022-12-03T15:05:19.748856Z",
     "iopub.status.busy": "2022-12-03T15:05:19.746508Z",
     "iopub.status.idle": "2022-12-03T15:06:36.245969Z",
     "shell.execute_reply": "2022-12-03T15:06:36.245092Z",
     "shell.execute_reply.started": "2022-12-03T15:05:19.748810Z"
    }
   },
   "outputs": [
    {
     "data": {
      "application/vnd.jupyter.widget-view+json": {
       "model_id": "9022a0c65ccd4ad6880d8dc97759198b",
       "version_major": 2,
       "version_minor": 0
      },
      "text/plain": [
       "VBox()"
      ]
     },
     "metadata": {},
     "output_type": "display_data"
    },
    {
     "name": "stdout",
     "output_type": "stream",
     "text": [
      "Starting Spark application\n"
     ]
    },
    {
     "data": {
      "text/html": [
       "<table>\n",
       "<tr><th>ID</th><th>YARN Application ID</th><th>Kind</th><th>State</th><th>Spark UI</th><th>Driver log</th><th>Current session?</th></tr><tr><td>0</td><td>application_1670079416392_0001</td><td>spark</td><td>idle</td><td><a target=\"_blank\" href=\"http://ip-172-31-56-85.ec2.internal:20888/proxy/application_1670079416392_0001/\">Link</a></td><td><a target=\"_blank\" href=\"http://ip-172-31-59-4.ec2.internal:8042/node/containerlogs/container_1670079416392_0001_01_000001/livy\">Link</a></td><td>✔</td></tr></table>"
      ],
      "text/plain": [
       "<IPython.core.display.HTML object>"
      ]
     },
     "metadata": {},
     "output_type": "display_data"
    },
    {
     "data": {
      "application/vnd.jupyter.widget-view+json": {
       "model_id": "",
       "version_major": 2,
       "version_minor": 0
      },
      "text/plain": [
       "FloatProgress(value=0.0, bar_style='info', description='Progress:', layout=Layout(height='25px', width='50%'),…"
      ]
     },
     "metadata": {},
     "output_type": "display_data"
    },
    {
     "name": "stdout",
     "output_type": "stream",
     "text": [
      "SparkSession available as 'spark'.\n"
     ]
    },
    {
     "data": {
      "application/vnd.jupyter.widget-view+json": {
       "model_id": "",
       "version_major": 2,
       "version_minor": 0
      },
      "text/plain": [
       "FloatProgress(value=0.0, bar_style='info', description='Progress:', layout=Layout(height='25px', width='50%'),…"
      ]
     },
     "metadata": {},
     "output_type": "display_data"
    },
    {
     "name": "stdout",
     "output_type": "stream",
     "text": [
      "x: Int = 0\n"
     ]
    }
   ],
   "source": [
    "val x:Int = 0"
   ]
  },
  {
   "cell_type": "code",
   "execution_count": 2,
   "metadata": {
    "execution": {
     "iopub.execute_input": "2022-12-03T15:06:36.252205Z",
     "iopub.status.busy": "2022-12-03T15:06:36.249744Z",
     "iopub.status.idle": "2022-12-03T15:06:37.828936Z",
     "shell.execute_reply": "2022-12-03T15:06:37.828056Z",
     "shell.execute_reply.started": "2022-12-03T15:06:36.252168Z"
    }
   },
   "outputs": [
    {
     "data": {
      "application/vnd.jupyter.widget-view+json": {
       "model_id": "8d8a332b28e748d1854ddf95c5b5d35c",
       "version_major": 2,
       "version_minor": 0
      },
      "text/plain": [
       "VBox()"
      ]
     },
     "metadata": {},
     "output_type": "display_data"
    },
    {
     "data": {
      "application/vnd.jupyter.widget-view+json": {
       "model_id": "",
       "version_major": 2,
       "version_minor": 0
      },
      "text/plain": [
       "FloatProgress(value=0.0, bar_style='info', description='Progress:', layout=Layout(height='25px', width='50%'),…"
      ]
     },
     "metadata": {},
     "output_type": "display_data"
    },
    {
     "name": "stdout",
     "output_type": "stream",
     "text": [
      "x = 0\n"
     ]
    }
   ],
   "source": [
    "println(\"x = \" + x)"
   ]
  },
  {
   "cell_type": "code",
   "execution_count": 3,
   "metadata": {
    "execution": {
     "iopub.execute_input": "2022-12-03T15:06:37.833560Z",
     "iopub.status.busy": "2022-12-03T15:06:37.832157Z",
     "iopub.status.idle": "2022-12-03T15:06:39.379095Z",
     "shell.execute_reply": "2022-12-03T15:06:39.378234Z",
     "shell.execute_reply.started": "2022-12-03T15:06:37.833522Z"
    }
   },
   "outputs": [
    {
     "data": {
      "application/vnd.jupyter.widget-view+json": {
       "model_id": "8ea11e169fc845e49dce2abc7546ea7b",
       "version_major": 2,
       "version_minor": 0
      },
      "text/plain": [
       "VBox()"
      ]
     },
     "metadata": {},
     "output_type": "display_data"
    },
    {
     "data": {
      "application/vnd.jupyter.widget-view+json": {
       "model_id": "",
       "version_major": 2,
       "version_minor": 0
      },
      "text/plain": [
       "FloatProgress(value=0.0, bar_style='info', description='Progress:', layout=Layout(height='25px', width='50%'),…"
      ]
     },
     "metadata": {},
     "output_type": "display_data"
    },
    {
     "name": "stdout",
     "output_type": "stream",
     "text": [
      "import org.apache.spark.graphx._\n"
     ]
    }
   ],
   "source": [
    "import org.apache.spark.graphx._"
   ]
  },
  {
   "cell_type": "markdown",
   "metadata": {},
   "source": [
    "## Creating graphs\n",
    "Add some vertices:"
   ]
  },
  {
   "cell_type": "code",
   "execution_count": 4,
   "metadata": {
    "execution": {
     "iopub.execute_input": "2022-12-03T15:06:39.383716Z",
     "iopub.status.busy": "2022-12-03T15:06:39.382311Z",
     "iopub.status.idle": "2022-12-03T15:06:43.020984Z",
     "shell.execute_reply": "2022-12-03T15:06:43.020129Z",
     "shell.execute_reply.started": "2022-12-03T15:06:39.383677Z"
    }
   },
   "outputs": [
    {
     "data": {
      "application/vnd.jupyter.widget-view+json": {
       "model_id": "638eeb3fb97a487ba9e4f99bbd7d3648",
       "version_major": 2,
       "version_minor": 0
      },
      "text/plain": [
       "VBox()"
      ]
     },
     "metadata": {},
     "output_type": "display_data"
    },
    {
     "data": {
      "application/vnd.jupyter.widget-view+json": {
       "model_id": "",
       "version_major": 2,
       "version_minor": 0
      },
      "text/plain": [
       "FloatProgress(value=0.0, bar_style='info', description='Progress:', layout=Layout(height='25px', width='50%'),…"
      ]
     },
     "metadata": {},
     "output_type": "display_data"
    },
    {
     "name": "stdout",
     "output_type": "stream",
     "text": [
      "myVertices: org.apache.spark.rdd.RDD[(Long, String)] = ParallelCollectionRDD[0] at makeRDD at <console>:28\n"
     ]
    }
   ],
   "source": [
    "val myVertices = sc.makeRDD(Array(\n",
    "    (1L, \"Alice\"), \n",
    "    (2L, \"Bob\"),\n",
    "    (3L, \"Charlie\"), \n",
    "    (4L, \"John Doe\"), \n",
    "    (5L, \"Eve\")\n",
    "))"
   ]
  },
  {
   "cell_type": "markdown",
   "metadata": {},
   "source": [
    "Add edges with attributes:"
   ]
  },
  {
   "cell_type": "code",
   "execution_count": 5,
   "metadata": {
    "execution": {
     "iopub.execute_input": "2022-12-03T15:06:43.025593Z",
     "iopub.status.busy": "2022-12-03T15:06:43.024971Z",
     "iopub.status.idle": "2022-12-03T15:06:45.580714Z",
     "shell.execute_reply": "2022-12-03T15:06:45.579719Z",
     "shell.execute_reply.started": "2022-12-03T15:06:43.025557Z"
    }
   },
   "outputs": [
    {
     "data": {
      "application/vnd.jupyter.widget-view+json": {
       "model_id": "a68032725b7a455ca3049461a24d7ebc",
       "version_major": 2,
       "version_minor": 0
      },
      "text/plain": [
       "VBox()"
      ]
     },
     "metadata": {},
     "output_type": "display_data"
    },
    {
     "data": {
      "application/vnd.jupyter.widget-view+json": {
       "model_id": "",
       "version_major": 2,
       "version_minor": 0
      },
      "text/plain": [
       "FloatProgress(value=0.0, bar_style='info', description='Progress:', layout=Layout(height='25px', width='50%'),…"
      ]
     },
     "metadata": {},
     "output_type": "display_data"
    },
    {
     "name": "stdout",
     "output_type": "stream",
     "text": [
      "myEdges: org.apache.spark.rdd.RDD[org.apache.spark.graphx.Edge[String]] = ParallelCollectionRDD[1] at makeRDD at <console>:28\n"
     ]
    }
   ],
   "source": [
    "val myEdges = sc.makeRDD(Array(\n",
    "    Edge(1L, 2L, \"is-friends-with\"),\n",
    "    Edge(2L, 3L, \"is-friends-with\"), \n",
    "    Edge(3L, 4L, \"is-friends-with\"),\n",
    "    Edge(4L, 5L, \"follows\"), \n",
    "    Edge(3L, 5L, \"follows\")\n",
    "))"
   ]
  },
  {
   "cell_type": "markdown",
   "metadata": {},
   "source": [
    "Create a graph:"
   ]
  },
  {
   "cell_type": "code",
   "execution_count": 6,
   "metadata": {
    "execution": {
     "iopub.execute_input": "2022-12-03T15:06:45.595556Z",
     "iopub.status.busy": "2022-12-03T15:06:45.587445Z",
     "iopub.status.idle": "2022-12-03T15:06:48.169100Z",
     "shell.execute_reply": "2022-12-03T15:06:48.168233Z",
     "shell.execute_reply.started": "2022-12-03T15:06:45.595503Z"
    }
   },
   "outputs": [
    {
     "data": {
      "application/vnd.jupyter.widget-view+json": {
       "model_id": "047146d965c646549686d11996f04530",
       "version_major": 2,
       "version_minor": 0
      },
      "text/plain": [
       "VBox()"
      ]
     },
     "metadata": {},
     "output_type": "display_data"
    },
    {
     "data": {
      "application/vnd.jupyter.widget-view+json": {
       "model_id": "",
       "version_major": 2,
       "version_minor": 0
      },
      "text/plain": [
       "FloatProgress(value=0.0, bar_style='info', description='Progress:', layout=Layout(height='25px', width='50%'),…"
      ]
     },
     "metadata": {},
     "output_type": "display_data"
    },
    {
     "name": "stdout",
     "output_type": "stream",
     "text": [
      "myGraph: org.apache.spark.graphx.Graph[String,String] = org.apache.spark.graphx.impl.GraphImpl@4cf57931\n"
     ]
    }
   ],
   "source": [
    "val myGraph = Graph(myVertices, myEdges)"
   ]
  },
  {
   "cell_type": "markdown",
   "metadata": {},
   "source": [
    "Look at vertices, edges and triplets:"
   ]
  },
  {
   "cell_type": "code",
   "execution_count": 7,
   "metadata": {
    "execution": {
     "iopub.execute_input": "2022-12-03T15:06:48.174085Z",
     "iopub.status.busy": "2022-12-03T15:06:48.172178Z",
     "iopub.status.idle": "2022-12-03T15:06:53.854827Z",
     "shell.execute_reply": "2022-12-03T15:06:53.853044Z",
     "shell.execute_reply.started": "2022-12-03T15:06:48.174048Z"
    }
   },
   "outputs": [
    {
     "data": {
      "application/vnd.jupyter.widget-view+json": {
       "model_id": "e1cf462332144014826ef14343bdbe8d",
       "version_major": 2,
       "version_minor": 0
      },
      "text/plain": [
       "VBox()"
      ]
     },
     "metadata": {},
     "output_type": "display_data"
    },
    {
     "data": {
      "application/vnd.jupyter.widget-view+json": {
       "model_id": "",
       "version_major": 2,
       "version_minor": 0
      },
      "text/plain": [
       "FloatProgress(value=0.0, bar_style='info', description='Progress:', layout=Layout(height='25px', width='50%'),…"
      ]
     },
     "metadata": {},
     "output_type": "display_data"
    },
    {
     "name": "stdout",
     "output_type": "stream",
     "text": [
      "res2: Array[(org.apache.spark.graphx.VertexId, String)] = Array((1,Alice), (2,Bob), (3,Charlie), (4,John Doe), (5,Eve))\n"
     ]
    }
   ],
   "source": [
    "myGraph.vertices.collect"
   ]
  },
  {
   "cell_type": "code",
   "execution_count": 8,
   "metadata": {
    "execution": {
     "iopub.execute_input": "2022-12-03T15:06:53.859693Z",
     "iopub.status.busy": "2022-12-03T15:06:53.858291Z",
     "iopub.status.idle": "2022-12-03T15:06:55.418728Z",
     "shell.execute_reply": "2022-12-03T15:06:55.417842Z",
     "shell.execute_reply.started": "2022-12-03T15:06:53.859655Z"
    }
   },
   "outputs": [
    {
     "data": {
      "application/vnd.jupyter.widget-view+json": {
       "model_id": "e50d18f007be402a947d2cfc6afc308c",
       "version_major": 2,
       "version_minor": 0
      },
      "text/plain": [
       "VBox()"
      ]
     },
     "metadata": {},
     "output_type": "display_data"
    },
    {
     "data": {
      "application/vnd.jupyter.widget-view+json": {
       "model_id": "",
       "version_major": 2,
       "version_minor": 0
      },
      "text/plain": [
       "FloatProgress(value=0.0, bar_style='info', description='Progress:', layout=Layout(height='25px', width='50%'),…"
      ]
     },
     "metadata": {},
     "output_type": "display_data"
    },
    {
     "name": "stdout",
     "output_type": "stream",
     "text": [
      "res3: Array[org.apache.spark.graphx.Edge[String]] = Array(Edge(1,2,is-friends-with), Edge(2,3,is-friends-with), Edge(3,4,is-friends-with), Edge(4,5,follows), Edge(3,5,follows))\n"
     ]
    }
   ],
   "source": [
    "myGraph.edges.collect"
   ]
  },
  {
   "cell_type": "code",
   "execution_count": 9,
   "metadata": {
    "execution": {
     "iopub.execute_input": "2022-12-03T15:06:55.423358Z",
     "iopub.status.busy": "2022-12-03T15:06:55.421946Z",
     "iopub.status.idle": "2022-12-03T15:06:58.218523Z",
     "shell.execute_reply": "2022-12-03T15:06:58.217590Z",
     "shell.execute_reply.started": "2022-12-03T15:06:55.423319Z"
    }
   },
   "outputs": [
    {
     "data": {
      "application/vnd.jupyter.widget-view+json": {
       "model_id": "741645078f0e4eb6b11d1efb075134ad",
       "version_major": 2,
       "version_minor": 0
      },
      "text/plain": [
       "VBox()"
      ]
     },
     "metadata": {},
     "output_type": "display_data"
    },
    {
     "data": {
      "application/vnd.jupyter.widget-view+json": {
       "model_id": "",
       "version_major": 2,
       "version_minor": 0
      },
      "text/plain": [
       "FloatProgress(value=0.0, bar_style='info', description='Progress:', layout=Layout(height='25px', width='50%'),…"
      ]
     },
     "metadata": {},
     "output_type": "display_data"
    },
    {
     "name": "stdout",
     "output_type": "stream",
     "text": [
      "res4: Array[org.apache.spark.graphx.EdgeTriplet[String,String]] = Array(((1,Alice),(2,Bob),is-friends-with), ((2,Bob),(3,Charlie),is-friends-with), ((3,Charlie),(4,John Doe),is-friends-with), ((4,John Doe),(5,Eve),follows), ((3,Charlie),(5,Eve),follows))\n"
     ]
    }
   ],
   "source": [
    "myGraph.triplets.collect"
   ]
  },
  {
   "cell_type": "markdown",
   "metadata": {},
   "source": [
    "Iterate over all triplets:"
   ]
  },
  {
   "cell_type": "code",
   "execution_count": 10,
   "metadata": {
    "execution": {
     "iopub.execute_input": "2022-12-03T15:06:58.225569Z",
     "iopub.status.busy": "2022-12-03T15:06:58.219881Z",
     "iopub.status.idle": "2022-12-03T15:07:01.153824Z",
     "shell.execute_reply": "2022-12-03T15:07:01.152896Z",
     "shell.execute_reply.started": "2022-12-03T15:06:58.225530Z"
    }
   },
   "outputs": [
    {
     "data": {
      "application/vnd.jupyter.widget-view+json": {
       "model_id": "97eded37907e41e7a29b0cd6839e6074",
       "version_major": 2,
       "version_minor": 0
      },
      "text/plain": [
       "VBox()"
      ]
     },
     "metadata": {},
     "output_type": "display_data"
    },
    {
     "data": {
      "application/vnd.jupyter.widget-view+json": {
       "model_id": "",
       "version_major": 2,
       "version_minor": 0
      },
      "text/plain": [
       "FloatProgress(value=0.0, bar_style='info', description='Progress:', layout=Layout(height='25px', width='50%'),…"
      ]
     },
     "metadata": {},
     "output_type": "display_data"
    },
    {
     "name": "stdout",
     "output_type": "stream",
     "text": [
      "Alice is-friends-with Bob\n",
      "Bob is-friends-with Charlie\n",
      "Charlie is-friends-with John Doe\n",
      "John Doe follows Eve\n",
      "Charlie follows Eve\n"
     ]
    }
   ],
   "source": [
    "myGraph.triplets.map(\n",
    "  triplet => triplet.srcAttr + \" \" + triplet.attr + \" \" + triplet.dstAttr\n",
    ").collect.foreach(println(_))"
   ]
  },
  {
   "cell_type": "markdown",
   "metadata": {},
   "source": [
    "## Simple graph analysis\n",
    "Compute pagerank:"
   ]
  },
  {
   "cell_type": "code",
   "execution_count": 11,
   "metadata": {
    "execution": {
     "iopub.execute_input": "2022-12-03T15:07:01.206068Z",
     "iopub.status.busy": "2022-12-03T15:07:01.205062Z",
     "iopub.status.idle": "2022-12-03T15:07:09.534415Z",
     "shell.execute_reply": "2022-12-03T15:07:09.533506Z",
     "shell.execute_reply.started": "2022-12-03T15:07:01.206022Z"
    }
   },
   "outputs": [
    {
     "data": {
      "application/vnd.jupyter.widget-view+json": {
       "model_id": "4118166d5a4c454e8719956dd78ee63c",
       "version_major": 2,
       "version_minor": 0
      },
      "text/plain": [
       "VBox()"
      ]
     },
     "metadata": {},
     "output_type": "display_data"
    },
    {
     "data": {
      "application/vnd.jupyter.widget-view+json": {
       "model_id": "",
       "version_major": 2,
       "version_minor": 0
      },
      "text/plain": [
       "FloatProgress(value=0.0, bar_style='info', description='Progress:', layout=Layout(height='25px', width='50%'),…"
      ]
     },
     "metadata": {},
     "output_type": "display_data"
    },
    {
     "name": "stdout",
     "output_type": "stream",
     "text": [
      "myPageRankGraph: org.apache.spark.graphx.Graph[Double,Double] = org.apache.spark.graphx.impl.GraphImpl@320b703d\n"
     ]
    }
   ],
   "source": [
    "val myPageRankGraph = myGraph.pageRank(0.0001)"
   ]
  },
  {
   "cell_type": "code",
   "execution_count": 12,
   "metadata": {
    "execution": {
     "iopub.execute_input": "2022-12-03T15:07:09.538951Z",
     "iopub.status.busy": "2022-12-03T15:07:09.537566Z",
     "iopub.status.idle": "2022-12-03T15:07:11.337803Z",
     "shell.execute_reply": "2022-12-03T15:07:11.336964Z",
     "shell.execute_reply.started": "2022-12-03T15:07:09.538905Z"
    }
   },
   "outputs": [
    {
     "data": {
      "application/vnd.jupyter.widget-view+json": {
       "model_id": "cd8dc9834a394633b096bee495bad96d",
       "version_major": 2,
       "version_minor": 0
      },
      "text/plain": [
       "VBox()"
      ]
     },
     "metadata": {},
     "output_type": "display_data"
    },
    {
     "data": {
      "application/vnd.jupyter.widget-view+json": {
       "model_id": "",
       "version_major": 2,
       "version_minor": 0
      },
      "text/plain": [
       "FloatProgress(value=0.0, bar_style='info', description='Progress:', layout=Layout(height='25px', width='50%'),…"
      ]
     },
     "metadata": {},
     "output_type": "display_data"
    },
    {
     "name": "stdout",
     "output_type": "stream",
     "text": [
      "res6: Array[(org.apache.spark.graphx.VertexId, Double)] = Array((1,0.4390416708169825), (2,0.8122270910114175), (3,1.1294346981766874), (4,0.9190514175420748), (5,1.7002451224528383))\n"
     ]
    }
   ],
   "source": [
    "myPageRankGraph.vertices.collect"
   ]
  },
  {
   "cell_type": "code",
   "execution_count": 13,
   "metadata": {
    "execution": {
     "iopub.execute_input": "2022-12-03T15:07:11.338956Z",
     "iopub.status.busy": "2022-12-03T15:07:11.338683Z",
     "iopub.status.idle": "2022-12-03T15:07:17.927851Z",
     "shell.execute_reply": "2022-12-03T15:07:17.926917Z",
     "shell.execute_reply.started": "2022-12-03T15:07:11.338924Z"
    }
   },
   "outputs": [
    {
     "data": {
      "application/vnd.jupyter.widget-view+json": {
       "model_id": "7af12faaf92f4a72b26ced2f5be42a28",
       "version_major": 2,
       "version_minor": 0
      },
      "text/plain": [
       "VBox()"
      ]
     },
     "metadata": {},
     "output_type": "display_data"
    },
    {
     "data": {
      "application/vnd.jupyter.widget-view+json": {
       "model_id": "",
       "version_major": 2,
       "version_minor": 0
      },
      "text/plain": [
       "FloatProgress(value=0.0, bar_style='info', description='Progress:', layout=Layout(height='25px', width='50%'),…"
      ]
     },
     "metadata": {},
     "output_type": "display_data"
    },
    {
     "name": "stdout",
     "output_type": "stream",
     "text": [
      "(1,(0.4390416708169825,Alice))\n",
      "(2,(0.8122270910114175,Bob))\n",
      "(3,(1.1294346981766874,Charlie))\n",
      "(4,(0.9190514175420748,John Doe))\n",
      "(5,(1.7002451224528383,Eve))\n"
     ]
    }
   ],
   "source": [
    "myGraph.pageRank(0.0001).vertices.join(myVertices).collect.foreach(println)"
   ]
  },
  {
   "cell_type": "code",
   "execution_count": 41,
   "metadata": {
    "execution": {
     "iopub.execute_input": "2022-12-03T16:00:12.922840Z",
     "iopub.status.busy": "2022-12-03T16:00:12.922125Z",
     "iopub.status.idle": "2022-12-03T16:00:14.442844Z",
     "shell.execute_reply": "2022-12-03T16:00:14.441955Z",
     "shell.execute_reply.started": "2022-12-03T16:00:12.922802Z"
    },
    "tags": []
   },
   "outputs": [
    {
     "data": {
      "application/vnd.jupyter.widget-view+json": {
       "model_id": "e9ea470c0ff44bb0b9036e647515faea",
       "version_major": 2,
       "version_minor": 0
      },
      "text/plain": [
       "VBox()"
      ]
     },
     "metadata": {},
     "output_type": "display_data"
    },
    {
     "data": {
      "application/vnd.jupyter.widget-view+json": {
       "model_id": "",
       "version_major": 2,
       "version_minor": 0
      },
      "text/plain": [
       "FloatProgress(value=0.0, bar_style='info', description='Progress:', layout=Layout(height='25px', width='50%'),…"
      ]
     },
     "metadata": {},
     "output_type": "display_data"
    }
   ],
   "source": [
    "myGraph.inDegrees.foreach(x => println(x._1 + \" has \" + x._2 + \" in degrees.\"))"
   ]
  },
  {
   "cell_type": "markdown",
   "metadata": {},
   "source": [
    "## Pregel program example\n",
    "\n",
    "Goal: collect all the names of friends and followers in all the vertices. \n",
    "In every step all vertices send their names to all their connections, and merge together."
   ]
  },
  {
   "cell_type": "markdown",
   "metadata": {},
   "source": [
    "Initialize the graph such that all vertices start with empty set:\n"
   ]
  },
  {
   "cell_type": "code",
   "execution_count": 15,
   "metadata": {
    "execution": {
     "iopub.execute_input": "2022-12-03T15:07:19.069198Z",
     "iopub.status.busy": "2022-12-03T15:07:19.058101Z",
     "iopub.status.idle": "2022-12-03T15:07:21.025027Z",
     "shell.execute_reply": "2022-12-03T15:07:20.943966Z",
     "shell.execute_reply.started": "2022-12-03T15:07:19.069154Z"
    }
   },
   "outputs": [
    {
     "data": {
      "application/vnd.jupyter.widget-view+json": {
       "model_id": "5c1f3af8a190426f804a68aeabaa6f75",
       "version_major": 2,
       "version_minor": 0
      },
      "text/plain": [
       "VBox()"
      ]
     },
     "metadata": {},
     "output_type": "display_data"
    },
    {
     "data": {
      "application/vnd.jupyter.widget-view+json": {
       "model_id": "",
       "version_major": 2,
       "version_minor": 0
      },
      "text/plain": [
       "FloatProgress(value=0.0, bar_style='info', description='Progress:', layout=Layout(height='25px', width='50%'),…"
      ]
     },
     "metadata": {},
     "output_type": "display_data"
    },
    {
     "name": "stdout",
     "output_type": "stream",
     "text": [
      "initialGraph: org.apache.spark.graphx.Graph[scala.collection.immutable.Set[String],String] = org.apache.spark.graphx.impl.GraphImpl@70e07188\n"
     ]
    }
   ],
   "source": [
    "val initialGraph = myGraph.mapVertices((_,v) => Set(v))"
   ]
  },
  {
   "cell_type": "code",
   "execution_count": 16,
   "metadata": {
    "execution": {
     "iopub.execute_input": "2022-12-03T15:07:21.026754Z",
     "iopub.status.busy": "2022-12-03T15:07:21.026417Z",
     "iopub.status.idle": "2022-12-03T15:07:22.705818Z",
     "shell.execute_reply": "2022-12-03T15:07:22.703646Z",
     "shell.execute_reply.started": "2022-12-03T15:07:21.026718Z"
    }
   },
   "outputs": [
    {
     "data": {
      "application/vnd.jupyter.widget-view+json": {
       "model_id": "a31bb53159494204863b1bc15d40e7d4",
       "version_major": 2,
       "version_minor": 0
      },
      "text/plain": [
       "VBox()"
      ]
     },
     "metadata": {},
     "output_type": "display_data"
    },
    {
     "data": {
      "application/vnd.jupyter.widget-view+json": {
       "model_id": "",
       "version_major": 2,
       "version_minor": 0
      },
      "text/plain": [
       "FloatProgress(value=0.0, bar_style='info', description='Progress:', layout=Layout(height='25px', width='50%'),…"
      ]
     },
     "metadata": {},
     "output_type": "display_data"
    },
    {
     "name": "stdout",
     "output_type": "stream",
     "text": [
      "res9: Array[(org.apache.spark.graphx.VertexId, scala.collection.immutable.Set[String])] = Array((1,Set(Alice)), (2,Set(Bob)), (3,Set(Charlie)), (4,Set(John Doe)), (5,Set(Eve)))\n"
     ]
    }
   ],
   "source": [
    "initialGraph.vertices.collect"
   ]
  },
  {
   "cell_type": "markdown",
   "metadata": {},
   "source": [
    "Run Pregel for 1 step:"
   ]
  },
  {
   "cell_type": "code",
   "execution_count": 17,
   "metadata": {
    "execution": {
     "iopub.execute_input": "2022-12-03T15:07:22.716381Z",
     "iopub.status.busy": "2022-12-03T15:07:22.708824Z",
     "iopub.status.idle": "2022-12-03T15:07:26.214687Z",
     "shell.execute_reply": "2022-12-03T15:07:26.210464Z",
     "shell.execute_reply.started": "2022-12-03T15:07:22.716340Z"
    }
   },
   "outputs": [
    {
     "data": {
      "application/vnd.jupyter.widget-view+json": {
       "model_id": "0c0fca72a0a3405cbdb7e94e5f9be7d3",
       "version_major": 2,
       "version_minor": 0
      },
      "text/plain": [
       "VBox()"
      ]
     },
     "metadata": {},
     "output_type": "display_data"
    },
    {
     "data": {
      "application/vnd.jupyter.widget-view+json": {
       "model_id": "",
       "version_major": 2,
       "version_minor": 0
      },
      "text/plain": [
       "FloatProgress(value=0.0, bar_style='info', description='Progress:', layout=Layout(height='25px', width='50%'),…"
      ]
     },
     "metadata": {},
     "output_type": "display_data"
    },
    {
     "name": "stdout",
     "output_type": "stream",
     "text": [
      "g: org.apache.spark.graphx.Graph[scala.collection.immutable.Set[String],String] = org.apache.spark.graphx.impl.GraphImpl@723b561c\n",
      "res11: Array[(org.apache.spark.graphx.VertexId, scala.collection.immutable.Set[String])] = Array((1,Set(Alice)), (2,Set(Bob, Alice)), (3,Set(Charlie, Bob)), (4,Set(John Doe, Charlie)), (5,Set(Eve, Charlie, John Doe)))\n"
     ]
    }
   ],
   "source": [
    "val g = Pregel(initialGraph,                                   //  Graph<VD,ED> graph\n",
    "               Set[String](),                                  //  A initialMsg\n",
    "               1,                                              //  int maxIterations,\n",
    "               activeDirection = EdgeDirection.Out)(           //  EdgeDirection activeDirection,\n",
    "               (id, value, message) => value union message,    //  scala.Function3<Object,VD,A,VD> vprog\n",
    "               triplet =>                                      //  scala.Function1<EdgeTriplet<VD,ED>,scala.collection.Iterator<scala.Tuple2<Object,A>>> sendMsg,\n",
    "                    Iterator((triplet.dstId, triplet.srcAttr)),\n",
    "               (a,b) => a union b                              //  mergeMsg\n",
    "              )              \n",
    "\n",
    "g.vertices.collect"
   ]
  },
  {
   "cell_type": "markdown",
   "metadata": {},
   "source": [
    "Run Pregel for 2 steps:"
   ]
  },
  {
   "cell_type": "code",
   "execution_count": 18,
   "metadata": {
    "execution": {
     "iopub.execute_input": "2022-12-03T15:07:26.219099Z",
     "iopub.status.busy": "2022-12-03T15:07:26.215969Z",
     "iopub.status.idle": "2022-12-03T15:07:30.411583Z",
     "shell.execute_reply": "2022-12-03T15:07:30.410570Z",
     "shell.execute_reply.started": "2022-12-03T15:07:26.219063Z"
    }
   },
   "outputs": [
    {
     "data": {
      "application/vnd.jupyter.widget-view+json": {
       "model_id": "7be70c75060f49daab809f95fe75127d",
       "version_major": 2,
       "version_minor": 0
      },
      "text/plain": [
       "VBox()"
      ]
     },
     "metadata": {},
     "output_type": "display_data"
    },
    {
     "data": {
      "application/vnd.jupyter.widget-view+json": {
       "model_id": "",
       "version_major": 2,
       "version_minor": 0
      },
      "text/plain": [
       "FloatProgress(value=0.0, bar_style='info', description='Progress:', layout=Layout(height='25px', width='50%'),…"
      ]
     },
     "metadata": {},
     "output_type": "display_data"
    },
    {
     "name": "stdout",
     "output_type": "stream",
     "text": [
      "g: org.apache.spark.graphx.Graph[scala.collection.immutable.Set[String],String] = org.apache.spark.graphx.impl.GraphImpl@45c03434\n",
      "res13: Array[(org.apache.spark.graphx.VertexId, scala.collection.immutable.Set[String])] = Array((1,Set(Alice)), (2,Set(Bob, Alice)), (3,Set(Charlie, Bob, Alice)), (4,Set(John Doe, Charlie, Bob)), (5,Set(Eve, Charlie, John Doe, Bob)))\n"
     ]
    }
   ],
   "source": [
    "val g = Pregel(initialGraph,                                   //  Graph<VD,ED> graph\n",
    "               Set[String](),                                  //  A initialMsg\n",
    "               2,                                              //  int maxIterations,\n",
    "               activeDirection = EdgeDirection.Out)(           //  EdgeDirection activeDirection,\n",
    "               (id, value, message) => value union message,    //  scala.Function3<Object,VD,A,VD> vprog\n",
    "               triplet =>                                      //  scala.Function1<EdgeTriplet<VD,ED>,scala.collection.Iterator<scala.Tuple2<Object,A>>> sendMsg,\n",
    "                    Iterator((triplet.dstId, triplet.srcAttr)),\n",
    "               (a,b) => a union b                              //  mergeMsg\n",
    "              )              \n",
    "\n",
    "g.vertices.collect"
   ]
  },
  {
   "cell_type": "markdown",
   "metadata": {},
   "source": [
    "Run Pregel for 3 steps:"
   ]
  },
  {
   "cell_type": "code",
   "execution_count": 19,
   "metadata": {
    "execution": {
     "iopub.execute_input": "2022-12-03T15:07:30.412757Z",
     "iopub.status.busy": "2022-12-03T15:07:30.412484Z",
     "iopub.status.idle": "2022-12-03T15:07:34.424005Z",
     "shell.execute_reply": "2022-12-03T15:07:34.234253Z",
     "shell.execute_reply.started": "2022-12-03T15:07:30.412724Z"
    }
   },
   "outputs": [
    {
     "data": {
      "application/vnd.jupyter.widget-view+json": {
       "model_id": "839d93d3bf9040e9b944d0a94e0b649c",
       "version_major": 2,
       "version_minor": 0
      },
      "text/plain": [
       "VBox()"
      ]
     },
     "metadata": {},
     "output_type": "display_data"
    },
    {
     "data": {
      "application/vnd.jupyter.widget-view+json": {
       "model_id": "",
       "version_major": 2,
       "version_minor": 0
      },
      "text/plain": [
       "FloatProgress(value=0.0, bar_style='info', description='Progress:', layout=Layout(height='25px', width='50%'),…"
      ]
     },
     "metadata": {},
     "output_type": "display_data"
    },
    {
     "name": "stdout",
     "output_type": "stream",
     "text": [
      "g: org.apache.spark.graphx.Graph[scala.collection.immutable.Set[String],String] = org.apache.spark.graphx.impl.GraphImpl@542bceb0\n",
      "res15: Array[(org.apache.spark.graphx.VertexId, scala.collection.immutable.Set[String])] = Array((1,Set(Alice)), (2,Set(Bob, Alice)), (3,Set(Charlie, Bob, Alice)), (4,Set(John Doe, Charlie, Bob, Alice)), (5,Set(Eve, Bob, Alice, John Doe, Charlie)))\n"
     ]
    }
   ],
   "source": [
    "val g = Pregel(initialGraph,                                   //  Graph<VD,ED> graph\n",
    "               Set[String](),                                  //  A initialMsg\n",
    "               3,                                              //  int maxIterations,\n",
    "               activeDirection = EdgeDirection.Out)(           //  EdgeDirection activeDirection,\n",
    "               (id, value, message) => value union message,    //  scala.Function3<Object,VD,A,VD> vprog\n",
    "               triplet =>                                      //  scala.Function1<EdgeTriplet<VD,ED>,scala.collection.Iterator<scala.Tuple2<Object,A>>> sendMsg,\n",
    "                    Iterator((triplet.dstId, triplet.srcAttr)),\n",
    "               (a,b) => a union b                              //  mergeMsg\n",
    "              )              \n",
    "\n",
    "g.vertices.collect"
   ]
  },
  {
   "cell_type": "markdown",
   "metadata": {},
   "source": [
    "The same but with more explicit type definitions:"
   ]
  },
  {
   "cell_type": "code",
   "execution_count": 20,
   "metadata": {
    "execution": {
     "iopub.execute_input": "2022-12-03T15:07:34.425399Z",
     "iopub.status.busy": "2022-12-03T15:07:34.425074Z",
     "iopub.status.idle": "2022-12-03T15:07:40.523769Z",
     "shell.execute_reply": "2022-12-03T15:07:40.511577Z",
     "shell.execute_reply.started": "2022-12-03T15:07:34.425363Z"
    }
   },
   "outputs": [
    {
     "data": {
      "application/vnd.jupyter.widget-view+json": {
       "model_id": "9ee59ad48b37414b98ecadfc9afa8baf",
       "version_major": 2,
       "version_minor": 0
      },
      "text/plain": [
       "VBox()"
      ]
     },
     "metadata": {},
     "output_type": "display_data"
    },
    {
     "data": {
      "application/vnd.jupyter.widget-view+json": {
       "model_id": "",
       "version_major": 2,
       "version_minor": 0
      },
      "text/plain": [
       "FloatProgress(value=0.0, bar_style='info', description='Progress:', layout=Layout(height='25px', width='50%'),…"
      ]
     },
     "metadata": {},
     "output_type": "display_data"
    },
    {
     "name": "stdout",
     "output_type": "stream",
     "text": [
      "vprog: (id: org.apache.spark.graphx.VertexId, value: Set[String], message: Set[String])Set[String]\n",
      "sendMsg: (et: org.apache.spark.graphx.EdgeTriplet[Set[String],String])Iterator[(org.apache.spark.graphx.VertexId, Set[String])]\n",
      "mergeMsg: (a: Set[String], b: Set[String])Set[String]\n",
      "g: org.apache.spark.graphx.Graph[scala.collection.immutable.Set[String],String] = org.apache.spark.graphx.impl.GraphImpl@41e524a2\n",
      "res22: Array[(org.apache.spark.graphx.VertexId, scala.collection.immutable.Set[String])] = Array((1,Set(Alice)), (2,Set(Bob, Alice)), (3,Set(Charlie, Bob, Alice)), (4,Set(John Doe, Charlie, Bob, Alice)), (5,Set(Eve, Bob, Alice, John Doe, Charlie)))\n"
     ]
    }
   ],
   "source": [
    "\n",
    "// Vertex program - a function to apply to each vertex on a received message\n",
    "def vprog(id:VertexId, value:Set[String], message:Set[String]): Set[String] = {\n",
    "    value union message\n",
    "}\n",
    "\n",
    "// Send function: \n",
    "def sendMsg(et:EdgeTriplet[Set[String],String]): Iterator[Tuple2[VertexId,Set[String]]] = {                 \n",
    "                    Iterator((et.dstId, et.srcAttr))\n",
    "}\n",
    "\n",
    "def mergeMsg(a:Set[String],b:Set[String]): Set[String] = {\n",
    "    a union b\n",
    "} \n",
    "\n",
    "val g = Pregel(initialGraph,                                 //  Graph<VD,ED> graph\n",
    "               Set[String](),                                //  A initialMsg\n",
    "               4,                                            //  int maxIterations,\n",
    "               activeDirection = EdgeDirection.Out)(         //  EdgeDirection activeDirection,\n",
    "               vprog,                                        //  scala.Function3<Object,VD,A,VD> vprog\n",
    "               sendMsg ,                                     //  scala.Function1<EdgeTriplet<VD,ED>,scala.collection.Iterator<scala.Tuple2<Object,A>>> sendMsg,\n",
    "               mergeMsg                                      //  mergeMsg: (A, A) => A\n",
    "              )              \n",
    "\n",
    "g.vertices.collect"
   ]
  },
  {
   "cell_type": "markdown",
   "metadata": {},
   "source": [
    "# Homework"
   ]
  },
  {
   "cell_type": "markdown",
   "metadata": {},
   "source": [
    "## 1. Wczytać graf Facebooka, krawędzie z pliku musae_facebook_edges.csv, atrybuty page_name oraz page_type z pliku musae_facebook_target.csv.  Policzyć liczbę krawędzi i wierzchołków. (1 p.)"
   ]
  },
  {
   "cell_type": "code",
   "execution_count": 21,
   "metadata": {
    "execution": {
     "iopub.execute_input": "2022-12-03T15:31:13.460734Z",
     "iopub.status.busy": "2022-12-03T15:31:13.460025Z",
     "iopub.status.idle": "2022-12-03T15:31:15.942658Z",
     "shell.execute_reply": "2022-12-03T15:31:15.941797Z",
     "shell.execute_reply.started": "2022-12-03T15:31:13.460695Z"
    }
   },
   "outputs": [
    {
     "data": {
      "application/vnd.jupyter.widget-view+json": {
       "model_id": "f639e458666a4ef597e7a1fc2279928d",
       "version_major": 2,
       "version_minor": 0
      },
      "text/plain": [
       "VBox()"
      ]
     },
     "metadata": {},
     "output_type": "display_data"
    },
    {
     "data": {
      "application/vnd.jupyter.widget-view+json": {
       "model_id": "",
       "version_major": 2,
       "version_minor": 0
      },
      "text/plain": [
       "FloatProgress(value=0.0, bar_style='info', description='Progress:', layout=Layout(height='25px', width='50%'),…"
      ]
     },
     "metadata": {},
     "output_type": "display_data"
    },
    {
     "name": "stdout",
     "output_type": "stream",
     "text": [
      "import org.apache.spark._\n",
      "import org.apache.spark.graphx._\n",
      "import org.apache.spark.sql._\n",
      "import org.apache.spark.rdd.RDD\n"
     ]
    }
   ],
   "source": [
    "import org.apache.spark._\n",
    "import org.apache.spark.graphx._\n",
    "import org.apache.spark.sql._\n",
    "import org.apache.spark.rdd.RDD"
   ]
  },
  {
   "cell_type": "code",
   "execution_count": null,
   "metadata": {
    "execution": {
     "iopub.execute_input": "2022-12-03T16:02:39.076317Z",
     "iopub.status.busy": "2022-12-03T16:02:39.075610Z"
    },
    "tags": []
   },
   "outputs": [
    {
     "data": {
      "application/vnd.jupyter.widget-view+json": {
       "model_id": "c64060a8b4c243afabaf29f281a8f58a",
       "version_major": 2,
       "version_minor": 0
      },
      "text/plain": [
       "VBox()"
      ]
     },
     "metadata": {},
     "output_type": "display_data"
    },
    {
     "data": {
      "application/vnd.jupyter.widget-view+json": {
       "model_id": "",
       "version_major": 2,
       "version_minor": 0
      },
      "text/plain": [
       "FloatProgress(value=0.0, bar_style='info', description='Progress:', layout=Layout(height='25px', width='50%'),…"
      ]
     },
     "metadata": {},
     "output_type": "display_data"
    }
   ],
   "source": [
    "// val sc = (\n",
    "//     SparkContext\n",
    "//     .getOrCreate(\n",
    "//         new SparkConf()\n",
    "//         .setAppName(\"GraphX lab\")\n",
    "//         .setMaster(\"local[*]\")\n",
    "//     )\n",
    "// )\n",
    "\n",
    "val vertices: RDD[(Long, (String, String))] = (\n",
    "    sc.textFile(\"https://e-d2wt81wy42gb0fzz01ci6f1y5.emrnotebooks-prod.us-east-1.amazonaws.com/e-D2WT81WY42GB0FZZ01CI6F1Y5/lab/tree/musae_facebook_target.csv\")\n",
    "    .map(line => {\n",
    "        val x = line.split(\",\");\n",
    "        (x(0).toLong, (x(2), x(3)))\n",
    "    })\n",
    ")\n",
    "\n",
    "val edges: RDD[Edge[String]] = (\n",
    "    sc.textFile(\"https://e-d2wt81wy42gb0fzz01ci6f1y5.emrnotebooks-prod.us-east-1.amazonaws.com/e-D2WT81WY42GB0FZZ01CI6F1Y5/lab/tree/musae_facebook_edges.csv\")\n",
    "    .map(line => {\n",
    "        val x = line.split(\",\");\n",
    "        Edge(x(0).toLong, x(1).toLong, \"\")\n",
    "    })\n",
    ")\n",
    "\n",
    "val default_node = (\"\", \"\")\n",
    "\n",
    "val graph: Graph[(String, String), String] = Graph(vertices, edges, default_node)\n",
    "\n"
   ]
  },
  {
   "cell_type": "code",
   "execution_count": null,
   "metadata": {},
   "outputs": [],
   "source": [
    "graph.vertices.count()\n"
   ]
  },
  {
   "cell_type": "code",
   "execution_count": null,
   "metadata": {},
   "outputs": [],
   "source": [
    "graph.edges.count()\n"
   ]
  },
  {
   "cell_type": "markdown",
   "metadata": {},
   "source": [
    "## 2. Sprawdzić czy graf jest spójny. Czy dwa podgrafy utworzone dla typów strony governmental organizations oraz television shows też są spójne? (1 p.)"
   ]
  },
  {
   "cell_type": "code",
   "execution_count": null,
   "metadata": {},
   "outputs": [],
   "source": [
    "\n",
    "def isConnected(graph: Graph[(String, String), String]): Boolean = {\n",
    "    graph.vertices.count() == graph.connectedComponents().vertices.count()\n",
    "}"
   ]
  },
  {
   "cell_type": "code",
   "execution_count": null,
   "metadata": {},
   "outputs": [],
   "source": [
    "println(isConnected(graph))\n"
   ]
  },
  {
   "cell_type": "code",
   "execution_count": null,
   "metadata": {},
   "outputs": [],
   "source": [
    "val government_graph = graph.subgraph(\n",
    "    vpred = { case (id, (page_name, page_type)) => page_type == \"government\" }\n",
    ")\n",
    "\n",
    "println(isConnected(government_graph))"
   ]
  },
  {
   "cell_type": "code",
   "execution_count": null,
   "metadata": {},
   "outputs": [],
   "source": [
    "\n",
    "val tvshow_graph = graph.subgraph(\n",
    "    vpred = { case (id, (page_name, page_type)) => page_type == \"tvshow\" }\n",
    ")\n",
    "\n",
    "println(isConnected(tvshow_graph))\n"
   ]
  },
  {
   "cell_type": "markdown",
   "metadata": {},
   "source": [
    "## 3. Spośród 1000 stron o najwyższym PageRank znaleźć 50 takich (wypisać page_name i page_type), które mają najmniej połączeń oraz 50 o największej liczbie połączeń. Który typ strony był dominujący w każdej z tych kategorii? Narysować wykres zależności PageRank od liczby krawędzi dla wierzchołków (scatter plot) (2 p.)"
   ]
  },
  {
   "cell_type": "code",
   "execution_count": null,
   "metadata": {},
   "outputs": [],
   "source": [
    "val ranks = graph.pageRank(0.0001).vertices\n",
    "\n",
    "val rankedVertexDegrees = ranks.join(graph.degrees)"
   ]
  },
  {
   "cell_type": "code",
   "execution_count": null,
   "metadata": {},
   "outputs": [],
   "source": [
    "rankedVertexDegrees.takeSample(false, 3)\n"
   ]
  },
  {
   "cell_type": "code",
   "execution_count": null,
   "metadata": {},
   "outputs": [],
   "source": [
    "val graphWithRankedDegrees = graph.outerJoinVertices(rankedVertexDegrees) {\n",
    "    (_, data, vertexWithRank) => (\n",
    "        data._1,  // page_name\n",
    "        data._2,  // page_type\n",
    "        vertexWithRank.getOrElse((0.0, 0))._1,  // PageRank value\n",
    "        vertexWithRank.getOrElse((0.0, 0))._2   // degree\n",
    "    )\n",
    "}\n"
   ]
  },
  {
   "cell_type": "code",
   "execution_count": null,
   "metadata": {},
   "outputs": [],
   "source": [
    "graphWithRankedDegrees.vertices.takeSample(false, 3)"
   ]
  },
  {
   "cell_type": "code",
   "execution_count": null,
   "metadata": {},
   "outputs": [],
   "source": [
    "val top_50 = (\n",
    "    graphWithRankedDegrees.vertices\n",
    "    .top(50)\n",
    "    .map(v => (v._2._2, v._2._1))  // degree, page_type, page_name\n",
    "    .sorted\n",
    ")\n",
    "\n",
    "\n",
    "val last_50 = (\n",
    "    graphWithRankedDegrees.vertices\n",
    "    .takeOrdered(50)\n",
    "    .map(v => (v._2._2, v._2._1))  // degree, page_type, page_name\n",
    "    .sorted\n",
    ")\n"
   ]
  },
  {
   "cell_type": "code",
   "execution_count": null,
   "metadata": {},
   "outputs": [],
   "source": [
    "for (v <- top_50)\n",
    "    println(v)\n"
   ]
  },
  {
   "cell_type": "code",
   "execution_count": null,
   "metadata": {},
   "outputs": [],
   "source": [
    "for (v <- last_50)\n",
    "    println(v)"
   ]
  },
  {
   "cell_type": "code",
   "execution_count": null,
   "metadata": {},
   "outputs": [],
   "source": [
    "val rankedVertexDegreesValues = (\n",
    "    rankedVertexDegrees\n",
    "    .map(v => (v._2._1, v._2._2))\n",
    ")\n",
    "\n",
    "rankedVertexDegreesValues.takeSample(false, 3)\n"
   ]
  },
  {
   "cell_type": "code",
   "execution_count": null,
   "metadata": {},
   "outputs": [],
   "source": [
    "\n",
    "import java.io._\n",
    "\n",
    "val file = \"degree_pagerank.txt\"\n",
    "val writer = new BufferedWriter(new OutputStreamWriter(new FileOutputStream(file)))\n",
    "\n",
    "writer.write(rankedVertexDegreesValues.collect().mkString(\",\"))\n",
    "writer.close()"
   ]
  },
  {
   "cell_type": "code",
   "execution_count": null,
   "metadata": {},
   "outputs": [],
   "source": [
    "%%python\n",
    "from tempfile import NamedTemporaryFile\n",
    "\n",
    "import matplotlib.pyplot as plt\n",
    "from IPython.display import Image\n",
    "\n",
    "with open(\"degree_pagerank.txt\") as file:\n",
    "    text = file.read()\n",
    "\n",
    "tuples = [tup[:-1] for tup in text.split(\",(\")]\n",
    "tuples[0] = tuples[0][1:]\n",
    "tuples = [tup.split(\",\") for tup in tuples]\n",
    "tuples = [(int(tup[1]), float(tup[0])) for tup in tuples]\n",
    "tuples.sort()\n",
    "\n",
    "degrees = [degree for pagerank_value, degree in tuples]\n",
    "pagerank_values = [pagerank_value for pagerank_value, degree in tuples]\n",
    "\n",
    "plt.clf()\n",
    "plt.scatter(degrees, pagerank_values, c=\"b\")\n",
    "plt.title(\"PageRank value per node degree\")\n",
    "\n",
    "with NamedTemporaryFile(suffix=\".png\", delete=False) as file:\n",
    "    plt.savefig(file.name)\n",
    "    retval = Image(filename=file.name)"
   ]
  },
  {
   "cell_type": "markdown",
   "metadata": {},
   "source": [
    "## 4. Korzystając z Pregel API zaimplementować następujący algorytm. W pierwszym kroku wybrana strona publikuje post fake news. W kolejnym kroku ten post publikowany jest przez 1/4 losowo wybranych kontaktów tej strony. W dalszych krokach, dla każdej strony, która opublikowała już ten post, losowo wybrane 1/4 jej kontaktów publikuje go u siebie. Pokazać jak zmienia się liczba stron które opublikowały post w zależności od liczby kroków. (2 p.)\n",
    "Opcjonalnie: Sprawdzić powyższą zależność dla współczynnika innego niż 1/4."
   ]
  },
  {
   "cell_type": "code",
   "execution_count": null,
   "metadata": {},
   "outputs": [],
   "source": [
    "import scala.language.implicitConversions\n",
    "\n",
    "implicit def bool2int(b:Boolean) = if (b) 1 else 0\n",
    "\n",
    "\n",
    "def getPublishersNumber(graph: graphx.Graph[Boolean,String], maxIter: Int): Int = {\n",
    "    val publishGraph = Pregel(\n",
    "        graph,\n",
    "        false,\n",
    "        maxIter,\n",
    "        activeDirection = EdgeDirection.Out\n",
    "    )(\n",
    "        (id, value, msg) => value || (msg && (scala.util.Random.nextFloat() < 0.333)),\n",
    "        triplet => Iterator((triplet.dstId, triplet.srcAttr)),\n",
    "        (a, b) => a || b\n",
    "    )\n",
    "    \n",
    "    publishGraph.vertices.collect().map(v => v._2 * 1).sum\n",
    "}"
   ]
  },
  {
   "cell_type": "code",
   "execution_count": null,
   "metadata": {},
   "outputs": [],
   "source": [
    "val publishId = 1\n",
    "val initialGraph = ((publishId: VertexId) => graph.mapVertices((id, _) => id == publishId))(publishId)\n",
    "\n",
    "val publisherNumbers = for (maxIter <- 1 to 32) yield getPublishersNumber(initialGraph, maxIter)\n",
    "\n"
   ]
  },
  {
   "cell_type": "code",
   "execution_count": null,
   "metadata": {},
   "outputs": [],
   "source": [
    "import java.io._\n",
    "\n",
    "val file = \"publisher_numbers.txt\"\n",
    "val writer = new BufferedWriter(new OutputStreamWriter(new FileOutputStream(file)))\n",
    "\n",
    "writer.write(publisherNumbers.mkString(\",\"))\n",
    "writer.close()\n"
   ]
  },
  {
   "cell_type": "code",
   "execution_count": null,
   "metadata": {},
   "outputs": [],
   "source": [
    "%%python\n",
    "from tempfile import NamedTemporaryFile\n",
    "\n",
    "import matplotlib.pyplot as plt\n",
    "from IPython.display import Image\n",
    "\n",
    "with open(\"publisher_numbers.txt\") as file:\n",
    "    text = file.read()\n",
    "\n",
    "xs = list(range(1, 33))\n",
    "ys = [int(val) for val in text.split(\",\")]\n",
    "\n",
    "plt.clf()\n",
    "plt.scatter(xs, ys, c=\"b\")\n",
    "plt.title(\"Numer of publishers per number of steps\")\n",
    "\n",
    "with NamedTemporaryFile(suffix=\".png\", delete=False) as file:\n",
    "    plt.savefig(file.name)\n",
    "    retval = Image(filename=file.name)"
   ]
  },
  {
   "cell_type": "markdown",
   "metadata": {},
   "source": [
    "## 5. Narysować wykres rozkładu stopnia wierzchołków w grafie w skali logarytmicznej. Można skorzystać z funkcji obliczającej histogram dla RDD. Czy sieć jest bezskalowa (scale-free)? https://barabasi.com/f/623.pdf  (2 p.)"
   ]
  },
  {
   "cell_type": "code",
   "execution_count": null,
   "metadata": {},
   "outputs": [],
   "source": [
    "\n",
    "val degrees = graph.degrees.map(v => v._2)\n",
    "\n",
    "degrees.takeSample(false, 10)"
   ]
  },
  {
   "cell_type": "code",
   "execution_count": null,
   "metadata": {
    "collapsed": false,
    "jupyter": {
     "outputs_hidden": false
    }
   },
   "outputs": [],
   "source": [
    "\n",
    "val (bins, values) = degrees.histogram(degrees.max)"
   ]
  },
  {
   "cell_type": "code",
   "execution_count": null,
   "metadata": {},
   "outputs": [],
   "source": [
    "import java.io._\n",
    "\n",
    "val file = \"histogram_values.txt\"\n",
    "val writer = new BufferedWriter(new OutputStreamWriter(new FileOutputStream(file)))\n",
    "\n",
    "writer.write(values.mkString(\",\"))\n",
    "writer.close()"
   ]
  },
  {
   "cell_type": "code",
   "execution_count": null,
   "metadata": {},
   "outputs": [],
   "source": [
    "%%python\n",
    "from tempfile import NamedTemporaryFile\n",
    "\n",
    "import matplotlib.pyplot as plt\n",
    "import numpy as np\n",
    "from IPython.display import Image\n",
    "\n",
    "with open(\"histogram_values.txt\") as file:\n",
    "    text = file.read()\n",
    "\n",
    "ys = np.array([int(val) for val in text.split(\",\")])\n",
    "xs = list(range(1, len(ys) + 1))\n",
    "\n",
    "plt.clf()\n",
    "plt.scatter(np.log(xs), np.log(ys), color=\"b\")\n",
    "plt.title(\"Degree histogram\")\n",
    "\n",
    "with NamedTemporaryFile(suffix=\".png\", delete=False) as file:\n",
    "    plt.savefig(file.name)\n",
    "    retval = Image(filename=file.name)"
   ]
  }
 ],
 "metadata": {
  "kernelspec": {
   "display_name": "Spark",
   "language": "",
   "name": "sparkkernel"
  },
  "language_info": {
   "codemirror_mode": "text/x-scala",
   "mimetype": "text/x-scala",
   "name": "scala",
   "pygments_lexer": "scala"
  }
 },
 "nbformat": 4,
 "nbformat_minor": 4
}
